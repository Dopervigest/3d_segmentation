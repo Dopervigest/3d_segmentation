{
 "cells": [
  {
   "cell_type": "code",
   "execution_count": 2,
   "id": "7cdc54dd-a356-4fe5-9e18-f38366e304ce",
   "metadata": {},
   "outputs": [
    {
     "name": "stdout",
     "output_type": "stream",
     "text": [
      "path exists\n"
     ]
    }
   ],
   "source": [
    "import os\n",
    "import numpy as np\n",
    "from tqdm import tqdm\n",
    "\n",
    "import torch\n",
    "import torch.nn.functional as F\n",
    "from torchsummary import summary\n",
    "from torch.utils.data import TensorDataset, DataLoader\n",
    "from scripts.models import Segmentation_Network_full\n",
    "from scripts.dataset import H5Dataset\n",
    "\n",
    "out_dir = './models/ACDC'\n",
    "\n",
    "if os.path.exists(out_dir):\n",
    "    print(\"path exists\")\n",
    "else:\n",
    "    os.makedirs(out_dir)\n",
    "\n",
    "device = 'cuda' if torch.cuda.is_available() else 'cpu'"
   ]
  },
  {
   "cell_type": "code",
   "execution_count": 2,
   "id": "d461b669-37c9-4afe-9235-6163641fc487",
   "metadata": {},
   "outputs": [
    {
     "data": {
      "text/plain": [
       "(144918, 144867)"
      ]
     },
     "execution_count": 2,
     "metadata": {},
     "output_type": "execute_result"
    }
   ],
   "source": [
    "train_dataset = H5Dataset('./prepared_data/train/data.hdf5')\n",
    "test_dataset = H5Dataset('./prepared_data/test/data.hdf5')\n",
    "\n",
    "batch_size = 128\n",
    "\n",
    "train_dataloader = DataLoader(train_dataset, batch_size=batch_size, shuffle=True, num_workers=0)\n",
    "test_dataloader = DataLoader(test_dataset, batch_size=batch_size, shuffle=False)\n",
    "\n",
    "len(train_dataset), len(test_dataset)"
   ]
  },
  {
   "cell_type": "code",
   "execution_count": 3,
   "id": "b6af774e-8400-426a-b222-1392947bcaad",
   "metadata": {},
   "outputs": [
    {
     "name": "stdout",
     "output_type": "stream",
     "text": [
      "----------------------------------------------------------------\n",
      "        Layer (type)               Output Shape         Param #\n",
      "================================================================\n",
      "            Conv3d-1          [-1, 32, 8, 8, 8]             288\n",
      "              ReLU-2          [-1, 32, 8, 8, 8]               0\n",
      "            Conv3d-3          [-1, 64, 4, 4, 4]          16,448\n",
      "              ReLU-4          [-1, 64, 4, 4, 4]               0\n",
      "            Conv3d-5         [-1, 128, 2, 2, 2]          65,664\n",
      "              ReLU-6         [-1, 128, 2, 2, 2]               0\n",
      "            Conv3d-7         [-1, 256, 1, 1, 1]         262,400\n",
      "              ReLU-8         [-1, 256, 1, 1, 1]               0\n",
      "            Conv3d-9         [-1, 256, 1, 1, 1]          65,792\n",
      "             ReLU-10         [-1, 256, 1, 1, 1]               0\n",
      "           Conv3d-11         [-1, 256, 1, 1, 1]          65,792\n",
      "             ReLU-12         [-1, 256, 1, 1, 1]               0\n",
      "           Conv3d-13           [-1, 3, 1, 1, 1]             771\n",
      "          Sigmoid-14           [-1, 3, 1, 1, 1]               0\n",
      "          Flatten-15                    [-1, 3]               0\n",
      "================================================================\n",
      "Total params: 477,155\n",
      "Trainable params: 477,155\n",
      "Non-trainable params: 0\n",
      "----------------------------------------------------------------\n",
      "Input size (MB): 0.02\n",
      "Forward/backward pass size (MB): 0.34\n",
      "Params size (MB): 1.82\n",
      "Estimated Total Size (MB): 2.18\n",
      "----------------------------------------------------------------\n"
     ]
    }
   ],
   "source": [
    "model = Segmentation_Network_full().float()#выводит количество параметров и размер тензоров после каждого слоя\n",
    "summary(model, input_size= (next(iter(train_dataloader))[0][0].shape), device='cpu') "
   ]
  },
  {
   "cell_type": "code",
   "execution_count": 4,
   "id": "cd80264b-1420-4479-843a-2c5959c4b96c",
   "metadata": {},
   "outputs": [
    {
     "data": {
      "text/plain": [
       "Segmentation_Network_full(\n",
       "  (network): Sequential(\n",
       "    (0): Conv3d(1, 32, kernel_size=(2, 2, 2), stride=(2, 2, 2))\n",
       "    (1): ReLU()\n",
       "    (2): Conv3d(32, 64, kernel_size=(2, 2, 2), stride=(2, 2, 2))\n",
       "    (3): ReLU()\n",
       "    (4): Conv3d(64, 128, kernel_size=(2, 2, 2), stride=(2, 2, 2))\n",
       "    (5): ReLU()\n",
       "    (6): Conv3d(128, 256, kernel_size=(2, 2, 2), stride=(2, 2, 2))\n",
       "    (7): ReLU()\n",
       "    (8): Conv3d(256, 256, kernel_size=(1, 1, 1), stride=(1, 1, 1))\n",
       "    (9): ReLU()\n",
       "    (10): Conv3d(256, 256, kernel_size=(1, 1, 1), stride=(1, 1, 1))\n",
       "    (11): ReLU()\n",
       "    (12): Conv3d(256, 3, kernel_size=(1, 1, 1), stride=(1, 1, 1))\n",
       "    (13): Sigmoid()\n",
       "    (14): Flatten(start_dim=1, end_dim=-1)\n",
       "  )\n",
       ")"
      ]
     },
     "execution_count": 4,
     "metadata": {},
     "output_type": "execute_result"
    }
   ],
   "source": [
    "opt = torch.optim.Adam(model.parameters(), lr=0.001, weight_decay=1e-5) # выбираем оптимизатор и загружаем в него модель\n",
    "criterion = F.binary_cross_entropy  # выбираем лосс\n",
    "model.to(device).float() "
   ]
  },
  {
   "cell_type": "code",
   "execution_count": 5,
   "id": "2c56269c-ae91-4c36-9b92-6d6d32f189b9",
   "metadata": {
    "scrolled": true
   },
   "outputs": [
    {
     "name": "stderr",
     "output_type": "stream",
     "text": [
      "  1%|▍                                          | 1/100 [00:14<23:20, 14.15s/it]"
     ]
    },
    {
     "name": "stdout",
     "output_type": "stream",
     "text": [
      "EPOCH 1: Loss: 0.340556263923645, Accuracy: 0.742452085018158, Best_accuracy: 0.742452085018158\n",
      "Val_loss: 0.20997147262096405, Val_accuracy: 0.863349974155426, Best_val_accuracy: 0.863349974155426\n",
      "\n"
     ]
    },
    {
     "name": "stderr",
     "output_type": "stream",
     "text": [
      "  2%|▊                                          | 2/100 [00:23<18:12, 11.15s/it]"
     ]
    },
    {
     "name": "stdout",
     "output_type": "stream",
     "text": [
      "EPOCH 2: Loss: 0.1463448703289032, Accuracy: 0.9075143337249756, Best_accuracy: 0.9075143337249756\n",
      "Val_loss: 0.12406840920448303, Val_accuracy: 0.9253858327865601, Best_val_accuracy: 0.9253858327865601\n",
      "\n"
     ]
    },
    {
     "name": "stderr",
     "output_type": "stream",
     "text": [
      "  3%|█▎                                         | 3/100 [00:32<16:25, 10.15s/it]"
     ]
    },
    {
     "name": "stdout",
     "output_type": "stream",
     "text": [
      "EPOCH 3: Loss: 0.09852134436368942, Accuracy: 0.939230740070343, Best_accuracy: 0.939230740070343\n",
      "Val_loss: 0.0990583598613739, Val_accuracy: 0.9404664635658264, Best_val_accuracy: 0.9404664635658264\n",
      "\n"
     ]
    },
    {
     "name": "stderr",
     "output_type": "stream",
     "text": [
      "  4%|█▋                                         | 4/100 [00:40<15:20,  9.58s/it]"
     ]
    },
    {
     "name": "stdout",
     "output_type": "stream",
     "text": [
      "EPOCH 4: Loss: 0.07708033174276352, Accuracy: 0.9519897699356079, Best_accuracy: 0.9519897699356079\n",
      "Val_loss: 0.09363795071840286, Val_accuracy: 0.946140706539154, Best_val_accuracy: 0.946140706539154\n",
      "\n"
     ]
    },
    {
     "name": "stderr",
     "output_type": "stream",
     "text": [
      "  5%|██▏                                        | 5/100 [00:49<14:46,  9.33s/it]"
     ]
    },
    {
     "name": "stdout",
     "output_type": "stream",
     "text": [
      "EPOCH 5: Loss: 0.06291822344064713, Accuracy: 0.9618489742279053, Best_accuracy: 0.9618489742279053\n",
      "Val_loss: 0.08228243142366409, Val_accuracy: 0.9533251523971558, Best_val_accuracy: 0.9533251523971558\n",
      "\n"
     ]
    },
    {
     "name": "stderr",
     "output_type": "stream",
     "text": [
      "  6%|██▌                                        | 6/100 [00:58<14:19,  9.15s/it]"
     ]
    },
    {
     "name": "stdout",
     "output_type": "stream",
     "text": [
      "EPOCH 6: Loss: 0.05547460913658142, Accuracy: 0.966082751750946, Best_accuracy: 0.966082751750946\n",
      "Val_loss: 0.07099242508411407, Val_accuracy: 0.958623468875885, Best_val_accuracy: 0.958623468875885\n",
      "\n"
     ]
    },
    {
     "name": "stderr",
     "output_type": "stream",
     "text": [
      "  7%|███                                        | 7/100 [01:07<14:02,  9.06s/it]"
     ]
    },
    {
     "name": "stdout",
     "output_type": "stream",
     "text": [
      "EPOCH 7: Loss: 0.04960349574685097, Accuracy: 0.9694833755493164, Best_accuracy: 0.9694833755493164\n",
      "Val_loss: 0.07586739212274551, Val_accuracy: 0.9556213021278381, Best_val_accuracy: 0.958623468875885\n",
      "\n"
     ]
    },
    {
     "name": "stderr",
     "output_type": "stream",
     "text": [
      "  8%|███▍                                       | 8/100 [01:16<13:53,  9.06s/it]"
     ]
    },
    {
     "name": "stdout",
     "output_type": "stream",
     "text": [
      "EPOCH 8: Loss: 0.04615351930260658, Accuracy: 0.9716047048568726, Best_accuracy: 0.9716047048568726\n",
      "Val_loss: 0.07242871820926666, Val_accuracy: 0.959679365158081, Best_val_accuracy: 0.959679365158081\n",
      "\n"
     ]
    },
    {
     "name": "stderr",
     "output_type": "stream",
     "text": [
      "  9%|███▊                                       | 9/100 [01:25<13:37,  8.98s/it]"
     ]
    },
    {
     "name": "stdout",
     "output_type": "stream",
     "text": [
      "EPOCH 9: Loss: 0.041941918432712555, Accuracy: 0.9743090271949768, Best_accuracy: 0.9743090271949768\n",
      "Val_loss: 0.06523177027702332, Val_accuracy: 0.9631577134132385, Best_val_accuracy: 0.9631577134132385\n",
      "\n"
     ]
    },
    {
     "name": "stderr",
     "output_type": "stream",
     "text": [
      " 10%|████▏                                     | 10/100 [01:34<13:28,  8.99s/it]"
     ]
    },
    {
     "name": "stdout",
     "output_type": "stream",
     "text": [
      "EPOCH 10: Loss: 0.03949008509516716, Accuracy: 0.9758660793304443, Best_accuracy: 0.9758660793304443\n",
      "Val_loss: 0.06300553679466248, Val_accuracy: 0.9656167030334473, Best_val_accuracy: 0.9656167030334473\n",
      "\n"
     ]
    },
    {
     "name": "stderr",
     "output_type": "stream",
     "text": [
      " 11%|████▌                                     | 11/100 [01:43<13:21,  9.00s/it]"
     ]
    },
    {
     "name": "stdout",
     "output_type": "stream",
     "text": [
      "EPOCH 11: Loss: 0.03777404502034187, Accuracy: 0.9773141145706177, Best_accuracy: 0.9773141145706177\n",
      "Val_loss: 0.06321148574352264, Val_accuracy: 0.9644296765327454, Best_val_accuracy: 0.9656167030334473\n",
      "\n"
     ]
    },
    {
     "name": "stderr",
     "output_type": "stream",
     "text": [
      " 12%|█████                                     | 12/100 [01:52<13:08,  8.96s/it]"
     ]
    },
    {
     "name": "stdout",
     "output_type": "stream",
     "text": [
      "EPOCH 12: Loss: 0.036124203354120255, Accuracy: 0.9779208898544312, Best_accuracy: 0.9779208898544312\n",
      "Val_loss: 0.06811603903770447, Val_accuracy: 0.962925136089325, Best_val_accuracy: 0.9656167030334473\n",
      "\n"
     ]
    },
    {
     "name": "stderr",
     "output_type": "stream",
     "text": [
      " 13%|█████▍                                    | 13/100 [02:01<12:57,  8.94s/it]"
     ]
    },
    {
     "name": "stdout",
     "output_type": "stream",
     "text": [
      "EPOCH 13: Loss: 0.0332791730761528, Accuracy: 0.9795438051223755, Best_accuracy: 0.9795438051223755\n",
      "Val_loss: 0.07084222137928009, Val_accuracy: 0.9640845656394958, Best_val_accuracy: 0.9656167030334473\n",
      "\n"
     ]
    },
    {
     "name": "stderr",
     "output_type": "stream",
     "text": [
      " 14%|█████▉                                    | 14/100 [02:10<12:56,  9.03s/it]"
     ]
    },
    {
     "name": "stdout",
     "output_type": "stream",
     "text": [
      "EPOCH 14: Loss: 0.03208824247121811, Accuracy: 0.9805838465690613, Best_accuracy: 0.9805838465690613\n",
      "Val_loss: 0.06969869881868362, Val_accuracy: 0.9645262956619263, Best_val_accuracy: 0.9656167030334473\n",
      "\n"
     ]
    },
    {
     "name": "stderr",
     "output_type": "stream",
     "text": [
      " 15%|██████▎                                   | 15/100 [02:19<12:48,  9.04s/it]"
     ]
    },
    {
     "name": "stdout",
     "output_type": "stream",
     "text": [
      "EPOCH 15: Loss: 0.029954753816127777, Accuracy: 0.9818456768989563, Best_accuracy: 0.9818456768989563\n",
      "Val_loss: 0.0692938044667244, Val_accuracy: 0.9642156958580017, Best_val_accuracy: 0.9656167030334473\n",
      "\n"
     ]
    },
    {
     "name": "stderr",
     "output_type": "stream",
     "text": [
      " 16%|██████▋                                   | 16/100 [02:28<12:35,  8.99s/it]"
     ]
    },
    {
     "name": "stdout",
     "output_type": "stream",
     "text": [
      "EPOCH 16: Loss: 0.02850109152495861, Accuracy: 0.9824442863464355, Best_accuracy: 0.9824442863464355\n",
      "Val_loss: 0.06637022644281387, Val_accuracy: 0.9648624062538147, Best_val_accuracy: 0.9656167030334473\n",
      "\n"
     ]
    },
    {
     "name": "stderr",
     "output_type": "stream",
     "text": [
      " 17%|███████▏                                  | 17/100 [02:37<12:26,  8.99s/it]"
     ]
    },
    {
     "name": "stdout",
     "output_type": "stream",
     "text": [
      "EPOCH 17: Loss: 0.027105042710900307, Accuracy: 0.9835337400436401, Best_accuracy: 0.9835337400436401\n",
      "Val_loss: 0.06433863937854767, Val_accuracy: 0.9657043814659119, Best_val_accuracy: 0.9657043814659119\n",
      "\n"
     ]
    },
    {
     "name": "stderr",
     "output_type": "stream",
     "text": [
      " 18%|███████▌                                  | 18/100 [02:46<12:22,  9.06s/it]"
     ]
    },
    {
     "name": "stdout",
     "output_type": "stream",
     "text": [
      "EPOCH 18: Loss: 0.026229893788695335, Accuracy: 0.984375, Best_accuracy: 0.984375\n",
      "Val_loss: 0.0697157233953476, Val_accuracy: 0.9648446440696716, Best_val_accuracy: 0.9657043814659119\n",
      "\n"
     ]
    },
    {
     "name": "stderr",
     "output_type": "stream",
     "text": [
      " 19%|███████▉                                  | 19/100 [02:55<12:17,  9.11s/it]"
     ]
    },
    {
     "name": "stdout",
     "output_type": "stream",
     "text": [
      "EPOCH 19: Loss: 0.02445893920958042, Accuracy: 0.985230028629303, Best_accuracy: 0.985230028629303\n",
      "Val_loss: 0.07353024184703827, Val_accuracy: 0.9649196863174438, Best_val_accuracy: 0.9657043814659119\n",
      "\n"
     ]
    },
    {
     "name": "stderr",
     "output_type": "stream",
     "text": [
      " 20%|████████▍                                 | 20/100 [03:04<12:06,  9.09s/it]"
     ]
    },
    {
     "name": "stdout",
     "output_type": "stream",
     "text": [
      "EPOCH 20: Loss: 0.023724719882011414, Accuracy: 0.9858989119529724, Best_accuracy: 0.9858989119529724\n",
      "Val_loss: 0.08293545246124268, Val_accuracy: 0.96182781457901, Best_val_accuracy: 0.9657043814659119\n",
      "\n"
     ]
    },
    {
     "name": "stderr",
     "output_type": "stream",
     "text": [
      " 21%|████████▊                                 | 21/100 [03:13<12:00,  9.12s/it]"
     ]
    },
    {
     "name": "stdout",
     "output_type": "stream",
     "text": [
      "EPOCH 21: Loss: 0.022940779104828835, Accuracy: 0.9861690998077393, Best_accuracy: 0.9861690998077393\n",
      "Val_loss: 0.07832693308591843, Val_accuracy: 0.962863028049469, Best_val_accuracy: 0.9657043814659119\n",
      "\n"
     ]
    },
    {
     "name": "stderr",
     "output_type": "stream",
     "text": [
      " 22%|█████████▏                                | 22/100 [03:23<11:55,  9.17s/it]"
     ]
    },
    {
     "name": "stdout",
     "output_type": "stream",
     "text": [
      "EPOCH 22: Loss: 0.022268442437052727, Accuracy: 0.9866931438446045, Best_accuracy: 0.9866931438446045\n",
      "Val_loss: 0.07254373282194138, Val_accuracy: 0.9654214382171631, Best_val_accuracy: 0.9657043814659119\n",
      "\n"
     ]
    },
    {
     "name": "stderr",
     "output_type": "stream",
     "text": [
      " 23%|█████████▋                                | 23/100 [03:32<11:45,  9.17s/it]"
     ]
    },
    {
     "name": "stdout",
     "output_type": "stream",
     "text": [
      "EPOCH 23: Loss: 0.021128470078110695, Accuracy: 0.9873676300048828, Best_accuracy: 0.9873676300048828\n",
      "Val_loss: 0.08178070187568665, Val_accuracy: 0.9618740677833557, Best_val_accuracy: 0.9657043814659119\n",
      "\n"
     ]
    },
    {
     "name": "stderr",
     "output_type": "stream",
     "text": [
      " 24%|██████████                                | 24/100 [03:41<11:36,  9.16s/it]"
     ]
    },
    {
     "name": "stdout",
     "output_type": "stream",
     "text": [
      "EPOCH 24: Loss: 0.01923223026096821, Accuracy: 0.9883191585540771, Best_accuracy: 0.9883191585540771\n",
      "Val_loss: 0.08950561285018921, Val_accuracy: 0.9612411856651306, Best_val_accuracy: 0.9657043814659119\n",
      "\n"
     ]
    },
    {
     "name": "stderr",
     "output_type": "stream",
     "text": [
      " 25%|██████████▌                               | 25/100 [03:50<11:28,  9.18s/it]"
     ]
    },
    {
     "name": "stdout",
     "output_type": "stream",
     "text": [
      "EPOCH 25: Loss: 0.018104931339621544, Accuracy: 0.9893121123313904, Best_accuracy: 0.9893121123313904\n",
      "Val_loss: 0.0861024260520935, Val_accuracy: 0.962702214717865, Best_val_accuracy: 0.9657043814659119\n",
      "\n"
     ]
    },
    {
     "name": "stderr",
     "output_type": "stream",
     "text": [
      " 26%|██████████▉                               | 26/100 [04:00<11:21,  9.21s/it]"
     ]
    },
    {
     "name": "stdout",
     "output_type": "stream",
     "text": [
      "EPOCH 26: Loss: 0.018335657194256783, Accuracy: 0.9890707731246948, Best_accuracy: 0.9893121123313904\n",
      "Val_loss: 0.0815872922539711, Val_accuracy: 0.9655870795249939, Best_val_accuracy: 0.9657043814659119\n",
      "\n"
     ]
    },
    {
     "name": "stderr",
     "output_type": "stream",
     "text": [
      " 27%|███████████▎                              | 27/100 [04:09<11:13,  9.22s/it]"
     ]
    },
    {
     "name": "stdout",
     "output_type": "stream",
     "text": [
      "EPOCH 27: Loss: 0.016836099326610565, Accuracy: 0.9897409081459045, Best_accuracy: 0.9897409081459045\n",
      "Val_loss: 0.09098906069993973, Val_accuracy: 0.9620722532272339, Best_val_accuracy: 0.9657043814659119\n",
      "\n"
     ]
    },
    {
     "name": "stderr",
     "output_type": "stream",
     "text": [
      " 28%|███████████▊                              | 28/100 [04:18<11:10,  9.31s/it]"
     ]
    },
    {
     "name": "stdout",
     "output_type": "stream",
     "text": [
      "EPOCH 28: Loss: 0.016166478395462036, Accuracy: 0.9902843832969666, Best_accuracy: 0.9902843832969666\n",
      "Val_loss: 0.08865068852901459, Val_accuracy: 0.9643172025680542, Best_val_accuracy: 0.9657043814659119\n",
      "\n"
     ]
    },
    {
     "name": "stderr",
     "output_type": "stream",
     "text": [
      " 29%|████████████▏                             | 29/100 [04:27<10:58,  9.27s/it]"
     ]
    },
    {
     "name": "stdout",
     "output_type": "stream",
     "text": [
      "EPOCH 29: Loss: 0.01533920131623745, Accuracy: 0.9909394383430481, Best_accuracy: 0.9909394383430481\n",
      "Val_loss: 0.08111181110143661, Val_accuracy: 0.9644848704338074, Best_val_accuracy: 0.9657043814659119\n",
      "\n"
     ]
    },
    {
     "name": "stderr",
     "output_type": "stream",
     "text": [
      " 30%|████████████▌                             | 30/100 [04:37<10:46,  9.24s/it]"
     ]
    },
    {
     "name": "stdout",
     "output_type": "stream",
     "text": [
      "EPOCH 30: Loss: 0.015284714289009571, Accuracy: 0.9909808039665222, Best_accuracy: 0.9909808039665222\n",
      "Val_loss: 0.08787766844034195, Val_accuracy: 0.9641791582107544, Best_val_accuracy: 0.9657043814659119\n",
      "\n"
     ]
    },
    {
     "name": "stderr",
     "output_type": "stream",
     "text": [
      " 31%|█████████████                             | 31/100 [04:46<10:43,  9.32s/it]"
     ]
    },
    {
     "name": "stdout",
     "output_type": "stream",
     "text": [
      "EPOCH 31: Loss: 0.014097217470407486, Accuracy: 0.991780698299408, Best_accuracy: 0.991780698299408\n",
      "Val_loss: 0.09598743170499802, Val_accuracy: 0.962467610836029, Best_val_accuracy: 0.9657043814659119\n",
      "\n"
     ]
    },
    {
     "name": "stderr",
     "output_type": "stream",
     "text": [
      " 32%|█████████████▍                            | 32/100 [04:55<10:30,  9.27s/it]"
     ]
    },
    {
     "name": "stdout",
     "output_type": "stream",
     "text": [
      "EPOCH 32: Loss: 0.014355480670928955, Accuracy: 0.9918358325958252, Best_accuracy: 0.9918358325958252\n",
      "Val_loss: 0.09473811835050583, Val_accuracy: 0.9629320502281189, Best_val_accuracy: 0.9657043814659119\n",
      "\n"
     ]
    },
    {
     "name": "stderr",
     "output_type": "stream",
     "text": [
      " 33%|█████████████▊                            | 33/100 [05:05<10:20,  9.27s/it]"
     ]
    },
    {
     "name": "stdout",
     "output_type": "stream",
     "text": [
      "EPOCH 33: Loss: 0.013295873999595642, Accuracy: 0.9924495220184326, Best_accuracy: 0.9924495220184326\n",
      "Val_loss: 0.09313281625509262, Val_accuracy: 0.963691234588623, Best_val_accuracy: 0.9657043814659119\n",
      "\n"
     ]
    },
    {
     "name": "stderr",
     "output_type": "stream",
     "text": [
      " 34%|██████████████▎                           | 34/100 [05:14<10:13,  9.30s/it]"
     ]
    },
    {
     "name": "stdout",
     "output_type": "stream",
     "text": [
      "EPOCH 34: Loss: 0.012629670090973377, Accuracy: 0.9928218722343445, Best_accuracy: 0.9928218722343445\n",
      "Val_loss: 0.09982644766569138, Val_accuracy: 0.9622073769569397, Best_val_accuracy: 0.9657043814659119\n",
      "\n"
     ]
    },
    {
     "name": "stderr",
     "output_type": "stream",
     "text": [
      " 35%|██████████████▋                           | 35/100 [05:23<10:04,  9.30s/it]"
     ]
    },
    {
     "name": "stdout",
     "output_type": "stream",
     "text": [
      "EPOCH 35: Loss: 0.012151390314102173, Accuracy: 0.9928839206695557, Best_accuracy: 0.9928839206695557\n",
      "Val_loss: 0.10043876618146896, Val_accuracy: 0.9607767462730408, Best_val_accuracy: 0.9657043814659119\n",
      "\n"
     ]
    },
    {
     "name": "stderr",
     "output_type": "stream",
     "text": [
      " 36%|███████████████                           | 36/100 [05:32<09:52,  9.26s/it]"
     ]
    },
    {
     "name": "stdout",
     "output_type": "stream",
     "text": [
      "EPOCH 36: Loss: 0.012243302538990974, Accuracy: 0.9928839206695557, Best_accuracy: 0.9928839206695557\n",
      "Val_loss: 0.10274017602205276, Val_accuracy: 0.9639307260513306, Best_val_accuracy: 0.9657043814659119\n",
      "\n"
     ]
    },
    {
     "name": "stderr",
     "output_type": "stream",
     "text": [
      " 37%|███████████████▌                          | 37/100 [05:42<09:43,  9.25s/it]"
     ]
    },
    {
     "name": "stdout",
     "output_type": "stream",
     "text": [
      "EPOCH 37: Loss: 0.011523083783686161, Accuracy: 0.9933114647865295, Best_accuracy: 0.9933114647865295\n",
      "Val_loss: 0.10295543074607849, Val_accuracy: 0.962591826915741, Best_val_accuracy: 0.9657043814659119\n",
      "\n"
     ]
    },
    {
     "name": "stderr",
     "output_type": "stream",
     "text": [
      " 38%|███████████████▉                          | 38/100 [05:51<09:35,  9.29s/it]"
     ]
    },
    {
     "name": "stdout",
     "output_type": "stream",
     "text": [
      "EPOCH 38: Loss: 0.011121293529868126, Accuracy: 0.9936988949775696, Best_accuracy: 0.9936988949775696\n",
      "Val_loss: 0.0996306911110878, Val_accuracy: 0.9634703397750854, Best_val_accuracy: 0.9657043814659119\n",
      "\n"
     ]
    },
    {
     "name": "stderr",
     "output_type": "stream",
     "text": [
      " 39%|████████████████▍                         | 39/100 [06:00<09:22,  9.22s/it]"
     ]
    },
    {
     "name": "stdout",
     "output_type": "stream",
     "text": [
      "EPOCH 39: Loss: 0.01152058970183134, Accuracy: 0.993511438369751, Best_accuracy: 0.9936988949775696\n",
      "Val_loss: 0.09651150554418564, Val_accuracy: 0.9632425904273987, Best_val_accuracy: 0.9657043814659119\n",
      "\n"
     ]
    },
    {
     "name": "stderr",
     "output_type": "stream",
     "text": [
      " 40%|████████████████▊                         | 40/100 [06:09<09:15,  9.25s/it]"
     ]
    },
    {
     "name": "stdout",
     "output_type": "stream",
     "text": [
      "EPOCH 40: Loss: 0.010407259687781334, Accuracy: 0.9941251277923584, Best_accuracy: 0.9941251277923584\n",
      "Val_loss: 0.11202199757099152, Val_accuracy: 0.9626263380050659, Best_val_accuracy: 0.9657043814659119\n",
      "\n"
     ]
    },
    {
     "name": "stderr",
     "output_type": "stream",
     "text": [
      " 41%|█████████████████▏                        | 41/100 [06:19<09:06,  9.26s/it]"
     ]
    },
    {
     "name": "stdout",
     "output_type": "stream",
     "text": [
      "EPOCH 41: Loss: 0.009832063689827919, Accuracy: 0.9944905638694763, Best_accuracy: 0.9944905638694763\n",
      "Val_loss: 0.1011468842625618, Val_accuracy: 0.9639327526092529, Best_val_accuracy: 0.9657043814659119\n",
      "\n"
     ]
    },
    {
     "name": "stderr",
     "output_type": "stream",
     "text": [
      " 42%|█████████████████▋                        | 42/100 [06:28<08:58,  9.28s/it]"
     ]
    },
    {
     "name": "stdout",
     "output_type": "stream",
     "text": [
      "EPOCH 42: Loss: 0.01049812976270914, Accuracy: 0.9942492246627808, Best_accuracy: 0.9944905638694763\n",
      "Val_loss: 0.10915551334619522, Val_accuracy: 0.9626332521438599, Best_val_accuracy: 0.9657043814659119\n",
      "\n"
     ]
    },
    {
     "name": "stderr",
     "output_type": "stream",
     "text": [
      " 43%|██████████████████                        | 43/100 [06:37<08:51,  9.32s/it]"
     ]
    },
    {
     "name": "stdout",
     "output_type": "stream",
     "text": [
      "EPOCH 43: Loss: 0.009830310009419918, Accuracy: 0.9946008920669556, Best_accuracy: 0.9946008920669556\n",
      "Val_loss: 0.10908284783363342, Val_accuracy: 0.9641998410224915, Best_val_accuracy: 0.9657043814659119\n",
      "\n"
     ]
    },
    {
     "name": "stderr",
     "output_type": "stream",
     "text": [
      " 44%|██████████████████▍                       | 44/100 [06:47<08:41,  9.31s/it]"
     ]
    },
    {
     "name": "stdout",
     "output_type": "stream",
     "text": [
      "EPOCH 44: Loss: 0.009582228027284145, Accuracy: 0.9946836233139038, Best_accuracy: 0.9946836233139038\n",
      "Val_loss: 0.10644444078207016, Val_accuracy: 0.9640362858772278, Best_val_accuracy: 0.9657043814659119\n",
      "\n"
     ]
    },
    {
     "name": "stderr",
     "output_type": "stream",
     "text": [
      " 45%|██████████████████▉                       | 45/100 [06:56<08:31,  9.30s/it]"
     ]
    },
    {
     "name": "stdout",
     "output_type": "stream",
     "text": [
      "EPOCH 45: Loss: 0.009088434278964996, Accuracy: 0.9950767159461975, Best_accuracy: 0.9950767159461975\n",
      "Val_loss: 0.10044672340154648, Val_accuracy: 0.964878261089325, Best_val_accuracy: 0.9657043814659119\n",
      "\n"
     ]
    },
    {
     "name": "stderr",
     "output_type": "stream",
     "text": [
      " 46%|███████████████████▎                      | 46/100 [07:05<08:17,  9.21s/it]"
     ]
    },
    {
     "name": "stdout",
     "output_type": "stream",
     "text": [
      "EPOCH 46: Loss: 0.008803912438452244, Accuracy: 0.9950698018074036, Best_accuracy: 0.9950767159461975\n",
      "Val_loss: 0.11655675619840622, Val_accuracy: 0.9628146886825562, Best_val_accuracy: 0.9657043814659119\n",
      "\n"
     ]
    },
    {
     "name": "stderr",
     "output_type": "stream",
     "text": [
      " 47%|███████████████████▋                      | 47/100 [07:14<08:08,  9.22s/it]"
     ]
    },
    {
     "name": "stdout",
     "output_type": "stream",
     "text": [
      "EPOCH 47: Loss: 0.0091100400313735, Accuracy: 0.9951262474060059, Best_accuracy: 0.9951262474060059\n",
      "Val_loss: 0.11466269940137863, Val_accuracy: 0.9630631804466248, Best_val_accuracy: 0.9657043814659119\n",
      "\n"
     ]
    },
    {
     "name": "stderr",
     "output_type": "stream",
     "text": [
      " 48%|████████████████████▏                     | 48/100 [07:24<08:04,  9.31s/it]"
     ]
    },
    {
     "name": "stdout",
     "output_type": "stream",
     "text": [
      "EPOCH 48: Loss: 0.008494256995618343, Accuracy: 0.9952835440635681, Best_accuracy: 0.9952835440635681\n",
      "Val_loss: 0.12438071519136429, Val_accuracy: 0.9628216028213501, Best_val_accuracy: 0.9657043814659119\n",
      "\n"
     ]
    },
    {
     "name": "stderr",
     "output_type": "stream",
     "text": [
      " 49%|████████████████████▌                     | 49/100 [07:33<07:55,  9.32s/it]"
     ]
    },
    {
     "name": "stdout",
     "output_type": "stream",
     "text": [
      "EPOCH 49: Loss: 0.009363910183310509, Accuracy: 0.994807779788971, Best_accuracy: 0.9952835440635681\n",
      "Val_loss: 0.11235111951828003, Val_accuracy: 0.9632957577705383, Best_val_accuracy: 0.9657043814659119\n",
      "\n"
     ]
    },
    {
     "name": "stderr",
     "output_type": "stream",
     "text": [
      " 50%|█████████████████████                     | 50/100 [07:43<07:48,  9.37s/it]"
     ]
    },
    {
     "name": "stdout",
     "output_type": "stream",
     "text": [
      "EPOCH 50: Loss: 0.008061528205871582, Accuracy: 0.995648980140686, Best_accuracy: 0.995648980140686\n",
      "Val_loss: 0.116889089345932, Val_accuracy: 0.963564932346344, Best_val_accuracy: 0.9657043814659119\n",
      "\n"
     ]
    },
    {
     "name": "stderr",
     "output_type": "stream",
     "text": [
      " 51%|█████████████████████▍                    | 51/100 [07:52<07:40,  9.39s/it]"
     ]
    },
    {
     "name": "stdout",
     "output_type": "stream",
     "text": [
      "EPOCH 51: Loss: 0.007700319401919842, Accuracy: 0.9956628084182739, Best_accuracy: 0.9956628084182739\n",
      "Val_loss: 0.11682956665754318, Val_accuracy: 0.9629023671150208, Best_val_accuracy: 0.9657043814659119\n",
      "\n"
     ]
    },
    {
     "name": "stderr",
     "output_type": "stream",
     "text": [
      " 52%|█████████████████████▊                    | 52/100 [08:01<07:30,  9.39s/it]"
     ]
    },
    {
     "name": "stdout",
     "output_type": "stream",
     "text": [
      "EPOCH 52: Loss: 0.007427569013088942, Accuracy: 0.9958282709121704, Best_accuracy: 0.9958282709121704\n",
      "Val_loss: 0.12576475739479065, Val_accuracy: 0.9621363282203674, Best_val_accuracy: 0.9657043814659119\n",
      "\n"
     ]
    },
    {
     "name": "stderr",
     "output_type": "stream",
     "text": [
      " 53%|██████████████████████▎                   | 53/100 [08:11<07:27,  9.52s/it]"
     ]
    },
    {
     "name": "stdout",
     "output_type": "stream",
     "text": [
      "EPOCH 53: Loss: 0.00804142840206623, Accuracy: 0.995731770992279, Best_accuracy: 0.9958282709121704\n",
      "Val_loss: 0.12315208464860916, Val_accuracy: 0.961577296257019, Best_val_accuracy: 0.9657043814659119\n",
      "\n"
     ]
    },
    {
     "name": "stderr",
     "output_type": "stream",
     "text": [
      " 54%|██████████████████████▋                   | 54/100 [08:21<07:24,  9.65s/it]"
     ]
    },
    {
     "name": "stdout",
     "output_type": "stream",
     "text": [
      "EPOCH 54: Loss: 0.00854629185050726, Accuracy: 0.9953249096870422, Best_accuracy: 0.9958282709121704\n",
      "Val_loss: 0.1134142130613327, Val_accuracy: 0.9638499617576599, Best_val_accuracy: 0.9657043814659119\n",
      "\n"
     ]
    },
    {
     "name": "stderr",
     "output_type": "stream",
     "text": [
      " 54%|██████████████████████▋                   | 54/100 [08:27<07:12,  9.40s/it]\n"
     ]
    },
    {
     "ename": "KeyboardInterrupt",
     "evalue": "",
     "output_type": "error",
     "traceback": [
      "\u001b[0;31m---------------------------------------------------------------------------\u001b[0m",
      "\u001b[0;31mKeyboardInterrupt\u001b[0m                         Traceback (most recent call last)",
      "Cell \u001b[0;32mIn[5], line 20\u001b[0m\n\u001b[1;32m     17\u001b[0m running_eval_loss \u001b[38;5;241m=\u001b[39m \u001b[38;5;241m0.0\u001b[39m \n\u001b[1;32m     18\u001b[0m running_eval_acc \u001b[38;5;241m=\u001b[39m \u001b[38;5;241m0.0\u001b[39m\n\u001b[0;32m---> 20\u001b[0m \u001b[38;5;28;01mfor\u001b[39;00m x,y \u001b[38;5;129;01min\u001b[39;00m \u001b[38;5;28miter\u001b[39m(train_dataloader): \u001b[38;5;66;03m# запуск модели на тренировочном наборе данных. x-данные у-лейблы\u001b[39;00m\n\u001b[1;32m     21\u001b[0m     x \u001b[38;5;241m=\u001b[39m x\u001b[38;5;241m.\u001b[39mto(device)\n\u001b[1;32m     22\u001b[0m     y \u001b[38;5;241m=\u001b[39m y\u001b[38;5;241m.\u001b[39mto(device)\n",
      "File \u001b[0;32m~/anaconda3/envs/torch/lib/python3.11/site-packages/torch/utils/data/dataloader.py:631\u001b[0m, in \u001b[0;36m_BaseDataLoaderIter.__next__\u001b[0;34m(self)\u001b[0m\n\u001b[1;32m    628\u001b[0m \u001b[38;5;28;01mif\u001b[39;00m \u001b[38;5;28mself\u001b[39m\u001b[38;5;241m.\u001b[39m_sampler_iter \u001b[38;5;129;01mis\u001b[39;00m \u001b[38;5;28;01mNone\u001b[39;00m:\n\u001b[1;32m    629\u001b[0m     \u001b[38;5;66;03m# TODO(https://github.com/pytorch/pytorch/issues/76750)\u001b[39;00m\n\u001b[1;32m    630\u001b[0m     \u001b[38;5;28mself\u001b[39m\u001b[38;5;241m.\u001b[39m_reset()  \u001b[38;5;66;03m# type: ignore[call-arg]\u001b[39;00m\n\u001b[0;32m--> 631\u001b[0m data \u001b[38;5;241m=\u001b[39m \u001b[38;5;28mself\u001b[39m\u001b[38;5;241m.\u001b[39m_next_data()\n\u001b[1;32m    632\u001b[0m \u001b[38;5;28mself\u001b[39m\u001b[38;5;241m.\u001b[39m_num_yielded \u001b[38;5;241m+\u001b[39m\u001b[38;5;241m=\u001b[39m \u001b[38;5;241m1\u001b[39m\n\u001b[1;32m    633\u001b[0m \u001b[38;5;28;01mif\u001b[39;00m \u001b[38;5;28mself\u001b[39m\u001b[38;5;241m.\u001b[39m_dataset_kind \u001b[38;5;241m==\u001b[39m _DatasetKind\u001b[38;5;241m.\u001b[39mIterable \u001b[38;5;129;01mand\u001b[39;00m \\\n\u001b[1;32m    634\u001b[0m         \u001b[38;5;28mself\u001b[39m\u001b[38;5;241m.\u001b[39m_IterableDataset_len_called \u001b[38;5;129;01mis\u001b[39;00m \u001b[38;5;129;01mnot\u001b[39;00m \u001b[38;5;28;01mNone\u001b[39;00m \u001b[38;5;129;01mand\u001b[39;00m \\\n\u001b[1;32m    635\u001b[0m         \u001b[38;5;28mself\u001b[39m\u001b[38;5;241m.\u001b[39m_num_yielded \u001b[38;5;241m>\u001b[39m \u001b[38;5;28mself\u001b[39m\u001b[38;5;241m.\u001b[39m_IterableDataset_len_called:\n",
      "File \u001b[0;32m~/anaconda3/envs/torch/lib/python3.11/site-packages/torch/utils/data/dataloader.py:675\u001b[0m, in \u001b[0;36m_SingleProcessDataLoaderIter._next_data\u001b[0;34m(self)\u001b[0m\n\u001b[1;32m    673\u001b[0m \u001b[38;5;28;01mdef\u001b[39;00m \u001b[38;5;21m_next_data\u001b[39m(\u001b[38;5;28mself\u001b[39m):\n\u001b[1;32m    674\u001b[0m     index \u001b[38;5;241m=\u001b[39m \u001b[38;5;28mself\u001b[39m\u001b[38;5;241m.\u001b[39m_next_index()  \u001b[38;5;66;03m# may raise StopIteration\u001b[39;00m\n\u001b[0;32m--> 675\u001b[0m     data \u001b[38;5;241m=\u001b[39m \u001b[38;5;28mself\u001b[39m\u001b[38;5;241m.\u001b[39m_dataset_fetcher\u001b[38;5;241m.\u001b[39mfetch(index)  \u001b[38;5;66;03m# may raise StopIteration\u001b[39;00m\n\u001b[1;32m    676\u001b[0m     \u001b[38;5;28;01mif\u001b[39;00m \u001b[38;5;28mself\u001b[39m\u001b[38;5;241m.\u001b[39m_pin_memory:\n\u001b[1;32m    677\u001b[0m         data \u001b[38;5;241m=\u001b[39m _utils\u001b[38;5;241m.\u001b[39mpin_memory\u001b[38;5;241m.\u001b[39mpin_memory(data, \u001b[38;5;28mself\u001b[39m\u001b[38;5;241m.\u001b[39m_pin_memory_device)\n",
      "File \u001b[0;32m~/anaconda3/envs/torch/lib/python3.11/site-packages/torch/utils/data/_utils/fetch.py:51\u001b[0m, in \u001b[0;36m_MapDatasetFetcher.fetch\u001b[0;34m(self, possibly_batched_index)\u001b[0m\n\u001b[1;32m     49\u001b[0m         data \u001b[38;5;241m=\u001b[39m \u001b[38;5;28mself\u001b[39m\u001b[38;5;241m.\u001b[39mdataset\u001b[38;5;241m.\u001b[39m__getitems__(possibly_batched_index)\n\u001b[1;32m     50\u001b[0m     \u001b[38;5;28;01melse\u001b[39;00m:\n\u001b[0;32m---> 51\u001b[0m         data \u001b[38;5;241m=\u001b[39m [\u001b[38;5;28mself\u001b[39m\u001b[38;5;241m.\u001b[39mdataset[idx] \u001b[38;5;28;01mfor\u001b[39;00m idx \u001b[38;5;129;01min\u001b[39;00m possibly_batched_index]\n\u001b[1;32m     52\u001b[0m \u001b[38;5;28;01melse\u001b[39;00m:\n\u001b[1;32m     53\u001b[0m     data \u001b[38;5;241m=\u001b[39m \u001b[38;5;28mself\u001b[39m\u001b[38;5;241m.\u001b[39mdataset[possibly_batched_index]\n",
      "File \u001b[0;32m~/anaconda3/envs/torch/lib/python3.11/site-packages/torch/utils/data/_utils/fetch.py:51\u001b[0m, in \u001b[0;36m<listcomp>\u001b[0;34m(.0)\u001b[0m\n\u001b[1;32m     49\u001b[0m         data \u001b[38;5;241m=\u001b[39m \u001b[38;5;28mself\u001b[39m\u001b[38;5;241m.\u001b[39mdataset\u001b[38;5;241m.\u001b[39m__getitems__(possibly_batched_index)\n\u001b[1;32m     50\u001b[0m     \u001b[38;5;28;01melse\u001b[39;00m:\n\u001b[0;32m---> 51\u001b[0m         data \u001b[38;5;241m=\u001b[39m [\u001b[38;5;28mself\u001b[39m\u001b[38;5;241m.\u001b[39mdataset[idx] \u001b[38;5;28;01mfor\u001b[39;00m idx \u001b[38;5;129;01min\u001b[39;00m possibly_batched_index]\n\u001b[1;32m     52\u001b[0m \u001b[38;5;28;01melse\u001b[39;00m:\n\u001b[1;32m     53\u001b[0m     data \u001b[38;5;241m=\u001b[39m \u001b[38;5;28mself\u001b[39m\u001b[38;5;241m.\u001b[39mdataset[possibly_batched_index]\n",
      "File \u001b[0;32m~/Documents/clean/scripts/dataset.py:132\u001b[0m, in \u001b[0;36mH5Dataset.__getitem__\u001b[0;34m(self, index)\u001b[0m\n\u001b[1;32m    131\u001b[0m \u001b[38;5;28;01mdef\u001b[39;00m \u001b[38;5;21m__getitem__\u001b[39m(\u001b[38;5;28mself\u001b[39m, index):            \n\u001b[0;32m--> 132\u001b[0m     \u001b[38;5;28;01mreturn\u001b[39;00m (torch\u001b[38;5;241m.\u001b[39mfrom_numpy(\u001b[38;5;28mself\u001b[39m\u001b[38;5;241m.\u001b[39mdata[index])\u001b[38;5;241m.\u001b[39mfloat(),\n\u001b[1;32m    133\u001b[0m             torch\u001b[38;5;241m.\u001b[39mfrom_numpy(\u001b[38;5;28mself\u001b[39m\u001b[38;5;241m.\u001b[39mtarget[index])\u001b[38;5;241m.\u001b[39mfloat())\n",
      "\u001b[0;31mKeyboardInterrupt\u001b[0m: "
     ]
    }
   ],
   "source": [
    "# файл для записи логов\n",
    "with open(f'{out_dir}/logs.csv', 'w') as file:\n",
    "    file.write('epoch,loss,accuracy,best_accuracy,val_loss,val_accuracy,best_val_accuracy\\n')\n",
    "\n",
    "# начало train loop\n",
    "epochs = 100\n",
    "\n",
    "best_accuracy = 0.0 # содержит максимальные значения точности\n",
    "best_eval_accuracy = 0.0\n",
    "\n",
    "for epoch in tqdm(range(epochs)): # начало цикла обучения\n",
    "    model.train() # для изменения весов модель должна быть в train mode\n",
    "    \n",
    "    running_loss = 0.0  # running переменные позволяют посчитать среднее значение не по батчу, а по эпохе\n",
    "    running_acc = 0.0\n",
    "    \n",
    "    running_eval_loss = 0.0 \n",
    "    running_eval_acc = 0.0\n",
    "\n",
    "    for x,y in iter(train_dataloader): # запуск модели на тренировочном наборе данных. x-данные у-лейблы\n",
    "        x = x.to(device)\n",
    "        y = y.to(device)\n",
    "        \n",
    "        opt.zero_grad() # обнуляет градиенты \n",
    "        \n",
    "        \n",
    "        pred = model(x) # запускаем модель на данных и получаем предсказания\n",
    "        loss = criterion(pred,y) # считает лосс для батча\n",
    "        loss.backward() # прокидывание лосса, считает градиент \n",
    "        opt.step() # запуск оптимизатора, изменяет веса модели\n",
    "        \n",
    "        running_loss += loss.detach() # записываем running чтобы рассчитать средний лосс по всей эпохе\n",
    "        \n",
    "        accuracy = torch.div(torch.sum(torch.argmax(pred, dim=1) == torch.argmax(y, dim=1)),\n",
    "                             y.size(dim=0)) # рассчитать точность для батча\n",
    "        \n",
    "        running_acc += accuracy # собираем точность чтобы рассчитать среднюю по эпохе\n",
    "            \n",
    "    running_loss = running_loss/len(train_dataloader) # рассчитываем средние значения для эпохи\n",
    "    running_acc = running_acc/len(train_dataloader)\n",
    "\n",
    "    if running_acc > best_accuracy: # выбираем лучшую точность\n",
    "            best_accuracy = running_acc\n",
    "    \n",
    "    \n",
    "    for x,y in iter(test_dataloader): # запуск модели на тестовом наборе данных\n",
    "        x = x.to(device)\n",
    "        y = y.to(device)\n",
    "        \n",
    "        model.eval() # запускает inference mode модели, он не дает изменить веса\n",
    "        pred = model(x) \n",
    "        loss = criterion(pred,y) # лосс для тестового батча\n",
    "        \n",
    "        running_eval_loss += loss.detach()\n",
    "        \n",
    "        accuracy = torch.div(torch.sum(torch.argmax(pred, dim=1) == torch.argmax(y, dim=1)),\n",
    "                             y.size(dim=0)) # точность для тестового батча\n",
    "        running_eval_acc += accuracy\n",
    "    \n",
    "    running_eval_loss = running_eval_loss/len(test_dataloader)\n",
    "    running_eval_acc = running_eval_acc/len(test_dataloader)\n",
    "\n",
    "    if running_eval_acc>= best_eval_accuracy:\n",
    "            best_eval_accuracy = running_eval_acc\n",
    "            torch.save(model, f'{out_dir}/best.pt') #сохраняем лучшую модель\n",
    "\n",
    "    \n",
    "    # вывод данных в консоль\n",
    "    print(f'EPOCH {epoch+1}: Loss: {running_loss}, Accuracy: {running_acc}, Best_accuracy: {best_accuracy}')\n",
    "    print(f'Val_loss: {running_eval_loss}, Val_accuracy: {running_eval_acc}, Best_val_accuracy: {best_eval_accuracy}')\n",
    "    print()\n",
    "        \n",
    "    # логирование (вывод данных в файл)\n",
    "    with open(f'{out_dir}/logs.csv', 'a') as file:\n",
    "        file.write(f'{epoch+1},{running_loss},{running_acc},{best_accuracy},{running_eval_loss},{running_eval_acc},{best_eval_accuracy}\\n')\n",
    "          \n",
    "            \n",
    "torch.save(model, f'{out_dir}/last.pt') # сохраняем модель с последней эпохи обучения"
   ]
  },
  {
   "cell_type": "code",
   "execution_count": 3,
   "id": "4981bf2d-0596-405d-9893-7419c7db7f51",
   "metadata": {},
   "outputs": [
    {
     "data": {
      "text/html": [
       "<div>\n",
       "<style scoped>\n",
       "    .dataframe tbody tr th:only-of-type {\n",
       "        vertical-align: middle;\n",
       "    }\n",
       "\n",
       "    .dataframe tbody tr th {\n",
       "        vertical-align: top;\n",
       "    }\n",
       "\n",
       "    .dataframe thead th {\n",
       "        text-align: right;\n",
       "    }\n",
       "</style>\n",
       "<table border=\"1\" class=\"dataframe\">\n",
       "  <thead>\n",
       "    <tr style=\"text-align: right;\">\n",
       "      <th></th>\n",
       "      <th>epoch</th>\n",
       "      <th>loss</th>\n",
       "      <th>accuracy</th>\n",
       "      <th>best_accuracy</th>\n",
       "      <th>val_loss</th>\n",
       "      <th>val_accuracy</th>\n",
       "      <th>best_val_accuracy</th>\n",
       "    </tr>\n",
       "  </thead>\n",
       "  <tbody>\n",
       "    <tr>\n",
       "      <th>0</th>\n",
       "      <td>1</td>\n",
       "      <td>0.649585</td>\n",
       "      <td>0.334129</td>\n",
       "      <td>0.334129</td>\n",
       "      <td>0.637797</td>\n",
       "      <td>0.333700</td>\n",
       "      <td>0.333700</td>\n",
       "    </tr>\n",
       "    <tr>\n",
       "      <th>1</th>\n",
       "      <td>2</td>\n",
       "      <td>0.636561</td>\n",
       "      <td>0.358173</td>\n",
       "      <td>0.358173</td>\n",
       "      <td>0.635208</td>\n",
       "      <td>0.406294</td>\n",
       "      <td>0.406294</td>\n",
       "    </tr>\n",
       "    <tr>\n",
       "      <th>2</th>\n",
       "      <td>3</td>\n",
       "      <td>0.613989</td>\n",
       "      <td>0.473270</td>\n",
       "      <td>0.473270</td>\n",
       "      <td>0.583859</td>\n",
       "      <td>0.502436</td>\n",
       "      <td>0.502436</td>\n",
       "    </tr>\n",
       "    <tr>\n",
       "      <th>3</th>\n",
       "      <td>4</td>\n",
       "      <td>0.559360</td>\n",
       "      <td>0.533243</td>\n",
       "      <td>0.533243</td>\n",
       "      <td>0.538962</td>\n",
       "      <td>0.559579</td>\n",
       "      <td>0.559579</td>\n",
       "    </tr>\n",
       "    <tr>\n",
       "      <th>4</th>\n",
       "      <td>5</td>\n",
       "      <td>0.535839</td>\n",
       "      <td>0.566208</td>\n",
       "      <td>0.566208</td>\n",
       "      <td>0.522716</td>\n",
       "      <td>0.584998</td>\n",
       "      <td>0.584998</td>\n",
       "    </tr>\n",
       "    <tr>\n",
       "      <th>5</th>\n",
       "      <td>6</td>\n",
       "      <td>0.520022</td>\n",
       "      <td>0.588777</td>\n",
       "      <td>0.588777</td>\n",
       "      <td>0.504308</td>\n",
       "      <td>0.609662</td>\n",
       "      <td>0.609662</td>\n",
       "    </tr>\n",
       "    <tr>\n",
       "      <th>6</th>\n",
       "      <td>7</td>\n",
       "      <td>0.503520</td>\n",
       "      <td>0.609677</td>\n",
       "      <td>0.609677</td>\n",
       "      <td>0.489494</td>\n",
       "      <td>0.623972</td>\n",
       "      <td>0.623972</td>\n",
       "    </tr>\n",
       "    <tr>\n",
       "      <th>7</th>\n",
       "      <td>8</td>\n",
       "      <td>0.483053</td>\n",
       "      <td>0.633413</td>\n",
       "      <td>0.633413</td>\n",
       "      <td>0.472410</td>\n",
       "      <td>0.643424</td>\n",
       "      <td>0.643424</td>\n",
       "    </tr>\n",
       "    <tr>\n",
       "      <th>8</th>\n",
       "      <td>9</td>\n",
       "      <td>0.457530</td>\n",
       "      <td>0.664767</td>\n",
       "      <td>0.664767</td>\n",
       "      <td>0.431864</td>\n",
       "      <td>0.693052</td>\n",
       "      <td>0.693052</td>\n",
       "    </tr>\n",
       "    <tr>\n",
       "      <th>9</th>\n",
       "      <td>10</td>\n",
       "      <td>0.423821</td>\n",
       "      <td>0.700703</td>\n",
       "      <td>0.700703</td>\n",
       "      <td>0.394995</td>\n",
       "      <td>0.729928</td>\n",
       "      <td>0.729928</td>\n",
       "    </tr>\n",
       "  </tbody>\n",
       "</table>\n",
       "</div>"
      ],
      "text/plain": [
       "   epoch      loss  accuracy  best_accuracy  val_loss  val_accuracy  \\\n",
       "0      1  0.649585  0.334129       0.334129  0.637797      0.333700   \n",
       "1      2  0.636561  0.358173       0.358173  0.635208      0.406294   \n",
       "2      3  0.613989  0.473270       0.473270  0.583859      0.502436   \n",
       "3      4  0.559360  0.533243       0.533243  0.538962      0.559579   \n",
       "4      5  0.535839  0.566208       0.566208  0.522716      0.584998   \n",
       "5      6  0.520022  0.588777       0.588777  0.504308      0.609662   \n",
       "6      7  0.503520  0.609677       0.609677  0.489494      0.623972   \n",
       "7      8  0.483053  0.633413       0.633413  0.472410      0.643424   \n",
       "8      9  0.457530  0.664767       0.664767  0.431864      0.693052   \n",
       "9     10  0.423821  0.700703       0.700703  0.394995      0.729928   \n",
       "\n",
       "   best_val_accuracy  \n",
       "0           0.333700  \n",
       "1           0.406294  \n",
       "2           0.502436  \n",
       "3           0.559579  \n",
       "4           0.584998  \n",
       "5           0.609662  \n",
       "6           0.623972  \n",
       "7           0.643424  \n",
       "8           0.693052  \n",
       "9           0.729928  "
      ]
     },
     "execution_count": 3,
     "metadata": {},
     "output_type": "execute_result"
    }
   ],
   "source": [
    "# все логи сохранились\n",
    "\n",
    "import pandas as pd\n",
    "\n",
    "df = pd.read_csv(f'{out_dir}/logs.csv')\n",
    "df"
   ]
  },
  {
   "cell_type": "code",
   "execution_count": 4,
   "id": "ece332cf-aec5-4b77-ab88-97b5b35eb6b5",
   "metadata": {},
   "outputs": [
    {
     "data": {
      "text/plain": [
       "<matplotlib.legend.Legend at 0x7960548fcfd0>"
      ]
     },
     "execution_count": 4,
     "metadata": {},
     "output_type": "execute_result"
    },
    {
     "data": {
      "image/png": "[encoded data removed]",
      "text/plain": [
       "<Figure size 640x480 with 1 Axes>"
      ]
     },
     "metadata": {},
     "output_type": "display_data"
    }
   ],
   "source": [
    "import matplotlib.pyplot as plt\n",
    "\n",
    "# рисуем графики\n",
    "plt.plot(df.epoch, df.loss, label='Training Loss')\n",
    "plt.plot(df.epoch, df.val_loss, label='Validation Loss')\n",
    " \n",
    "# добавляем подписи\n",
    "plt.title('Training and Validation Loss')\n",
    "plt.xlabel('Epochs')\n",
    "plt.ylabel('Loss')\n",
    "plt.legend()"
   ]
  },
  {
   "cell_type": "code",
   "execution_count": 5,
   "id": "3cb35e93-fa6b-4ac9-9182-73a320b40e54",
   "metadata": {},
   "outputs": [
    {
     "data": {
      "text/plain": [
       "<matplotlib.legend.Legend at 0x79605497b310>"
      ]
     },
     "execution_count": 5,
     "metadata": {},
     "output_type": "execute_result"
    },
    {
     "data": {
      "image/png": "[encoded data removed]",
      "text/plain": [
       "<Figure size 640x480 with 1 Axes>"
      ]
     },
     "metadata": {},
     "output_type": "display_data"
    }
   ],
   "source": [
    "# рисуем графики\n",
    "plt.plot(df.epoch, df.accuracy, label='Training accuracy')\n",
    "plt.plot(df.epoch, df.val_accuracy, label='Validation accuracy')\n",
    " \n",
    "# добавляем подписи\n",
    "plt.title('Training and Validation Accuracy')\n",
    "plt.xlabel('Epochs')\n",
    "plt.ylabel('Accuracy')\n",
    "plt.legend()"
   ]
  },
  {
   "cell_type": "code",
   "execution_count": null,
   "id": "5e4a109e-4bd5-4d37-a9db-31ed8dee0463",
   "metadata": {},
   "outputs": [],
   "source": [
    "model = torch.load('./models/best.pt') # загружаем модель с лучшими весами\n",
    "model.to('cpu')\n",
    "\n",
    "preds = model(X_test) # предсказания для всего тестового набора данных\n",
    "\n",
    "# чтобы предсказания модели перевести в номера классов, надо вызвать argmax\n",
    "# sklearn работает с numpy, для этого надо перевести тензоры с gpu на cpu (.cpu) и убрать градиенты (.detach)\n",
    "preds = torch.argmax(preds, dim=1).cpu().detach().numpy() \n",
    "labels = torch.argmax(y_test, dim=1).cpu().detach().numpy() "
   ]
  },
  {
   "cell_type": "code",
   "execution_count": null,
   "id": "84aeecae-9533-4929-b20d-bac3ca7e6958",
   "metadata": {},
   "outputs": [],
   "source": [
    "from sklearn.metrics import classification_report\n",
    "\n",
    "report = classification_report(y_true=labels, y_pred=preds)\n",
    "print(report)\n",
    "\n",
    "# первая колонка (0-9) - классы, которые мы предсказываем\n",
    "# support - количество элементов этого класса в тестовом датасете\n",
    "# macro avg - среднее значение по всем классам\n",
    "# weighted avg - взвешенное, оценивает в соответствии с количеством эелементов классов в наборе данныхfrom sklearn.metrics import confusion_matrix\n"
   ]
  },
  {
   "cell_type": "code",
   "execution_count": null,
   "id": "8d0427b0-71f7-47ab-b0ed-89e5961a5a08",
   "metadata": {},
   "outputs": [],
   "source": [
    "from sklearn.metrics import confusion_matrix\n",
    "from sklearn.metrics import ConfusionMatrixDisplay\n",
    "\n",
    "# рассчитывает confusion matrix\n",
    "cm = confusion_matrix(y_true=preds,y_pred=labels)\n",
    "\n",
    "\n",
    "# рисуем её\n",
    "plt.Figure()\n",
    "disp = ConfusionMatrixDisplay(cm)\n",
    "disp.plot()"
   ]
  },
  {
   "cell_type": "code",
   "execution_count": null,
   "id": "9c7d8d43-a189-42bb-b2f6-fbd9736f3606",
   "metadata": {},
   "outputs": [],
   "source": []
  }
 ],
 "metadata": {
  "kernelspec": {
   "display_name": "Python 3 (ipykernel)",
   "language": "python",
   "name": "python3"
  },
  "language_info": {
   "codemirror_mode": {
    "name": "ipython",
    "version": 3
   },
   "file_extension": ".py",
   "mimetype": "text/x-python",
   "name": "python",
   "nbconvert_exporter": "python",
   "pygments_lexer": "ipython3",
   "version": "3.11.8"
  }
 },
 "nbformat": 4,
 "nbformat_minor": 5
}
