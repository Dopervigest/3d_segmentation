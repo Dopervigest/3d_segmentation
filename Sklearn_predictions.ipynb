{
 "cells": [
  {
   "cell_type": "code",
   "execution_count": 1,
   "id": "8585c1a4-8332-482f-8240-667fcbd7d730",
   "metadata": {},
   "outputs": [],
   "source": [
    "import os\n",
    "import trimesh\n",
    "import random\n",
    "import torch\n",
    "from tqdm import tqdm\n",
    "import pickle\n",
    "\n",
    "from scripts.utils import save_mesh_with_color_clinical, save_mesh_with_color_acdc, dir_checker\n",
    "from scripts import postprocessing\n",
    "\n",
    "import numpy as np\n",
    "from sklearn.utils import shuffle\n",
    "from sklearn import svm\n",
    "import gc\n",
    "\n",
    "# machine learning\n",
    "from sklearn.linear_model import LogisticRegression\n",
    "from sklearn.svm import SVC, LinearSVC\n",
    "from sklearn.ensemble import RandomForestClassifier\n",
    "from sklearn.neighbors import KNeighborsClassifier\n",
    "from sklearn.naive_bayes import GaussianNB\n",
    "from sklearn.linear_model import Perceptron\n",
    "from sklearn.linear_model import SGDClassifier\n",
    "from sklearn.tree import DecisionTreeClassifier\n"
   ]
  },
  {
   "cell_type": "code",
   "execution_count": 2,
   "id": "6255c1f0-404c-442b-8627-b1df46bd0bec",
   "metadata": {},
   "outputs": [
    {
     "name": "stderr",
     "output_type": "stream",
     "text": [
      "  0%|                                                    | 0/10 [00:00<?, ?it/s]"
     ]
    },
    {
     "name": "stdout",
     "output_type": "stream",
     "text": [
      "Folder for predictions: ./predictions/inference/045_gaussian\n"
     ]
    },
    {
     "name": "stderr",
     "output_type": "stream",
     "text": [
      " 10%|████▍                                       | 1/10 [00:01<00:09,  1.03s/it]"
     ]
    },
    {
     "name": "stdout",
     "output_type": "stream",
     "text": [
      "Folder for predictions: ./predictions/inference/045_linear_svc\n"
     ]
    },
    {
     "name": "stderr",
     "output_type": "stream",
     "text": [
      " 20%|████████▊                                   | 2/10 [00:01<00:06,  1.19it/s]"
     ]
    },
    {
     "name": "stdout",
     "output_type": "stream",
     "text": [
      "Folder for predictions: ./predictions/inference/045_svc\n"
     ]
    },
    {
     "name": "stderr",
     "output_type": "stream",
     "text": [
      " 30%|█████████████▏                              | 3/10 [03:12<10:13, 87.58s/it]"
     ]
    },
    {
     "name": "stdout",
     "output_type": "stream",
     "text": [
      "Folder for predictions: ./predictions/inference/045_decision_tree\n"
     ]
    },
    {
     "name": "stderr",
     "output_type": "stream",
     "text": [
      " 40%|█████████████████▌                          | 4/10 [03:13<05:19, 53.23s/it]"
     ]
    },
    {
     "name": "stdout",
     "output_type": "stream",
     "text": [
      "Folder for predictions: ./predictions/inference/045_knn\n"
     ]
    },
    {
     "name": "stderr",
     "output_type": "stream",
     "text": [
      " 50%|██████████████████████                      | 5/10 [03:38<03:36, 43.24s/it]"
     ]
    },
    {
     "name": "stdout",
     "output_type": "stream",
     "text": [
      "Folder for predictions: ./predictions/inference/045_sgd\n"
     ]
    },
    {
     "name": "stderr",
     "output_type": "stream",
     "text": [
      " 60%|██████████████████████████▍                 | 6/10 [03:39<01:55, 28.79s/it]"
     ]
    },
    {
     "name": "stdout",
     "output_type": "stream",
     "text": [
      "Folder for predictions: ./predictions/inference/045_log_reg\n"
     ]
    },
    {
     "name": "stderr",
     "output_type": "stream",
     "text": [
      " 70%|██████████████████████████████▊             | 7/10 [03:39<00:58, 19.55s/it]"
     ]
    },
    {
     "name": "stdout",
     "output_type": "stream",
     "text": [
      "Folder for predictions: ./predictions/inference/045_perceptron\n"
     ]
    },
    {
     "name": "stderr",
     "output_type": "stream",
     "text": [
      " 80%|███████████████████████████████████▏        | 8/10 [03:40<00:27, 13.53s/it]"
     ]
    },
    {
     "name": "stdout",
     "output_type": "stream",
     "text": [
      "Folder for predictions: ./predictions/inference/045_lda\n"
     ]
    },
    {
     "name": "stderr",
     "output_type": "stream",
     "text": [
      " 90%|███████████████████████████████████████▌    | 9/10 [03:41<00:09,  9.54s/it]"
     ]
    },
    {
     "name": "stdout",
     "output_type": "stream",
     "text": [
      "Folder for predictions: ./predictions/inference/045_random_forest\n"
     ]
    },
    {
     "name": "stderr",
     "output_type": "stream",
     "text": [
      "100%|███████████████████████████████████████████| 10/10 [03:41<00:00, 22.19s/it]\n"
     ]
    }
   ],
   "source": [
    "model_dir = './models/no_nn/'\n",
    "for m in tqdm(os.listdir(model_dir)):\n",
    "    path_out = './predictions/inference'\n",
    "    dir_in = './data_for_inference/obj/'\n",
    "    name = '045.obj'\n",
    "    \n",
    "    with open(model_dir + m, 'rb') as f:\n",
    "        model = pickle.load(f)\n",
    "\n",
    "    preprocessed_dir = 'TL_prepared_data/sdf'\n",
    "    preprocessed_dir += '/' + name[:-4]\n",
    "    \n",
    "    mesh = trimesh.load(dir_in+name)\n",
    "\n",
    "    sdf = torch.load(f'{preprocessed_dir}/sdf.pt')\n",
    "    sdf = sdf.view(len(sdf), -1)\n",
    "    \n",
    "    colors = torch.load(f'{preprocessed_dir}/color.pt')\n",
    "    colors= torch.argmax(colors, dim=1)\n",
    "\n",
    "    predicted = model.predict(sdf.float())\n",
    "    \n",
    "    name = name[:-4] + '_' + m\n",
    "    \n",
    "    dirname = dir_checker(path_out, name)\n",
    "    save_mesh_with_color_clinical(mesh, colors, path=f'{dirname}/{name[:-4]}_original.obj')\n",
    "    save_mesh_with_color_clinical(mesh, predicted, path=f'{dirname}/{name[:-4]}_predicted.obj')\n",
    "    \n",
    "    mesh = trimesh.load(f'{dirname}/{name[:-4]}_predicted.obj')\n",
    "    \n",
    "    postprocessing(mesh, f'{dirname}/{name[:-4]}_postprocessed.obj')\n",
    "\n"
   ]
  },
  {
   "cell_type": "code",
   "execution_count": 1,
   "id": "56a8723f-a9b7-494d-898f-0628eeca3e9f",
   "metadata": {},
   "outputs": [],
   "source": [
    "\n",
    "import os\n",
    "import trimesh\n",
    "import random\n",
    "import torch\n",
    "from tqdm import tqdm\n",
    "import pickle\n",
    "\n",
    "from scripts.utils import save_mesh_with_color_clinical, save_mesh_with_color_acdc, dir_checker\n",
    "from scripts import postprocessing\n",
    "\n",
    "import numpy as np\n",
    "from sklearn.utils import shuffle\n",
    "from sklearn import svm\n",
    "import gc\n",
    "\n",
    "\n",
    "\n",
    "from scripts.models import Segmentation_Network_full\n",
    "from scripts.models import resnet1, resnet18, resnet34, resnet50, resnet101, resnet152\n",
    "from scripts.models import UNet\n",
    "import torch"
   ]
  },
  {
   "cell_type": "code",
   "execution_count": 3,
   "id": "2f104589-422c-4844-a4b9-97d319983fd3",
   "metadata": {},
   "outputs": [],
   "source": [
    "device = 'cuda:0'"
   ]
  },
  {
   "cell_type": "code",
   "execution_count": 5,
   "id": "eb8b8547-fe0f-4c54-b394-838ea7f0fce3",
   "metadata": {},
   "outputs": [
    {
     "name": "stderr",
     "output_type": "stream",
     "text": [
      "  0%|                                                     | 0/7 [00:00<?, ?it/s]"
     ]
    },
    {
     "name": "stdout",
     "output_type": "stream",
     "text": [
      "Folder for predictions: ./predictions/inference/047_resnet18\n",
      "./predictions/inference/047_resnet18\n"
     ]
    },
    {
     "name": "stderr",
     "output_type": "stream",
     "text": [
      " 14%|██████▍                                      | 1/7 [00:01<00:07,  1.25s/it]"
     ]
    },
    {
     "name": "stdout",
     "output_type": "stream",
     "text": [
      "Folder for predictions: ./predictions/inference/047_resnet16\n",
      "./predictions/inference/047_resnet16\n"
     ]
    },
    {
     "name": "stderr",
     "output_type": "stream",
     "text": [
      " 29%|████████████▊                                | 2/7 [00:02<00:05,  1.04s/it]"
     ]
    },
    {
     "name": "stdout",
     "output_type": "stream",
     "text": [
      "Folder for predictions: ./predictions/inference/047_resnet34\n",
      "./predictions/inference/047_resnet34\n"
     ]
    },
    {
     "name": "stderr",
     "output_type": "stream",
     "text": [
      " 43%|███████████████████▎                         | 3/7 [00:03<00:04,  1.22s/it]"
     ]
    },
    {
     "name": "stdout",
     "output_type": "stream",
     "text": [
      "Folder for predictions: ./predictions/inference/047_Unet\n",
      "./predictions/inference/047_Unet\n"
     ]
    },
    {
     "name": "stderr",
     "output_type": "stream",
     "text": [
      " 57%|█████████████████████████▋                   | 4/7 [00:10<00:10,  3.55s/it]"
     ]
    },
    {
     "name": "stdout",
     "output_type": "stream",
     "text": [
      "Folder for predictions: ./predictions/inference/047_resnet50\n",
      "./predictions/inference/047_resnet50\n"
     ]
    },
    {
     "name": "stderr",
     "output_type": "stream",
     "text": [
      " 71%|████████████████████████████████▏            | 5/7 [00:12<00:05,  2.78s/it]"
     ]
    },
    {
     "name": "stdout",
     "output_type": "stream",
     "text": [
      "Folder for predictions: ./predictions/inference/047_resnet101\n",
      "./predictions/inference/047_resnet101\n"
     ]
    },
    {
     "name": "stderr",
     "output_type": "stream",
     "text": [
      " 86%|██████████████████████████████████████▌      | 6/7 [00:14<00:02,  2.55s/it]"
     ]
    },
    {
     "name": "stdout",
     "output_type": "stream",
     "text": [
      "Folder for predictions: ./predictions/inference/047_resnet152\n",
      "./predictions/inference/047_resnet152\n"
     ]
    },
    {
     "name": "stderr",
     "output_type": "stream",
     "text": [
      "100%|█████████████████████████████████████████████| 7/7 [00:16<00:00,  2.41s/it]\n"
     ]
    }
   ],
   "source": [
    "model_dir = './models/from_cluster'\n",
    "for m in tqdm(os.listdir(model_dir)):\n",
    "    path_out = './predictions/inference'\n",
    "    dir_in = './data_for_inference/obj/'\n",
    "    name = '047.obj'\n",
    "    \n",
    "    model = torch.load(f'{model_dir}/{m}/best.pt').to(device)\n",
    "\n",
    "    preprocessed_dir = 'TL_prepared_data/sdf'\n",
    "    preprocessed_dir += '/' + name[:-4]\n",
    "    \n",
    "    mesh = trimesh.load(dir_in+name)\n",
    "\n",
    "    sdf = torch.load(f'{preprocessed_dir}/sdf.pt').float()\n",
    "    #sdf = sdf.view(len(sdf), -1)\n",
    "    \n",
    "    colors = torch.load(f'{preprocessed_dir}/color.pt')\n",
    "    colors= torch.argmax(colors, dim=1)\n",
    "\n",
    "    sdfs = sdf.split(200)\n",
    "    predicted = []\n",
    "    for i in sdfs:\n",
    "        predicted.append(torch.argmax(model(i.to(device)), dim=1).detach().cpu())\n",
    "\n",
    "    model = None\n",
    "    gc.collect()\n",
    "    predicted = torch.concatenate(predicted, dim=0)\n",
    "    \n",
    "    name = name[:-4] + '_' + m[15:]\n",
    "    \n",
    "    dirname = dir_checker(path_out, name + '.obj')\n",
    "    print(dirname)\n",
    "    save_mesh_with_color_clinical(mesh, colors, path=f'{dirname}/{name}_original.obj')\n",
    "    save_mesh_with_color_clinical(mesh, predicted, path=f'{dirname}/{name}_predicted.obj')\n",
    "    \n",
    "    mesh = trimesh.load(f'{dirname}/{name}_predicted.obj')\n",
    "    \n",
    "    postprocessing(mesh, f'{dirname}/{name}_postprocessed.obj')\n"
   ]
  },
  {
   "cell_type": "code",
   "execution_count": null,
   "id": "5fd8b69a-b35b-4ea8-b3a6-2c542cd57672",
   "metadata": {},
   "outputs": [],
   "source": []
  }
 ],
 "metadata": {
  "kernelspec": {
   "display_name": "Python 3 (ipykernel)",
   "language": "python",
   "name": "python3"
  },
  "language_info": {
   "codemirror_mode": {
    "name": "ipython",
    "version": 3
   },
   "file_extension": ".py",
   "mimetype": "text/x-python",
   "name": "python",
   "nbconvert_exporter": "python",
   "pygments_lexer": "ipython3",
   "version": "3.11.8"
  }
 },
 "nbformat": 4,
 "nbformat_minor": 5
}
