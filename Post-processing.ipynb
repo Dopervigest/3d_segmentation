{
 "cells": [
  {
   "cell_type": "markdown",
   "id": "bd69869d-6e50-4f2f-bb4f-d1ad7e81268d",
   "metadata": {},
   "source": [
    "# Selecting parts based on color and saving as .ply objects"
   ]
  },
  {
   "cell_type": "code",
   "execution_count": 71,
   "id": "9587348a-a52a-48fe-907c-0aca11cd1b33",
   "metadata": {},
   "outputs": [],
   "source": [
    "import os\n",
    "import pymeshlab"
   ]
  },
  {
   "cell_type": "code",
   "execution_count": 72,
   "id": "f55b369e-05f9-464b-af4b-d599ddce5c34",
   "metadata": {},
   "outputs": [],
   "source": [
    "dr_in = './predictions'\n",
    "dr_out = './outputs'\n",
    "#i = 'patient001_predicted.obj'\n",
    "\n",
    "if not os.path.isdir(dr_out):\n",
    "    os.mkdir(dr_out)"
   ]
  },
  {
   "cell_type": "code",
   "execution_count": 81,
   "id": "44690ca0-fb2c-4537-bcb2-f34de5f6f9dd",
   "metadata": {},
   "outputs": [],
   "source": [
    "for i in os.listdir(dr_in):\n",
    "    ms = pymeshlab.MeshSet()\n",
    "    ms.load_new_mesh(f'{dr_in}/{i}')\n",
    "    \n",
    "    \n",
    "    folder = f'{dr_out}/{i[:-4]}'\n",
    "    if not os.path.isdir(folder):\n",
    "        os.mkdir(folder)\n",
    "    \n",
    "    ms.compute_selection_by_condition_per_face(condselect = '(b0 > 150) || (b1 > 150) || (b2 > 150)')\n",
    "    ms.generate_from_selected_faces()\n",
    "    ms.save_current_mesh(f'{folder}/heart_endo_rv.ply')\n",
    "    \n",
    "    ms.set_current_mesh(0)\n",
    "    ms.compute_selection_by_condition_per_face(condselect = '(r0 > 150) || (r1 > 150) || (r2 > 150)')\n",
    "    ms.generate_from_selected_faces()\n",
    "    ms.save_current_mesh(f'{folder}/heart_epi.ply')\n",
    "    \n",
    "    ms.set_current_mesh(0)\n",
    "    ms.compute_selection_by_condition_per_face(condselect = '(g0 > 150) || (g1 > 150) || (g2 > 150)')\n",
    "    ms.generate_from_selected_faces()\n",
    "    ms.save_current_mesh(f'{folder}/heart_endo_lv.ply')\n",
    "\n"
   ]
  },
  {
   "cell_type": "code",
   "execution_count": null,
   "id": "5d972c55-1687-482a-ad8c-59dc9a34a88d",
   "metadata": {},
   "outputs": [],
   "source": []
  }
 ],
 "metadata": {
  "kernelspec": {
   "display_name": "Python 3 (ipykernel)",
   "language": "python",
   "name": "python3"
  },
  "language_info": {
   "codemirror_mode": {
    "name": "ipython",
    "version": 3
   },
   "file_extension": ".py",
   "mimetype": "text/x-python",
   "name": "python",
   "nbconvert_exporter": "python",
   "pygments_lexer": "ipython3",
   "version": "3.11.8"
  }
 },
 "nbformat": 4,
 "nbformat_minor": 5
}
