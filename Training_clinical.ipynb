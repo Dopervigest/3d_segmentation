{
 "cells": [
  {
   "cell_type": "code",
   "execution_count": 1,
   "id": "7cdc54dd-a356-4fe5-9e18-f38366e304ce",
   "metadata": {},
   "outputs": [
    {
     "name": "stdout",
     "output_type": "stream",
     "text": [
      "path exists\n"
     ]
    }
   ],
   "source": [
    "import os\n",
    "import numpy as np\n",
    "from tqdm import tqdm\n",
    "\n",
    "import torch\n",
    "import torch.nn.functional as F\n",
    "from torchsummary import summary\n",
    "from torch.utils.data import TensorDataset, DataLoader\n",
    "from scripts.models import Segmentation_Network_full\n",
    "from scripts.dataset import H5Dataset\n",
    "\n",
    "out_dir = './models/clinical_no_TL'\n",
    "\n",
    "if os.path.exists(out_dir):\n",
    "    print(\"path exists\")\n",
    "else:\n",
    "    os.makedirs(out_dir)\n",
    "\n",
    "\n",
    "device = 'cuda' if torch.cuda.is_available() else 'cpu'"
   ]
  },
  {
   "cell_type": "code",
   "execution_count": 2,
   "id": "e6013452-0663-4ef9-b0b1-2492e4c1d45a",
   "metadata": {},
   "outputs": [
    {
     "data": {
      "text/plain": [
       "(46028, 43632)"
      ]
     },
     "execution_count": 2,
     "metadata": {},
     "output_type": "execute_result"
    }
   ],
   "source": [
    "train_dataset = H5Dataset('./TL_prepared_data/train/data.hdf5')\n",
    "test_dataset = H5Dataset('./TL_prepared_data/test/data.hdf5')\n",
    "\n",
    "batch_size = 16384\n",
    "epochs = 200\n",
    "\n",
    "\n",
    "train_dataloader = DataLoader(train_dataset, batch_size=batch_size, shuffle=True, num_workers=0)\n",
    "test_dataloader = DataLoader(test_dataset, batch_size=batch_size, shuffle=False)\n",
    "\n",
    "len(train_dataset), len(test_dataset)"
   ]
  },
  {
   "cell_type": "code",
   "execution_count": 3,
   "id": "b6af774e-8400-426a-b222-1392947bcaad",
   "metadata": {},
   "outputs": [
    {
     "name": "stdout",
     "output_type": "stream",
     "text": [
      "----------------------------------------------------------------\n",
      "        Layer (type)               Output Shape         Param #\n",
      "================================================================\n",
      "            Conv3d-1          [-1, 32, 8, 8, 8]             288\n",
      "              ReLU-2          [-1, 32, 8, 8, 8]               0\n",
      "            Conv3d-3          [-1, 64, 4, 4, 4]          16,448\n",
      "              ReLU-4          [-1, 64, 4, 4, 4]               0\n",
      "            Conv3d-5         [-1, 128, 2, 2, 2]          65,664\n",
      "              ReLU-6         [-1, 128, 2, 2, 2]               0\n",
      "            Conv3d-7         [-1, 256, 1, 1, 1]         262,400\n",
      "              ReLU-8         [-1, 256, 1, 1, 1]               0\n",
      "            Conv3d-9         [-1, 256, 1, 1, 1]          65,792\n",
      "             ReLU-10         [-1, 256, 1, 1, 1]               0\n",
      "           Conv3d-11         [-1, 256, 1, 1, 1]          65,792\n",
      "             ReLU-12         [-1, 256, 1, 1, 1]               0\n",
      "           Conv3d-13           [-1, 4, 1, 1, 1]           1,028\n",
      "          Sigmoid-14           [-1, 4, 1, 1, 1]               0\n",
      "          Flatten-15                    [-1, 4]               0\n",
      "================================================================\n",
      "Total params: 477,412\n",
      "Trainable params: 477,412\n",
      "Non-trainable params: 0\n",
      "----------------------------------------------------------------\n",
      "Input size (MB): 0.02\n",
      "Forward/backward pass size (MB): 0.34\n",
      "Params size (MB): 1.82\n",
      "Estimated Total Size (MB): 2.18\n",
      "----------------------------------------------------------------\n"
     ]
    }
   ],
   "source": [
    "model = Segmentation_Network_full(n_classes=4).float()\n",
    "summary(model, input_size= (next(iter(train_dataloader))[0][0].shape), device='cpu') "
   ]
  },
  {
   "cell_type": "code",
   "execution_count": 12,
   "id": "cd80264b-1420-4479-843a-2c5959c4b96c",
   "metadata": {},
   "outputs": [
    {
     "data": {
      "text/plain": [
       "Segmentation_Network_TL(\n",
       "  (network): Sequential(\n",
       "    (0): Conv3d(1, 32, kernel_size=(2, 2, 2), stride=(2, 2, 2))\n",
       "    (1): ReLU()\n",
       "    (2): Conv3d(32, 64, kernel_size=(2, 2, 2), stride=(2, 2, 2))\n",
       "    (3): ReLU()\n",
       "    (4): Conv3d(64, 128, kernel_size=(2, 2, 2), stride=(2, 2, 2))\n",
       "    (5): ReLU()\n",
       "    (6): Conv3d(128, 256, kernel_size=(2, 2, 2), stride=(2, 2, 2))\n",
       "    (7): ReLU()\n",
       "    (8): Conv3d(256, 256, kernel_size=(1, 1, 1), stride=(1, 1, 1))\n",
       "    (9): ReLU()\n",
       "    (10): Conv3d(256, 256, kernel_size=(1, 1, 1), stride=(1, 1, 1))\n",
       "    (11): ReLU()\n",
       "    (12): Conv3d(256, 4, kernel_size=(1, 1, 1), stride=(1, 1, 1))\n",
       "    (13): Sigmoid()\n",
       "    (14): Flatten(start_dim=1, end_dim=-1)\n",
       "  )\n",
       ")"
      ]
     },
     "execution_count": 12,
     "metadata": {},
     "output_type": "execute_result"
    }
   ],
   "source": [
    "opt = torch.optim.Adam(model.parameters(), lr=0.001, weight_decay=1e-5) \n",
    "criterion = F.binary_cross_entropy  \n",
    "model.to(device).float() "
   ]
  },
  {
   "cell_type": "code",
   "execution_count": 13,
   "id": "2c56269c-ae91-4c36-9b92-6d6d32f189b9",
   "metadata": {
    "scrolled": true
   },
   "outputs": [
    {
     "name": "stderr",
     "output_type": "stream",
     "text": [
      "  1%|▍                                          | 1/100 [00:03<05:11,  3.14s/it]"
     ]
    },
    {
     "name": "stdout",
     "output_type": "stream",
     "text": [
      "EPOCH 1: Loss: 0.6768918037414551, Accuracy: 0.24994248151779175, Best_accuracy: 0.24994248151779175\n",
      "Val_loss: 0.6559163331985474, Val_accuracy: 0.2537834644317627, Best_val_accuracy: 0.2537834644317627\n",
      "\n"
     ]
    },
    {
     "name": "stderr",
     "output_type": "stream",
     "text": [
      "  2%|▊                                          | 2/100 [00:05<04:44,  2.90s/it]"
     ]
    },
    {
     "name": "stdout",
     "output_type": "stream",
     "text": [
      "EPOCH 2: Loss: 0.6256232261657715, Accuracy: 0.2498897761106491, Best_accuracy: 0.24994248151779175\n",
      "Val_loss: 0.5645021796226501, Val_accuracy: 0.2537834644317627, Best_val_accuracy: 0.2537834644317627\n",
      "\n"
     ]
    },
    {
     "name": "stderr",
     "output_type": "stream",
     "text": [
      "  3%|█▎                                         | 3/100 [00:08<04:34,  2.83s/it]"
     ]
    },
    {
     "name": "stdout",
     "output_type": "stream",
     "text": [
      "EPOCH 3: Loss: 0.5850868225097656, Accuracy: 0.24984662234783173, Best_accuracy: 0.24994248151779175\n",
      "Val_loss: 0.5625569820404053, Val_accuracy: 0.2487388551235199, Best_val_accuracy: 0.2537834644317627\n",
      "\n"
     ]
    },
    {
     "name": "stderr",
     "output_type": "stream",
     "text": [
      "  4%|█▋                                         | 4/100 [00:11<04:25,  2.77s/it]"
     ]
    },
    {
     "name": "stdout",
     "output_type": "stream",
     "text": [
      "EPOCH 4: Loss: 0.5696094036102295, Accuracy: 0.2502349019050598, Best_accuracy: 0.2502349019050598\n",
      "Val_loss: 0.5826016664505005, Val_accuracy: 0.2487388551235199, Best_val_accuracy: 0.2537834644317627\n",
      "\n"
     ]
    },
    {
     "name": "stderr",
     "output_type": "stream",
     "text": [
      "  5%|██▏                                        | 5/100 [00:13<04:19,  2.73s/it]"
     ]
    },
    {
     "name": "stdout",
     "output_type": "stream",
     "text": [
      "EPOCH 5: Loss: 0.5800063610076904, Accuracy: 0.25028759241104126, Best_accuracy: 0.25028759241104126\n",
      "Val_loss: 0.5682831406593323, Val_accuracy: 0.2487388551235199, Best_val_accuracy: 0.2537834644317627\n",
      "\n"
     ]
    },
    {
     "name": "stderr",
     "output_type": "stream",
     "text": [
      "  6%|██▌                                        | 6/100 [00:16<04:14,  2.71s/it]"
     ]
    },
    {
     "name": "stdout",
     "output_type": "stream",
     "text": [
      "EPOCH 6: Loss: 0.5648512244224548, Accuracy: 0.2947326898574829, Best_accuracy: 0.2947326898574829\n",
      "Val_loss: 0.5698596835136414, Val_accuracy: 0.2537834644317627, Best_val_accuracy: 0.2537834644317627\n",
      "\n"
     ]
    },
    {
     "name": "stderr",
     "output_type": "stream",
     "text": [
      "  7%|███                                        | 7/100 [00:19<04:10,  2.70s/it]"
     ]
    },
    {
     "name": "stdout",
     "output_type": "stream",
     "text": [
      "EPOCH 7: Loss: 0.5693249106407166, Accuracy: 0.249956876039505, Best_accuracy: 0.2947326898574829\n",
      "Val_loss: 0.5622141361236572, Val_accuracy: 0.2537834644317627, Best_val_accuracy: 0.2537834644317627\n",
      "\n"
     ]
    },
    {
     "name": "stderr",
     "output_type": "stream",
     "text": [
      "  8%|███▍                                       | 8/100 [00:22<04:08,  2.71s/it]"
     ]
    },
    {
     "name": "stdout",
     "output_type": "stream",
     "text": [
      "EPOCH 8: Loss: 0.5630464553833008, Accuracy: 0.2500671148300171, Best_accuracy: 0.2947326898574829\n",
      "Val_loss: 0.5659627914428711, Val_accuracy: 0.2537834644317627, Best_val_accuracy: 0.2537834644317627\n",
      "\n"
     ]
    },
    {
     "name": "stderr",
     "output_type": "stream",
     "text": [
      "  9%|███▊                                       | 9/100 [00:24<04:05,  2.70s/it]"
     ]
    },
    {
     "name": "stdout",
     "output_type": "stream",
     "text": [
      "EPOCH 9: Loss: 0.565522313117981, Accuracy: 0.30702388286590576, Best_accuracy: 0.30702388286590576\n",
      "Val_loss: 0.5619316101074219, Val_accuracy: 0.3775578439235687, Best_val_accuracy: 0.3775578439235687\n",
      "\n"
     ]
    },
    {
     "name": "stderr",
     "output_type": "stream",
     "text": [
      " 10%|████▏                                     | 10/100 [00:27<04:03,  2.71s/it]"
     ]
    },
    {
     "name": "stdout",
     "output_type": "stream",
     "text": [
      "EPOCH 10: Loss: 0.561657190322876, Accuracy: 0.34340402483940125, Best_accuracy: 0.34340402483940125\n",
      "Val_loss: 0.5631684064865112, Val_accuracy: 0.34886106848716736, Best_val_accuracy: 0.3775578439235687\n",
      "\n"
     ]
    },
    {
     "name": "stderr",
     "output_type": "stream",
     "text": [
      " 11%|████▌                                     | 11/100 [00:30<04:00,  2.70s/it]"
     ]
    },
    {
     "name": "stdout",
     "output_type": "stream",
     "text": [
      "EPOCH 11: Loss: 0.5622414946556091, Accuracy: 0.37318670749664307, Best_accuracy: 0.37318670749664307\n",
      "Val_loss: 0.5598553419113159, Val_accuracy: 0.38071703910827637, Best_val_accuracy: 0.38071703910827637\n",
      "\n"
     ]
    },
    {
     "name": "stderr",
     "output_type": "stream",
     "text": [
      " 12%|█████                                     | 12/100 [00:32<03:57,  2.70s/it]"
     ]
    },
    {
     "name": "stdout",
     "output_type": "stream",
     "text": [
      "EPOCH 12: Loss: 0.5601401329040527, Accuracy: 0.36406752467155457, Best_accuracy: 0.37318670749664307\n",
      "Val_loss: 0.559724748134613, Val_accuracy: 0.3540685772895813, Best_val_accuracy: 0.38071703910827637\n",
      "\n"
     ]
    },
    {
     "name": "stderr",
     "output_type": "stream",
     "text": [
      " 13%|█████▍                                    | 13/100 [00:35<03:54,  2.70s/it]"
     ]
    },
    {
     "name": "stdout",
     "output_type": "stream",
     "text": [
      "EPOCH 13: Loss: 0.5587249994277954, Accuracy: 0.35618990659713745, Best_accuracy: 0.37318670749664307\n",
      "Val_loss: 0.5562950372695923, Val_accuracy: 0.3750718832015991, Best_val_accuracy: 0.38071703910827637\n",
      "\n"
     ]
    },
    {
     "name": "stderr",
     "output_type": "stream",
     "text": [
      " 14%|█████▉                                    | 14/100 [00:38<03:53,  2.71s/it]"
     ]
    },
    {
     "name": "stdout",
     "output_type": "stream",
     "text": [
      "EPOCH 14: Loss: 0.5552990436553955, Accuracy: 0.37934011220932007, Best_accuracy: 0.37934011220932007\n",
      "Val_loss: 0.5511556267738342, Val_accuracy: 0.39376765489578247, Best_val_accuracy: 0.39376765489578247\n",
      "\n"
     ]
    },
    {
     "name": "stderr",
     "output_type": "stream",
     "text": [
      " 15%|██████▎                                   | 15/100 [00:40<03:50,  2.72s/it]"
     ]
    },
    {
     "name": "stdout",
     "output_type": "stream",
     "text": [
      "EPOCH 15: Loss: 0.5480157732963562, Accuracy: 0.3904104232788086, Best_accuracy: 0.3904104232788086\n",
      "Val_loss: 0.5390142798423767, Val_accuracy: 0.39720892906188965, Best_val_accuracy: 0.39720892906188965\n",
      "\n"
     ]
    },
    {
     "name": "stderr",
     "output_type": "stream",
     "text": [
      " 16%|██████▋                                   | 16/100 [00:43<03:48,  2.72s/it]"
     ]
    },
    {
     "name": "stdout",
     "output_type": "stream",
     "text": [
      "EPOCH 16: Loss: 0.5322592258453369, Accuracy: 0.39337122440338135, Best_accuracy: 0.39337122440338135\n",
      "Val_loss: 0.5148841142654419, Val_accuracy: 0.39686208963394165, Best_val_accuracy: 0.39720892906188965\n",
      "\n"
     ]
    },
    {
     "name": "stderr",
     "output_type": "stream",
     "text": [
      " 17%|███████▏                                  | 17/100 [00:46<03:45,  2.72s/it]"
     ]
    },
    {
     "name": "stdout",
     "output_type": "stream",
     "text": [
      "EPOCH 17: Loss: 0.5071623921394348, Accuracy: 0.39509162306785583, Best_accuracy: 0.39509162306785583\n",
      "Val_loss: 0.4926384389400482, Val_accuracy: 0.40656885504722595, Best_val_accuracy: 0.40656885504722595\n",
      "\n"
     ]
    },
    {
     "name": "stderr",
     "output_type": "stream",
     "text": [
      " 18%|███████▌                                  | 18/100 [00:49<03:42,  2.72s/it]"
     ]
    },
    {
     "name": "stdout",
     "output_type": "stream",
     "text": [
      "EPOCH 18: Loss: 0.4923388361930847, Accuracy: 0.41288912296295166, Best_accuracy: 0.41288912296295166\n",
      "Val_loss: 0.48732441663742065, Val_accuracy: 0.44653141498565674, Best_val_accuracy: 0.44653141498565674\n",
      "\n"
     ]
    },
    {
     "name": "stderr",
     "output_type": "stream",
     "text": [
      " 19%|███████▉                                  | 19/100 [00:51<03:39,  2.71s/it]"
     ]
    },
    {
     "name": "stdout",
     "output_type": "stream",
     "text": [
      "EPOCH 19: Loss: 0.48506683111190796, Accuracy: 0.48392683267593384, Best_accuracy: 0.48392683267593384\n",
      "Val_loss: 0.4706745147705078, Val_accuracy: 0.5424352884292603, Best_val_accuracy: 0.5424352884292603\n",
      "\n"
     ]
    },
    {
     "name": "stderr",
     "output_type": "stream",
     "text": [
      " 20%|████████▍                                 | 20/100 [00:54<03:37,  2.71s/it]"
     ]
    },
    {
     "name": "stdout",
     "output_type": "stream",
     "text": [
      "EPOCH 20: Loss: 0.4662575125694275, Accuracy: 0.5548028945922852, Best_accuracy: 0.5548028945922852\n",
      "Val_loss: 0.4502914845943451, Val_accuracy: 0.5872801542282104, Best_val_accuracy: 0.5872801542282104\n",
      "\n"
     ]
    },
    {
     "name": "stderr",
     "output_type": "stream",
     "text": [
      " 21%|████████▊                                 | 21/100 [00:57<03:35,  2.72s/it]"
     ]
    },
    {
     "name": "stdout",
     "output_type": "stream",
     "text": [
      "EPOCH 21: Loss: 0.4442298114299774, Accuracy: 0.5933808088302612, Best_accuracy: 0.5933808088302612\n",
      "Val_loss: 0.4202089309692383, Val_accuracy: 0.595550000667572, Best_val_accuracy: 0.595550000667572\n",
      "\n"
     ]
    },
    {
     "name": "stderr",
     "output_type": "stream",
     "text": [
      " 22%|█████████▏                                | 22/100 [01:00<03:32,  2.73s/it]"
     ]
    },
    {
     "name": "stdout",
     "output_type": "stream",
     "text": [
      "EPOCH 22: Loss: 0.4120962619781494, Accuracy: 0.6196895837783813, Best_accuracy: 0.6196895837783813\n",
      "Val_loss: 0.3838347792625427, Val_accuracy: 0.6630054712295532, Best_val_accuracy: 0.6630054712295532\n",
      "\n"
     ]
    },
    {
     "name": "stderr",
     "output_type": "stream",
     "text": [
      " 23%|█████████▋                                | 23/100 [01:02<03:29,  2.72s/it]"
     ]
    },
    {
     "name": "stdout",
     "output_type": "stream",
     "text": [
      "EPOCH 23: Loss: 0.3783714175224304, Accuracy: 0.6633379459381104, Best_accuracy: 0.6633379459381104\n",
      "Val_loss: 0.4406244456768036, Val_accuracy: 0.5737121105194092, Best_val_accuracy: 0.6630054712295532\n",
      "\n"
     ]
    },
    {
     "name": "stderr",
     "output_type": "stream",
     "text": [
      " 24%|██████████                                | 24/100 [01:05<03:27,  2.73s/it]"
     ]
    },
    {
     "name": "stdout",
     "output_type": "stream",
     "text": [
      "EPOCH 24: Loss: 0.395449161529541, Accuracy: 0.6250004172325134, Best_accuracy: 0.6633379459381104\n",
      "Val_loss: 0.3809524476528168, Val_accuracy: 0.6364160776138306, Best_val_accuracy: 0.6630054712295532\n",
      "\n"
     ]
    },
    {
     "name": "stderr",
     "output_type": "stream",
     "text": [
      " 25%|██████████▌                               | 25/100 [01:08<03:24,  2.72s/it]"
     ]
    },
    {
     "name": "stdout",
     "output_type": "stream",
     "text": [
      "EPOCH 25: Loss: 0.36427968740463257, Accuracy: 0.6578654050827026, Best_accuracy: 0.6633379459381104\n",
      "Val_loss: 0.36154383420944214, Val_accuracy: 0.6485321521759033, Best_val_accuracy: 0.6630054712295532\n",
      "\n"
     ]
    },
    {
     "name": "stderr",
     "output_type": "stream",
     "text": [
      " 26%|██████████▉                               | 26/100 [01:10<03:21,  2.72s/it]"
     ]
    },
    {
     "name": "stdout",
     "output_type": "stream",
     "text": [
      "EPOCH 26: Loss: 0.35744285583496094, Accuracy: 0.6620078086853027, Best_accuracy: 0.6633379459381104\n",
      "Val_loss: 0.3579356074333191, Val_accuracy: 0.6649109125137329, Best_val_accuracy: 0.6649109125137329\n",
      "\n"
     ]
    },
    {
     "name": "stderr",
     "output_type": "stream",
     "text": [
      " 27%|███████████▎                              | 27/100 [01:13<03:18,  2.72s/it]"
     ]
    },
    {
     "name": "stdout",
     "output_type": "stream",
     "text": [
      "EPOCH 27: Loss: 0.34868323802948, Accuracy: 0.6757879257202148, Best_accuracy: 0.6757879257202148\n",
      "Val_loss: 0.33938515186309814, Val_accuracy: 0.6839775443077087, Best_val_accuracy: 0.6839775443077087\n",
      "\n"
     ]
    },
    {
     "name": "stderr",
     "output_type": "stream",
     "text": [
      " 28%|███████████▊                              | 28/100 [01:16<03:17,  2.74s/it]"
     ]
    },
    {
     "name": "stdout",
     "output_type": "stream",
     "text": [
      "EPOCH 28: Loss: 0.3384402394294739, Accuracy: 0.6851129531860352, Best_accuracy: 0.6851129531860352\n",
      "Val_loss: 0.32834649085998535, Val_accuracy: 0.6928865313529968, Best_val_accuracy: 0.6928865313529968\n",
      "\n"
     ]
    },
    {
     "name": "stderr",
     "output_type": "stream",
     "text": [
      " 29%|████████████▏                             | 29/100 [01:19<03:15,  2.76s/it]"
     ]
    },
    {
     "name": "stdout",
     "output_type": "stream",
     "text": [
      "EPOCH 29: Loss: 0.32777318358421326, Accuracy: 0.6928238272666931, Best_accuracy: 0.6928238272666931\n",
      "Val_loss: 0.324571818113327, Val_accuracy: 0.696363091468811, Best_val_accuracy: 0.696363091468811\n",
      "\n"
     ]
    },
    {
     "name": "stderr",
     "output_type": "stream",
     "text": [
      " 30%|████████████▌                             | 30/100 [01:21<03:11,  2.74s/it]"
     ]
    },
    {
     "name": "stdout",
     "output_type": "stream",
     "text": [
      "EPOCH 30: Loss: 0.3215821385383606, Accuracy: 0.6992506980895996, Best_accuracy: 0.6992506980895996\n",
      "Val_loss: 0.31674814224243164, Val_accuracy: 0.699978768825531, Best_val_accuracy: 0.699978768825531\n",
      "\n"
     ]
    },
    {
     "name": "stderr",
     "output_type": "stream",
     "text": [
      " 31%|█████████████                             | 31/100 [01:24<03:07,  2.72s/it]"
     ]
    },
    {
     "name": "stdout",
     "output_type": "stream",
     "text": [
      "EPOCH 31: Loss: 0.31590694189071655, Accuracy: 0.7037725448608398, Best_accuracy: 0.7037725448608398\n",
      "Val_loss: 0.31063148379325867, Val_accuracy: 0.7103531360626221, Best_val_accuracy: 0.7103531360626221\n",
      "\n"
     ]
    },
    {
     "name": "stderr",
     "output_type": "stream",
     "text": [
      " 32%|█████████████▍                            | 32/100 [01:27<03:04,  2.71s/it]"
     ]
    },
    {
     "name": "stdout",
     "output_type": "stream",
     "text": [
      "EPOCH 32: Loss: 0.31080564856529236, Accuracy: 0.7087669372558594, Best_accuracy: 0.7087669372558594\n",
      "Val_loss: 0.30955958366394043, Val_accuracy: 0.7120741605758667, Best_val_accuracy: 0.7120741605758667\n",
      "\n"
     ]
    },
    {
     "name": "stderr",
     "output_type": "stream",
     "text": [
      " 33%|█████████████▊                            | 33/100 [01:29<03:00,  2.69s/it]"
     ]
    },
    {
     "name": "stdout",
     "output_type": "stream",
     "text": [
      "EPOCH 33: Loss: 0.3065487742424011, Accuracy: 0.7136741876602173, Best_accuracy: 0.7136741876602173\n",
      "Val_loss: 0.305181086063385, Val_accuracy: 0.7169445753097534, Best_val_accuracy: 0.7169445753097534\n",
      "\n"
     ]
    },
    {
     "name": "stderr",
     "output_type": "stream",
     "text": [
      " 34%|██████████████▎                           | 34/100 [01:32<02:57,  2.70s/it]"
     ]
    },
    {
     "name": "stdout",
     "output_type": "stream",
     "text": [
      "EPOCH 34: Loss: 0.30359312891960144, Accuracy: 0.7166216373443604, Best_accuracy: 0.7166216373443604\n",
      "Val_loss: 0.30197352170944214, Val_accuracy: 0.7179850935935974, Best_val_accuracy: 0.7179850935935974\n",
      "\n"
     ]
    },
    {
     "name": "stderr",
     "output_type": "stream",
     "text": [
      " 35%|██████████████▋                           | 35/100 [01:35<02:55,  2.71s/it]"
     ]
    },
    {
     "name": "stdout",
     "output_type": "stream",
     "text": [
      "EPOCH 35: Loss: 0.29996395111083984, Accuracy: 0.719733715057373, Best_accuracy: 0.719733715057373\n",
      "Val_loss: 0.29888105392456055, Val_accuracy: 0.7223548889160156, Best_val_accuracy: 0.7223548889160156\n",
      "\n"
     ]
    },
    {
     "name": "stderr",
     "output_type": "stream",
     "text": [
      " 36%|███████████████                           | 36/100 [01:38<02:55,  2.73s/it]"
     ]
    },
    {
     "name": "stdout",
     "output_type": "stream",
     "text": [
      "EPOCH 36: Loss: 0.2967432141304016, Accuracy: 0.7238789796829224, Best_accuracy: 0.7238789796829224\n",
      "Val_loss: 0.29611700773239136, Val_accuracy: 0.7253608703613281, Best_val_accuracy: 0.7253608703613281\n",
      "\n"
     ]
    },
    {
     "name": "stderr",
     "output_type": "stream",
     "text": [
      " 37%|███████████████▌                          | 37/100 [01:41<02:55,  2.79s/it]"
     ]
    },
    {
     "name": "stdout",
     "output_type": "stream",
     "text": [
      "EPOCH 37: Loss: 0.29384905099868774, Accuracy: 0.7272096872329712, Best_accuracy: 0.7272096872329712\n",
      "Val_loss: 0.29363521933555603, Val_accuracy: 0.7286620140075684, Best_val_accuracy: 0.7286620140075684\n",
      "\n"
     ]
    },
    {
     "name": "stderr",
     "output_type": "stream",
     "text": [
      " 38%|███████████████▉                          | 38/100 [01:43<02:54,  2.82s/it]"
     ]
    },
    {
     "name": "stdout",
     "output_type": "stream",
     "text": [
      "EPOCH 38: Loss: 0.29154080152511597, Accuracy: 0.7292683124542236, Best_accuracy: 0.7292683124542236\n",
      "Val_loss: 0.2908061742782593, Val_accuracy: 0.7314538955688477, Best_val_accuracy: 0.7314538955688477\n",
      "\n"
     ]
    },
    {
     "name": "stderr",
     "output_type": "stream",
     "text": [
      " 39%|████████████████▍                         | 39/100 [01:46<02:54,  2.86s/it]"
     ]
    },
    {
     "name": "stdout",
     "output_type": "stream",
     "text": [
      "EPOCH 39: Loss: 0.28854596614837646, Accuracy: 0.732867419719696, Best_accuracy: 0.732867419719696\n",
      "Val_loss: 0.2908937931060791, Val_accuracy: 0.7333409190177917, Best_val_accuracy: 0.7333409190177917\n",
      "\n"
     ]
    },
    {
     "name": "stderr",
     "output_type": "stream",
     "text": [
      " 40%|████████████████▊                         | 40/100 [01:49<02:52,  2.88s/it]"
     ]
    },
    {
     "name": "stdout",
     "output_type": "stream",
     "text": [
      "EPOCH 40: Loss: 0.28747469186782837, Accuracy: 0.7325410842895508, Best_accuracy: 0.732867419719696\n",
      "Val_loss: 0.2904840409755707, Val_accuracy: 0.7301812171936035, Best_val_accuracy: 0.7333409190177917\n",
      "\n"
     ]
    },
    {
     "name": "stderr",
     "output_type": "stream",
     "text": [
      " 41%|█████████████████▏                        | 41/100 [01:52<02:52,  2.93s/it]"
     ]
    },
    {
     "name": "stdout",
     "output_type": "stream",
     "text": [
      "EPOCH 41: Loss: 0.2851988673210144, Accuracy: 0.7354294657707214, Best_accuracy: 0.7354294657707214\n",
      "Val_loss: 0.2837211787700653, Val_accuracy: 0.7390748858451843, Best_val_accuracy: 0.7390748858451843\n",
      "\n"
     ]
    },
    {
     "name": "stderr",
     "output_type": "stream",
     "text": [
      " 42%|█████████████████▋                        | 42/100 [01:55<02:50,  2.94s/it]"
     ]
    },
    {
     "name": "stdout",
     "output_type": "stream",
     "text": [
      "EPOCH 42: Loss: 0.28177905082702637, Accuracy: 0.7390627264976501, Best_accuracy: 0.7390627264976501\n",
      "Val_loss: 0.27995097637176514, Val_accuracy: 0.7442727088928223, Best_val_accuracy: 0.7442727088928223\n",
      "\n"
     ]
    },
    {
     "name": "stderr",
     "output_type": "stream",
     "text": [
      " 43%|██████████████████                        | 43/100 [01:58<02:46,  2.91s/it]"
     ]
    },
    {
     "name": "stdout",
     "output_type": "stream",
     "text": [
      "EPOCH 43: Loss: 0.2791292667388916, Accuracy: 0.7432950735092163, Best_accuracy: 0.7432950735092163\n",
      "Val_loss: 0.27728089690208435, Val_accuracy: 0.7471033334732056, Best_val_accuracy: 0.7471033334732056\n",
      "\n"
     ]
    },
    {
     "name": "stderr",
     "output_type": "stream",
     "text": [
      " 44%|██████████████████▍                       | 44/100 [02:01<02:41,  2.88s/it]"
     ]
    },
    {
     "name": "stdout",
     "output_type": "stream",
     "text": [
      "EPOCH 44: Loss: 0.275779664516449, Accuracy: 0.7468212842941284, Best_accuracy: 0.7468212842941284\n",
      "Val_loss: 0.2753291726112366, Val_accuracy: 0.7489761114120483, Best_val_accuracy: 0.7489761114120483\n",
      "\n"
     ]
    },
    {
     "name": "stderr",
     "output_type": "stream",
     "text": [
      " 45%|██████████████████▉                       | 45/100 [02:04<02:36,  2.84s/it]"
     ]
    },
    {
     "name": "stdout",
     "output_type": "stream",
     "text": [
      "EPOCH 45: Loss: 0.2728937268257141, Accuracy: 0.7501019835472107, Best_accuracy: 0.7501019835472107\n",
      "Val_loss: 0.2726306915283203, Val_accuracy: 0.7527371644973755, Best_val_accuracy: 0.7527371644973755\n",
      "\n"
     ]
    },
    {
     "name": "stderr",
     "output_type": "stream",
     "text": [
      " 46%|███████████████████▎                      | 46/100 [02:07<02:31,  2.81s/it]"
     ]
    },
    {
     "name": "stdout",
     "output_type": "stream",
     "text": [
      "EPOCH 46: Loss: 0.27019208669662476, Accuracy: 0.7540559768676758, Best_accuracy: 0.7540559768676758\n",
      "Val_loss: 0.26936042308807373, Val_accuracy: 0.756954550743103, Best_val_accuracy: 0.756954550743103\n",
      "\n"
     ]
    },
    {
     "name": "stderr",
     "output_type": "stream",
     "text": [
      " 47%|███████████████████▋                      | 47/100 [02:09<02:27,  2.79s/it]"
     ]
    },
    {
     "name": "stdout",
     "output_type": "stream",
     "text": [
      "EPOCH 47: Loss: 0.26756972074508667, Accuracy: 0.7575711607933044, Best_accuracy: 0.7575711607933044\n",
      "Val_loss: 0.26668351888656616, Val_accuracy: 0.7595095634460449, Best_val_accuracy: 0.7595095634460449\n",
      "\n"
     ]
    },
    {
     "name": "stderr",
     "output_type": "stream",
     "text": [
      " 48%|████████████████████▏                     | 48/100 [02:12<02:24,  2.77s/it]"
     ]
    },
    {
     "name": "stdout",
     "output_type": "stream",
     "text": [
      "EPOCH 48: Loss: 0.2637103497982025, Accuracy: 0.7616297602653503, Best_accuracy: 0.7616297602653503\n",
      "Val_loss: 0.26126813888549805, Val_accuracy: 0.7673973441123962, Best_val_accuracy: 0.7673973441123962\n",
      "\n"
     ]
    },
    {
     "name": "stderr",
     "output_type": "stream",
     "text": [
      " 49%|████████████████████▌                     | 49/100 [02:15<02:21,  2.78s/it]"
     ]
    },
    {
     "name": "stdout",
     "output_type": "stream",
     "text": [
      "EPOCH 49: Loss: 0.25986093282699585, Accuracy: 0.7678701877593994, Best_accuracy: 0.7678701877593994\n",
      "Val_loss: 0.25819700956344604, Val_accuracy: 0.7724450826644897, Best_val_accuracy: 0.7724450826644897\n",
      "\n"
     ]
    },
    {
     "name": "stderr",
     "output_type": "stream",
     "text": [
      " 50%|█████████████████████                     | 50/100 [02:18<02:20,  2.80s/it]"
     ]
    },
    {
     "name": "stdout",
     "output_type": "stream",
     "text": [
      "EPOCH 50: Loss: 0.2549557089805603, Accuracy: 0.7733919024467468, Best_accuracy: 0.7733919024467468\n",
      "Val_loss: 0.25356972217559814, Val_accuracy: 0.7778860926628113, Best_val_accuracy: 0.7778860926628113\n",
      "\n"
     ]
    },
    {
     "name": "stderr",
     "output_type": "stream",
     "text": [
      " 51%|█████████████████████▍                    | 51/100 [02:21<02:19,  2.84s/it]"
     ]
    },
    {
     "name": "stdout",
     "output_type": "stream",
     "text": [
      "EPOCH 51: Loss: 0.250852108001709, Accuracy: 0.778458833694458, Best_accuracy: 0.778458833694458\n",
      "Val_loss: 0.25049734115600586, Val_accuracy: 0.7820295095443726, Best_val_accuracy: 0.7820295095443726\n",
      "\n"
     ]
    },
    {
     "name": "stderr",
     "output_type": "stream",
     "text": [
      " 52%|█████████████████████▊                    | 52/100 [02:23<02:16,  2.84s/it]"
     ]
    },
    {
     "name": "stdout",
     "output_type": "stream",
     "text": [
      "EPOCH 52: Loss: 0.24696078896522522, Accuracy: 0.7822401523590088, Best_accuracy: 0.7822401523590088\n",
      "Val_loss: 0.24377548694610596, Val_accuracy: 0.7904364466667175, Best_val_accuracy: 0.7904364466667175\n",
      "\n"
     ]
    },
    {
     "name": "stderr",
     "output_type": "stream",
     "text": [
      " 53%|██████████████████████▎                   | 53/100 [02:26<02:13,  2.84s/it]"
     ]
    },
    {
     "name": "stdout",
     "output_type": "stream",
     "text": [
      "EPOCH 53: Loss: 0.24335390329360962, Accuracy: 0.7869124412536621, Best_accuracy: 0.7869124412536621\n",
      "Val_loss: 0.23967526853084564, Val_accuracy: 0.7936521768569946, Best_val_accuracy: 0.7936521768569946\n",
      "\n"
     ]
    },
    {
     "name": "stderr",
     "output_type": "stream",
     "text": [
      " 54%|██████████████████████▋                   | 54/100 [02:29<02:09,  2.81s/it]"
     ]
    },
    {
     "name": "stdout",
     "output_type": "stream",
     "text": [
      "EPOCH 54: Loss: 0.2383677214384079, Accuracy: 0.793122410774231, Best_accuracy: 0.793122410774231\n",
      "Val_loss: 0.23700396716594696, Val_accuracy: 0.7966892123222351, Best_val_accuracy: 0.7966892123222351\n",
      "\n"
     ]
    },
    {
     "name": "stderr",
     "output_type": "stream",
     "text": [
      " 55%|███████████████████████                   | 55/100 [02:32<02:05,  2.78s/it]"
     ]
    },
    {
     "name": "stdout",
     "output_type": "stream",
     "text": [
      "EPOCH 55: Loss: 0.23536044359207153, Accuracy: 0.795928955078125, Best_accuracy: 0.795928955078125\n",
      "Val_loss: 0.22922246158123016, Val_accuracy: 0.806524932384491, Best_val_accuracy: 0.806524932384491\n",
      "\n"
     ]
    },
    {
     "name": "stderr",
     "output_type": "stream",
     "text": [
      " 56%|███████████████████████▌                  | 56/100 [02:34<02:01,  2.76s/it]"
     ]
    },
    {
     "name": "stdout",
     "output_type": "stream",
     "text": [
      "EPOCH 56: Loss: 0.2288062423467636, Accuracy: 0.8048369884490967, Best_accuracy: 0.8048369884490967\n",
      "Val_loss: 0.22664600610733032, Val_accuracy: 0.8102644681930542, Best_val_accuracy: 0.8102644681930542\n",
      "\n"
     ]
    },
    {
     "name": "stderr",
     "output_type": "stream",
     "text": [
      " 57%|███████████████████████▉                  | 57/100 [02:37<01:58,  2.76s/it]"
     ]
    },
    {
     "name": "stdout",
     "output_type": "stream",
     "text": [
      "EPOCH 57: Loss: 0.22564738988876343, Accuracy: 0.80727219581604, Best_accuracy: 0.80727219581604\n",
      "Val_loss: 0.2415165901184082, Val_accuracy: 0.7904245853424072, Best_val_accuracy: 0.8102644681930542\n",
      "\n"
     ]
    },
    {
     "name": "stderr",
     "output_type": "stream",
     "text": [
      " 58%|████████████████████████▎                 | 58/100 [02:40<01:58,  2.81s/it]"
     ]
    },
    {
     "name": "stdout",
     "output_type": "stream",
     "text": [
      "EPOCH 58: Loss: 0.22745460271835327, Accuracy: 0.8052529096603394, Best_accuracy: 0.80727219581604\n",
      "Val_loss: 0.22904768586158752, Val_accuracy: 0.8068392276763916, Best_val_accuracy: 0.8102644681930542\n",
      "\n"
     ]
    },
    {
     "name": "stderr",
     "output_type": "stream",
     "text": [
      " 59%|████████████████████████▊                 | 59/100 [02:43<01:55,  2.82s/it]"
     ]
    },
    {
     "name": "stdout",
     "output_type": "stream",
     "text": [
      "EPOCH 59: Loss: 0.2227928340435028, Accuracy: 0.8113663196563721, Best_accuracy: 0.8113663196563721\n",
      "Val_loss: 0.2253381311893463, Val_accuracy: 0.8114023208618164, Best_val_accuracy: 0.8114023208618164\n",
      "\n"
     ]
    },
    {
     "name": "stderr",
     "output_type": "stream",
     "text": [
      " 60%|█████████████████████████▏                | 60/100 [02:46<01:53,  2.83s/it]"
     ]
    },
    {
     "name": "stdout",
     "output_type": "stream",
     "text": [
      "EPOCH 60: Loss: 0.21592891216278076, Accuracy: 0.8185960650444031, Best_accuracy: 0.8185960650444031\n",
      "Val_loss: 0.2165875881910324, Val_accuracy: 0.8197084665298462, Best_val_accuracy: 0.8197084665298462\n",
      "\n"
     ]
    },
    {
     "name": "stderr",
     "output_type": "stream",
     "text": [
      " 61%|█████████████████████████▌                | 61/100 [02:49<01:50,  2.82s/it]"
     ]
    },
    {
     "name": "stdout",
     "output_type": "stream",
     "text": [
      "EPOCH 61: Loss: 0.21047255396842957, Accuracy: 0.8234504461288452, Best_accuracy: 0.8234504461288452\n",
      "Val_loss: 0.2109420746564865, Val_accuracy: 0.8258157968521118, Best_val_accuracy: 0.8258157968521118\n",
      "\n"
     ]
    },
    {
     "name": "stderr",
     "output_type": "stream",
     "text": [
      " 62%|██████████████████████████                | 62/100 [02:51<01:47,  2.82s/it]"
     ]
    },
    {
     "name": "stdout",
     "output_type": "stream",
     "text": [
      "EPOCH 62: Loss: 0.20698681473731995, Accuracy: 0.8272470831871033, Best_accuracy: 0.8272470831871033\n",
      "Val_loss: 0.208779439330101, Val_accuracy: 0.8288190364837646, Best_val_accuracy: 0.8288190364837646\n",
      "\n"
     ]
    },
    {
     "name": "stderr",
     "output_type": "stream",
     "text": [
      " 63%|██████████████████████████▍               | 63/100 [02:54<01:44,  2.81s/it]"
     ]
    },
    {
     "name": "stdout",
     "output_type": "stream",
     "text": [
      "EPOCH 63: Loss: 0.20302125811576843, Accuracy: 0.8324558138847351, Best_accuracy: 0.8324558138847351\n",
      "Val_loss: 0.2022339403629303, Val_accuracy: 0.8347851037979126, Best_val_accuracy: 0.8347851037979126\n",
      "\n"
     ]
    },
    {
     "name": "stderr",
     "output_type": "stream",
     "text": [
      " 64%|██████████████████████████▉               | 64/100 [02:57<01:40,  2.80s/it]"
     ]
    },
    {
     "name": "stdout",
     "output_type": "stream",
     "text": [
      "EPOCH 64: Loss: 0.19853973388671875, Accuracy: 0.8371020555496216, Best_accuracy: 0.8371020555496216\n",
      "Val_loss: 0.1967230886220932, Val_accuracy: 0.8410912752151489, Best_val_accuracy: 0.8410912752151489\n",
      "\n"
     ]
    },
    {
     "name": "stderr",
     "output_type": "stream",
     "text": [
      " 65%|███████████████████████████▎              | 65/100 [03:00<01:38,  2.80s/it]"
     ]
    },
    {
     "name": "stdout",
     "output_type": "stream",
     "text": [
      "EPOCH 65: Loss: 0.1954077184200287, Accuracy: 0.8397994041442871, Best_accuracy: 0.8397994041442871\n",
      "Val_loss: 0.19433581829071045, Val_accuracy: 0.8430613279342651, Best_val_accuracy: 0.8430613279342651\n",
      "\n"
     ]
    },
    {
     "name": "stderr",
     "output_type": "stream",
     "text": [
      " 66%|███████████████████████████▋              | 66/100 [03:03<01:35,  2.80s/it]"
     ]
    },
    {
     "name": "stdout",
     "output_type": "stream",
     "text": [
      "EPOCH 66: Loss: 0.19232577085494995, Accuracy: 0.8427046537399292, Best_accuracy: 0.8427046537399292\n",
      "Val_loss: 0.20167943835258484, Val_accuracy: 0.8353350162506104, Best_val_accuracy: 0.8430613279342651\n",
      "\n"
     ]
    },
    {
     "name": "stderr",
     "output_type": "stream",
     "text": [
      " 67%|████████████████████████████▏             | 67/100 [03:05<01:32,  2.80s/it]"
     ]
    },
    {
     "name": "stdout",
     "output_type": "stream",
     "text": [
      "EPOCH 67: Loss: 0.20015239715576172, Accuracy: 0.8341536521911621, Best_accuracy: 0.8427046537399292\n",
      "Val_loss: 0.1958983987569809, Val_accuracy: 0.8437134623527527, Best_val_accuracy: 0.8437134623527527\n",
      "\n"
     ]
    },
    {
     "name": "stderr",
     "output_type": "stream",
     "text": [
      " 68%|████████████████████████████▌             | 68/100 [03:08<01:29,  2.79s/it]"
     ]
    },
    {
     "name": "stdout",
     "output_type": "stream",
     "text": [
      "EPOCH 68: Loss: 0.19722718000411987, Accuracy: 0.837408721446991, Best_accuracy: 0.8427046537399292\n",
      "Val_loss: 0.20612037181854248, Val_accuracy: 0.8351496458053589, Best_val_accuracy: 0.8437134623527527\n",
      "\n"
     ]
    },
    {
     "name": "stderr",
     "output_type": "stream",
     "text": [
      " 69%|████████████████████████████▉             | 69/100 [03:11<01:26,  2.79s/it]"
     ]
    },
    {
     "name": "stdout",
     "output_type": "stream",
     "text": [
      "EPOCH 69: Loss: 0.20387785136699677, Accuracy: 0.8318288326263428, Best_accuracy: 0.8427046537399292\n",
      "Val_loss: 0.19289618730545044, Val_accuracy: 0.8464655876159668, Best_val_accuracy: 0.8464655876159668\n",
      "\n"
     ]
    },
    {
     "name": "stderr",
     "output_type": "stream",
     "text": [
      " 70%|█████████████████████████████▍            | 70/100 [03:14<01:23,  2.78s/it]"
     ]
    },
    {
     "name": "stdout",
     "output_type": "stream",
     "text": [
      "EPOCH 70: Loss: 0.19359956681728363, Accuracy: 0.8427691459655762, Best_accuracy: 0.8427691459655762\n",
      "Val_loss: 0.18450850248336792, Val_accuracy: 0.8539809584617615, Best_val_accuracy: 0.8539809584617615\n",
      "\n"
     ]
    },
    {
     "name": "stderr",
     "output_type": "stream",
     "text": [
      " 71%|█████████████████████████████▊            | 71/100 [03:16<01:20,  2.78s/it]"
     ]
    },
    {
     "name": "stdout",
     "output_type": "stream",
     "text": [
      "EPOCH 71: Loss: 0.18295399844646454, Accuracy: 0.8520722389221191, Best_accuracy: 0.8520722389221191\n",
      "Val_loss: 0.18524137139320374, Val_accuracy: 0.8531209230422974, Best_val_accuracy: 0.8539809584617615\n",
      "\n"
     ]
    },
    {
     "name": "stderr",
     "output_type": "stream",
     "text": [
      " 72%|██████████████████████████████▏           | 72/100 [03:19<01:17,  2.77s/it]"
     ]
    },
    {
     "name": "stdout",
     "output_type": "stream",
     "text": [
      "EPOCH 72: Loss: 0.18096911907196045, Accuracy: 0.8545476794242859, Best_accuracy: 0.8545476794242859\n",
      "Val_loss: 0.17918306589126587, Val_accuracy: 0.8580152988433838, Best_val_accuracy: 0.8580152988433838\n",
      "\n"
     ]
    },
    {
     "name": "stderr",
     "output_type": "stream",
     "text": [
      " 73%|██████████████████████████████▋           | 73/100 [03:22<01:14,  2.77s/it]"
     ]
    },
    {
     "name": "stdout",
     "output_type": "stream",
     "text": [
      "EPOCH 73: Loss: 0.17554336786270142, Accuracy: 0.858569860458374, Best_accuracy: 0.858569860458374\n",
      "Val_loss: 0.17293700575828552, Val_accuracy: 0.864520788192749, Best_val_accuracy: 0.864520788192749\n",
      "\n"
     ]
    },
    {
     "name": "stderr",
     "output_type": "stream",
     "text": [
      " 74%|███████████████████████████████           | 74/100 [03:25<01:11,  2.76s/it]"
     ]
    },
    {
     "name": "stdout",
     "output_type": "stream",
     "text": [
      "EPOCH 74: Loss: 0.17095735669136047, Accuracy: 0.8630870580673218, Best_accuracy: 0.8630870580673218\n",
      "Val_loss: 0.17240941524505615, Val_accuracy: 0.865666389465332, Best_val_accuracy: 0.865666389465332\n",
      "\n"
     ]
    },
    {
     "name": "stderr",
     "output_type": "stream",
     "text": [
      " 75%|███████████████████████████████▌          | 75/100 [03:27<01:08,  2.75s/it]"
     ]
    },
    {
     "name": "stdout",
     "output_type": "stream",
     "text": [
      "EPOCH 75: Loss: 0.16774243116378784, Accuracy: 0.86631840467453, Best_accuracy: 0.86631840467453\n",
      "Val_loss: 0.16667461395263672, Val_accuracy: 0.8692598342895508, Best_val_accuracy: 0.8692598342895508\n",
      "\n"
     ]
    },
    {
     "name": "stderr",
     "output_type": "stream",
     "text": [
      " 76%|███████████████████████████████▉          | 76/100 [03:30<01:06,  2.78s/it]"
     ]
    },
    {
     "name": "stdout",
     "output_type": "stream",
     "text": [
      "EPOCH 76: Loss: 0.1637221872806549, Accuracy: 0.8691744208335876, Best_accuracy: 0.8691744208335876\n",
      "Val_loss: 0.1697189062833786, Val_accuracy: 0.8659701347351074, Best_val_accuracy: 0.8692598342895508\n",
      "\n"
     ]
    },
    {
     "name": "stderr",
     "output_type": "stream",
     "text": [
      " 77%|████████████████████████████████▎         | 77/100 [03:33<01:03,  2.77s/it]"
     ]
    },
    {
     "name": "stdout",
     "output_type": "stream",
     "text": [
      "EPOCH 77: Loss: 0.16267697513103485, Accuracy: 0.871373176574707, Best_accuracy: 0.871373176574707\n",
      "Val_loss: 0.16173194348812103, Val_accuracy: 0.8738231062889099, Best_val_accuracy: 0.8738231062889099\n",
      "\n"
     ]
    },
    {
     "name": "stderr",
     "output_type": "stream",
     "text": [
      " 78%|████████████████████████████████▊         | 78/100 [03:36<01:00,  2.77s/it]"
     ]
    },
    {
     "name": "stdout",
     "output_type": "stream",
     "text": [
      "EPOCH 78: Loss: 0.15863317251205444, Accuracy: 0.8749217987060547, Best_accuracy: 0.8749217987060547\n",
      "Val_loss: 0.16051553189754486, Val_accuracy: 0.8752998113632202, Best_val_accuracy: 0.8752998113632202\n",
      "\n"
     ]
    },
    {
     "name": "stderr",
     "output_type": "stream",
     "text": [
      " 79%|█████████████████████████████████▏        | 79/100 [03:39<00:57,  2.76s/it]"
     ]
    },
    {
     "name": "stdout",
     "output_type": "stream",
     "text": [
      "EPOCH 79: Loss: 0.16411910951137543, Accuracy: 0.8684682250022888, Best_accuracy: 0.8749217987060547\n",
      "Val_loss: 0.17242929339408875, Val_accuracy: 0.8649560809135437, Best_val_accuracy: 0.8752998113632202\n",
      "\n"
     ]
    },
    {
     "name": "stderr",
     "output_type": "stream",
     "text": [
      " 80%|█████████████████████████████████▌        | 80/100 [03:41<00:54,  2.75s/it]"
     ]
    },
    {
     "name": "stdout",
     "output_type": "stream",
     "text": [
      "EPOCH 80: Loss: 0.15823784470558167, Accuracy: 0.8745571374893188, Best_accuracy: 0.8749217987060547\n",
      "Val_loss: 0.165941521525383, Val_accuracy: 0.8705728054046631, Best_val_accuracy: 0.8752998113632202\n",
      "\n"
     ]
    },
    {
     "name": "stderr",
     "output_type": "stream",
     "text": [
      " 81%|██████████████████████████████████        | 81/100 [03:44<00:52,  2.75s/it]"
     ]
    },
    {
     "name": "stdout",
     "output_type": "stream",
     "text": [
      "EPOCH 81: Loss: 0.16393783688545227, Accuracy: 0.8677295446395874, Best_accuracy: 0.8749217987060547\n",
      "Val_loss: 0.15271517634391785, Val_accuracy: 0.8820328712463379, Best_val_accuracy: 0.8820328712463379\n",
      "\n"
     ]
    },
    {
     "name": "stderr",
     "output_type": "stream",
     "text": [
      " 82%|██████████████████████████████████▍       | 82/100 [03:47<00:49,  2.75s/it]"
     ]
    },
    {
     "name": "stdout",
     "output_type": "stream",
     "text": [
      "EPOCH 82: Loss: 0.1582951694726944, Accuracy: 0.8737995028495789, Best_accuracy: 0.8749217987060547\n",
      "Val_loss: 0.15551665425300598, Val_accuracy: 0.8776528835296631, Best_val_accuracy: 0.8820328712463379\n",
      "\n"
     ]
    },
    {
     "name": "stderr",
     "output_type": "stream",
     "text": [
      " 83%|██████████████████████████████████▊       | 83/100 [03:49<00:46,  2.75s/it]"
     ]
    },
    {
     "name": "stdout",
     "output_type": "stream",
     "text": [
      "EPOCH 83: Loss: 0.15478681027889252, Accuracy: 0.877724289894104, Best_accuracy: 0.877724289894104\n",
      "Val_loss: 0.15156249701976776, Val_accuracy: 0.882476806640625, Best_val_accuracy: 0.882476806640625\n",
      "\n"
     ]
    },
    {
     "name": "stderr",
     "output_type": "stream",
     "text": [
      " 84%|███████████████████████████████████▎      | 84/100 [03:52<00:44,  2.75s/it]"
     ]
    },
    {
     "name": "stdout",
     "output_type": "stream",
     "text": [
      "EPOCH 84: Loss: 0.15045353770256042, Accuracy: 0.8813620805740356, Best_accuracy: 0.8813620805740356\n",
      "Val_loss: 0.15118779242038727, Val_accuracy: 0.883206844329834, Best_val_accuracy: 0.883206844329834\n",
      "\n"
     ]
    },
    {
     "name": "stderr",
     "output_type": "stream",
     "text": [
      " 85%|███████████████████████████████████▋      | 85/100 [03:55<00:41,  2.74s/it]"
     ]
    },
    {
     "name": "stdout",
     "output_type": "stream",
     "text": [
      "EPOCH 85: Loss: 0.1499495804309845, Accuracy: 0.8811103701591492, Best_accuracy: 0.8813620805740356\n",
      "Val_loss: 0.15031248331069946, Val_accuracy: 0.8836971521377563, Best_val_accuracy: 0.8836971521377563\n",
      "\n"
     ]
    },
    {
     "name": "stderr",
     "output_type": "stream",
     "text": [
      " 86%|████████████████████████████████████      | 86/100 [03:58<00:38,  2.74s/it]"
     ]
    },
    {
     "name": "stdout",
     "output_type": "stream",
     "text": [
      "EPOCH 86: Loss: 0.14945214986801147, Accuracy: 0.8810436129570007, Best_accuracy: 0.8813620805740356\n",
      "Val_loss: 0.14985381066799164, Val_accuracy: 0.8836905360221863, Best_val_accuracy: 0.8836971521377563\n",
      "\n"
     ]
    },
    {
     "name": "stderr",
     "output_type": "stream",
     "text": [
      " 87%|████████████████████████████████████▌     | 87/100 [04:00<00:35,  2.74s/it]"
     ]
    },
    {
     "name": "stdout",
     "output_type": "stream",
     "text": [
      "EPOCH 87: Loss: 0.14599484205245972, Accuracy: 0.8846248984336853, Best_accuracy: 0.8846248984336853\n",
      "Val_loss: 0.15269801020622253, Val_accuracy: 0.8815697431564331, Best_val_accuracy: 0.8836971521377563\n",
      "\n"
     ]
    },
    {
     "name": "stderr",
     "output_type": "stream",
     "text": [
      " 88%|████████████████████████████████████▉     | 88/100 [04:03<00:32,  2.74s/it]"
     ]
    },
    {
     "name": "stdout",
     "output_type": "stream",
     "text": [
      "EPOCH 88: Loss: 0.14595365524291992, Accuracy: 0.8846776485443115, Best_accuracy: 0.8846776485443115\n",
      "Val_loss: 0.15374892950057983, Val_accuracy: 0.8813301920890808, Best_val_accuracy: 0.8836971521377563\n",
      "\n"
     ]
    },
    {
     "name": "stderr",
     "output_type": "stream",
     "text": [
      " 89%|█████████████████████████████████████▍    | 89/100 [04:06<00:30,  2.73s/it]"
     ]
    },
    {
     "name": "stdout",
     "output_type": "stream",
     "text": [
      "EPOCH 89: Loss: 0.14349275827407837, Accuracy: 0.8869611620903015, Best_accuracy: 0.8869611620903015\n",
      "Val_loss: 0.1520576924085617, Val_accuracy: 0.8830360770225525, Best_val_accuracy: 0.8836971521377563\n",
      "\n"
     ]
    },
    {
     "name": "stderr",
     "output_type": "stream",
     "text": [
      " 90%|█████████████████████████████████████▊    | 90/100 [04:09<00:27,  2.73s/it]"
     ]
    },
    {
     "name": "stdout",
     "output_type": "stream",
     "text": [
      "EPOCH 90: Loss: 0.1409824788570404, Accuracy: 0.8882956504821777, Best_accuracy: 0.8882956504821777\n",
      "Val_loss: 0.14790791273117065, Val_accuracy: 0.8855478763580322, Best_val_accuracy: 0.8855478763580322\n",
      "\n"
     ]
    },
    {
     "name": "stderr",
     "output_type": "stream",
     "text": [
      " 91%|██████████████████████████████████████▏   | 91/100 [04:11<00:24,  2.74s/it]"
     ]
    },
    {
     "name": "stdout",
     "output_type": "stream",
     "text": [
      "EPOCH 91: Loss: 0.13790449500083923, Accuracy: 0.8929799795150757, Best_accuracy: 0.8929799795150757\n",
      "Val_loss: 0.14619287848472595, Val_accuracy: 0.8870043754577637, Best_val_accuracy: 0.8870043754577637\n",
      "\n"
     ]
    },
    {
     "name": "stderr",
     "output_type": "stream",
     "text": [
      " 92%|██████████████████████████████████████▋   | 92/100 [04:14<00:21,  2.74s/it]"
     ]
    },
    {
     "name": "stdout",
     "output_type": "stream",
     "text": [
      "EPOCH 92: Loss: 0.13520877063274384, Accuracy: 0.8952533602714539, Best_accuracy: 0.8952533602714539\n",
      "Val_loss: 0.1456851363182068, Val_accuracy: 0.8885048627853394, Best_val_accuracy: 0.8885048627853394\n",
      "\n"
     ]
    },
    {
     "name": "stderr",
     "output_type": "stream",
     "text": [
      " 93%|███████████████████████████████████████   | 93/100 [04:17<00:19,  2.74s/it]"
     ]
    },
    {
     "name": "stdout",
     "output_type": "stream",
     "text": [
      "EPOCH 93: Loss: 0.13417480885982513, Accuracy: 0.8953955173492432, Best_accuracy: 0.8953955173492432\n",
      "Val_loss: 0.14408588409423828, Val_accuracy: 0.8892402052879333, Best_val_accuracy: 0.8892402052879333\n",
      "\n"
     ]
    },
    {
     "name": "stderr",
     "output_type": "stream",
     "text": [
      " 94%|███████████████████████████████████████▍  | 94/100 [04:20<00:16,  2.74s/it]"
     ]
    },
    {
     "name": "stdout",
     "output_type": "stream",
     "text": [
      "EPOCH 94: Loss: 0.13333289325237274, Accuracy: 0.895321249961853, Best_accuracy: 0.8953955173492432\n",
      "Val_loss: 0.13626067340373993, Val_accuracy: 0.8957114219665527, Best_val_accuracy: 0.8957114219665527\n",
      "\n"
     ]
    },
    {
     "name": "stderr",
     "output_type": "stream",
     "text": [
      " 95%|███████████████████████████████████████▉  | 95/100 [04:22<00:13,  2.76s/it]"
     ]
    },
    {
     "name": "stdout",
     "output_type": "stream",
     "text": [
      "EPOCH 95: Loss: 0.1306390017271042, Accuracy: 0.8981478214263916, Best_accuracy: 0.8981478214263916\n",
      "Val_loss: 0.13372556865215302, Val_accuracy: 0.8974727988243103, Best_val_accuracy: 0.8974727988243103\n",
      "\n"
     ]
    },
    {
     "name": "stderr",
     "output_type": "stream",
     "text": [
      " 96%|████████████████████████████████████████▎ | 96/100 [04:25<00:10,  2.75s/it]"
     ]
    },
    {
     "name": "stdout",
     "output_type": "stream",
     "text": [
      "EPOCH 96: Loss: 0.13038967549800873, Accuracy: 0.8986968994140625, Best_accuracy: 0.8986968994140625\n",
      "Val_loss: 0.13549186289310455, Val_accuracy: 0.8952668905258179, Best_val_accuracy: 0.8974727988243103\n",
      "\n"
     ]
    },
    {
     "name": "stderr",
     "output_type": "stream",
     "text": [
      " 97%|████████████████████████████████████████▋ | 97/100 [04:28<00:08,  2.74s/it]"
     ]
    },
    {
     "name": "stdout",
     "output_type": "stream",
     "text": [
      "EPOCH 97: Loss: 0.1297069638967514, Accuracy: 0.8987408876419067, Best_accuracy: 0.8987408876419067\n",
      "Val_loss: 0.13531863689422607, Val_accuracy: 0.8951935172080994, Best_val_accuracy: 0.8974727988243103\n",
      "\n"
     ]
    },
    {
     "name": "stderr",
     "output_type": "stream",
     "text": [
      " 98%|█████████████████████████████████████████▏| 98/100 [04:31<00:05,  2.74s/it]"
     ]
    },
    {
     "name": "stdout",
     "output_type": "stream",
     "text": [
      "EPOCH 98: Loss: 0.13172972202301025, Accuracy: 0.8964523077011108, Best_accuracy: 0.8987408876419067\n",
      "Val_loss: 0.13151264190673828, Val_accuracy: 0.899526834487915, Best_val_accuracy: 0.899526834487915\n",
      "\n"
     ]
    },
    {
     "name": "stderr",
     "output_type": "stream",
     "text": [
      " 99%|█████████████████████████████████████████▌| 99/100 [04:33<00:02,  2.74s/it]"
     ]
    },
    {
     "name": "stdout",
     "output_type": "stream",
     "text": [
      "EPOCH 99: Loss: 0.1273309588432312, Accuracy: 0.9006361961364746, Best_accuracy: 0.9006361961364746\n",
      "Val_loss: 0.1300548017024994, Val_accuracy: 0.9010850787162781, Best_val_accuracy: 0.9010850787162781\n",
      "\n"
     ]
    },
    {
     "name": "stderr",
     "output_type": "stream",
     "text": [
      "100%|█████████████████████████████████████████| 100/100 [04:36<00:00,  2.77s/it]"
     ]
    },
    {
     "name": "stdout",
     "output_type": "stream",
     "text": [
      "EPOCH 100: Loss: 0.12744837999343872, Accuracy: 0.9008908271789551, Best_accuracy: 0.9008908271789551\n",
      "Val_loss: 0.14007622003555298, Val_accuracy: 0.8932157754898071, Best_val_accuracy: 0.9010850787162781\n",
      "\n"
     ]
    },
    {
     "name": "stderr",
     "output_type": "stream",
     "text": [
      "\n"
     ]
    }
   ],
   "source": [
    "# All logs will be stored here\n",
    "with open(f'{out_dir}/logs.csv', 'w') as file:\n",
    "    file.write('epoch,loss,accuracy,best_accuracy,val_loss,val_accuracy,best_val_accuracy\\n')\n",
    "\n",
    "\n",
    "best_accuracy = 0.0 \n",
    "best_eval_accuracy = 0.0\n",
    "\n",
    "for epoch in tqdm(range(epochs)): \n",
    "    model.train()\n",
    "    \n",
    "    running_loss = 0.0  # used to compute mean values across the whole epoch\n",
    "    running_acc = 0.0\n",
    "    \n",
    "    running_eval_loss = 0.0 \n",
    "    running_eval_acc = 0.0\n",
    "\n",
    "    for x,y in iter(train_dataloader): # Train loop\n",
    "        x = x.to(device)\n",
    "        y = y.to(device)\n",
    "        \n",
    "        opt.zero_grad() \n",
    "        \n",
    "        \n",
    "        pred = model(x) \n",
    "        loss = criterion(pred,y) \n",
    "        loss.backward() \n",
    "        opt.step() \n",
    "        \n",
    "        running_loss += loss.detach() # detach is used to not store gradients\n",
    "        \n",
    "        accuracy = torch.div(torch.sum(torch.argmax(pred, dim=1) == torch.argmax(y, dim=1)),\n",
    "                             y.size(dim=0)) \n",
    "        \n",
    "        running_acc += accuracy \n",
    "            \n",
    "    running_loss = running_loss/len(train_dataloader) \n",
    "    running_acc = running_acc/len(train_dataloader)\n",
    "\n",
    "    if running_acc > best_accuracy: \n",
    "            best_accuracy = running_acc\n",
    "    \n",
    "    \n",
    "    for x,y in iter(test_dataloader): # Test loop\n",
    "        x = x.to(device)\n",
    "        y = y.to(device)\n",
    "        \n",
    "        model.eval() \n",
    "        pred = model(x) \n",
    "        loss = criterion(pred,y) \n",
    "        \n",
    "        running_eval_loss += loss.detach()\n",
    "        \n",
    "        accuracy = torch.div(torch.sum(torch.argmax(pred, dim=1) == torch.argmax(y, dim=1)),\n",
    "                             y.size(dim=0)) \n",
    "        running_eval_acc += accuracy\n",
    "    \n",
    "    running_eval_loss = running_eval_loss/len(test_dataloader)\n",
    "    running_eval_acc = running_eval_acc/len(test_dataloader)\n",
    "\n",
    "    if running_eval_acc>= best_eval_accuracy:\n",
    "            best_eval_accuracy = running_eval_acc\n",
    "            torch.save(model, f'{out_dir}/best.pt') # Always save the best model\n",
    "\n",
    "    \n",
    "    print(f'EPOCH {epoch+1}: Loss: {running_loss}, Accuracy: {running_acc}, Best_accuracy: {best_accuracy}')\n",
    "    print(f'Val_loss: {running_eval_loss}, Val_accuracy: {running_eval_acc}, Best_val_accuracy: {best_eval_accuracy}')\n",
    "    print()\n",
    "\n",
    "    with open(f'{out_dir}/logs.csv', 'a') as file:\n",
    "        file.write(f'{epoch+1},{running_loss},{running_acc},{best_accuracy},{running_eval_loss},{running_eval_acc},{best_eval_accuracy}\\n')\n",
    "          \n",
    "            \n",
    "torch.save(model, f'{out_dir}/last.pt') # Always save the last model alongside with the best one"
   ]
  },
  {
   "cell_type": "code",
   "execution_count": 14,
   "id": "4981bf2d-0596-405d-9893-7419c7db7f51",
   "metadata": {},
   "outputs": [
    {
     "data": {
      "text/html": [
       "<div>\n",
       "<style scoped>\n",
       "    .dataframe tbody tr th:only-of-type {\n",
       "        vertical-align: middle;\n",
       "    }\n",
       "\n",
       "    .dataframe tbody tr th {\n",
       "        vertical-align: top;\n",
       "    }\n",
       "\n",
       "    .dataframe thead th {\n",
       "        text-align: right;\n",
       "    }\n",
       "</style>\n",
       "<table border=\"1\" class=\"dataframe\">\n",
       "  <thead>\n",
       "    <tr style=\"text-align: right;\">\n",
       "      <th></th>\n",
       "      <th>epoch</th>\n",
       "      <th>loss</th>\n",
       "      <th>accuracy</th>\n",
       "      <th>best_accuracy</th>\n",
       "      <th>val_loss</th>\n",
       "      <th>val_accuracy</th>\n",
       "      <th>best_val_accuracy</th>\n",
       "    </tr>\n",
       "  </thead>\n",
       "  <tbody>\n",
       "    <tr>\n",
       "      <th>0</th>\n",
       "      <td>1</td>\n",
       "      <td>0.516235</td>\n",
       "      <td>0.591762</td>\n",
       "      <td>0.591762</td>\n",
       "      <td>0.440943</td>\n",
       "      <td>0.703596</td>\n",
       "      <td>0.703596</td>\n",
       "    </tr>\n",
       "    <tr>\n",
       "      <th>1</th>\n",
       "      <td>2</td>\n",
       "      <td>0.315022</td>\n",
       "      <td>0.785306</td>\n",
       "      <td>0.785306</td>\n",
       "      <td>0.228081</td>\n",
       "      <td>0.853760</td>\n",
       "      <td>0.853760</td>\n",
       "    </tr>\n",
       "    <tr>\n",
       "      <th>2</th>\n",
       "      <td>3</td>\n",
       "      <td>0.219331</td>\n",
       "      <td>0.854434</td>\n",
       "      <td>0.854434</td>\n",
       "      <td>0.211029</td>\n",
       "      <td>0.860620</td>\n",
       "      <td>0.860620</td>\n",
       "    </tr>\n",
       "    <tr>\n",
       "      <th>3</th>\n",
       "      <td>4</td>\n",
       "      <td>0.175108</td>\n",
       "      <td>0.886988</td>\n",
       "      <td>0.886988</td>\n",
       "      <td>0.159744</td>\n",
       "      <td>0.898582</td>\n",
       "      <td>0.898582</td>\n",
       "    </tr>\n",
       "    <tr>\n",
       "      <th>4</th>\n",
       "      <td>5</td>\n",
       "      <td>0.149536</td>\n",
       "      <td>0.905201</td>\n",
       "      <td>0.905201</td>\n",
       "      <td>0.147604</td>\n",
       "      <td>0.907476</td>\n",
       "      <td>0.907476</td>\n",
       "    </tr>\n",
       "    <tr>\n",
       "      <th>...</th>\n",
       "      <td>...</td>\n",
       "      <td>...</td>\n",
       "      <td>...</td>\n",
       "      <td>...</td>\n",
       "      <td>...</td>\n",
       "      <td>...</td>\n",
       "      <td>...</td>\n",
       "    </tr>\n",
       "    <tr>\n",
       "      <th>95</th>\n",
       "      <td>96</td>\n",
       "      <td>0.002926</td>\n",
       "      <td>0.998506</td>\n",
       "      <td>0.999173</td>\n",
       "      <td>0.241117</td>\n",
       "      <td>0.942393</td>\n",
       "      <td>0.944587</td>\n",
       "    </tr>\n",
       "    <tr>\n",
       "      <th>96</th>\n",
       "      <td>97</td>\n",
       "      <td>0.006546</td>\n",
       "      <td>0.996612</td>\n",
       "      <td>0.999173</td>\n",
       "      <td>0.205221</td>\n",
       "      <td>0.943156</td>\n",
       "      <td>0.944587</td>\n",
       "    </tr>\n",
       "    <tr>\n",
       "      <th>97</th>\n",
       "      <td>98</td>\n",
       "      <td>0.005639</td>\n",
       "      <td>0.996960</td>\n",
       "      <td>0.999173</td>\n",
       "      <td>0.211348</td>\n",
       "      <td>0.942238</td>\n",
       "      <td>0.944587</td>\n",
       "    </tr>\n",
       "    <tr>\n",
       "      <th>98</th>\n",
       "      <td>99</td>\n",
       "      <td>0.003663</td>\n",
       "      <td>0.998346</td>\n",
       "      <td>0.999173</td>\n",
       "      <td>0.223679</td>\n",
       "      <td>0.937211</td>\n",
       "      <td>0.944587</td>\n",
       "    </tr>\n",
       "    <tr>\n",
       "      <th>99</th>\n",
       "      <td>100</td>\n",
       "      <td>0.004290</td>\n",
       "      <td>0.998000</td>\n",
       "      <td>0.999173</td>\n",
       "      <td>0.217582</td>\n",
       "      <td>0.942674</td>\n",
       "      <td>0.944587</td>\n",
       "    </tr>\n",
       "  </tbody>\n",
       "</table>\n",
       "<p>100 rows × 7 columns</p>\n",
       "</div>"
      ],
      "text/plain": [
       "    epoch      loss  accuracy  best_accuracy  val_loss  val_accuracy  \\\n",
       "0       1  0.516235  0.591762       0.591762  0.440943      0.703596   \n",
       "1       2  0.315022  0.785306       0.785306  0.228081      0.853760   \n",
       "2       3  0.219331  0.854434       0.854434  0.211029      0.860620   \n",
       "3       4  0.175108  0.886988       0.886988  0.159744      0.898582   \n",
       "4       5  0.149536  0.905201       0.905201  0.147604      0.907476   \n",
       "..    ...       ...       ...            ...       ...           ...   \n",
       "95     96  0.002926  0.998506       0.999173  0.241117      0.942393   \n",
       "96     97  0.006546  0.996612       0.999173  0.205221      0.943156   \n",
       "97     98  0.005639  0.996960       0.999173  0.211348      0.942238   \n",
       "98     99  0.003663  0.998346       0.999173  0.223679      0.937211   \n",
       "99    100  0.004290  0.998000       0.999173  0.217582      0.942674   \n",
       "\n",
       "    best_val_accuracy  \n",
       "0            0.703596  \n",
       "1            0.853760  \n",
       "2            0.860620  \n",
       "3            0.898582  \n",
       "4            0.907476  \n",
       "..                ...  \n",
       "95           0.944587  \n",
       "96           0.944587  \n",
       "97           0.944587  \n",
       "98           0.944587  \n",
       "99           0.944587  \n",
       "\n",
       "[100 rows x 7 columns]"
      ]
     },
     "execution_count": 14,
     "metadata": {},
     "output_type": "execute_result"
    }
   ],
   "source": [
    "import pandas as pd\n",
    "\n",
    "df = pd.read_csv(f'{out_dir}/logs.csv')\n",
    "df"
   ]
  },
  {
   "cell_type": "code",
   "execution_count": 15,
   "id": "ece332cf-aec5-4b77-ab88-97b5b35eb6b5",
   "metadata": {},
   "outputs": [
    {
     "data": {
      "text/plain": [
       "<matplotlib.legend.Legend at 0x7a5a72780250>"
      ]
     },
     "execution_count": 15,
     "metadata": {},
     "output_type": "execute_result"
    },
    {
     "data": {
      "image/png": "[encoded data removed]",
      "text/plain": [
       "<Figure size 640x480 with 1 Axes>"
      ]
     },
     "metadata": {},
     "output_type": "display_data"
    }
   ],
   "source": [
    "import matplotlib.pyplot as plt\n",
    "\n",
    "plt.plot(df.epoch, df.loss, label='Training Loss')\n",
    "plt.plot(df.epoch, df.val_loss, label='Validation Loss')\n",
    " \n",
    "plt.title('Training and Validation Loss')\n",
    "plt.xlabel('Epochs')\n",
    "plt.ylabel('Loss')\n",
    "plt.legend()"
   ]
  },
  {
   "cell_type": "code",
   "execution_count": 16,
   "id": "3cb35e93-fa6b-4ac9-9182-73a320b40e54",
   "metadata": {},
   "outputs": [
    {
     "data": {
      "text/plain": [
       "<matplotlib.legend.Legend at 0x7a5a723a3810>"
      ]
     },
     "execution_count": 16,
     "metadata": {},
     "output_type": "execute_result"
    },
    {
     "data": {
      "image/png": "[encoded data removed]",
      "text/plain": [
       "<Figure size 640x480 with 1 Axes>"
      ]
     },
     "metadata": {},
     "output_type": "display_data"
    }
   ],
   "source": [
    "plt.plot(df.epoch, df.accuracy, label='Training accuracy')\n",
    "plt.plot(df.epoch, df.val_accuracy, label='Validation accuracy')\n",
    " \n",
    "plt.title('Training and Validation Accuracy')\n",
    "plt.xlabel('Epochs')\n",
    "plt.ylabel('Accuracy')\n",
    "plt.legend()"
   ]
  },
  {
   "cell_type": "code",
   "execution_count": 37,
   "id": "ed543c63-5a91-45e3-badf-5160bb6e9d86",
   "metadata": {},
   "outputs": [],
   "source": [
    "preds = []\n",
    "labels = []\n",
    "\n",
    "model = torch.load(f'{out_dir}/best.pt') \n",
    "model.to('cpu')\n",
    "model.eval() \n",
    "for x,y in iter(test_dataloader): \n",
    "    pred = model(x) \n",
    "    preds.append(pred.detach())\n",
    "\n",
    "    labels.append(y)\n",
    "\n",
    "\n",
    "preds = np.concatenate(preds, axis=0)\n",
    "labels = np.concatenate(labels, axis=0)\n",
    "\n",
    "preds = np.argmax(preds, axis=1)\n",
    "labels = np.argmax(labels, axis=1)"
   ]
  },
  {
   "cell_type": "code",
   "execution_count": 41,
   "id": "84aeecae-9533-4929-b20d-bac3ca7e6958",
   "metadata": {},
   "outputs": [
    {
     "name": "stdout",
     "output_type": "stream",
     "text": [
      "              precision    recall  f1-score   support\n",
      "\n",
      "           0       0.93      0.91      0.92     10908\n",
      "           1       0.96      0.88      0.92     10908\n",
      "           2       0.91      0.89      0.90     10908\n",
      "           3       0.82      0.93      0.87     10908\n",
      "\n",
      "    accuracy                           0.90     43632\n",
      "   macro avg       0.90      0.90      0.90     43632\n",
      "weighted avg       0.90      0.90      0.90     43632\n",
      "\n"
     ]
    }
   ],
   "source": [
    "from sklearn.metrics import classification_report\n",
    "\n",
    "report = classification_report(y_true=labels, y_pred=preds)\n",
    "print(report)"
   ]
  },
  {
   "cell_type": "code",
   "execution_count": 65,
   "id": "8d0427b0-71f7-47ab-b0ed-89e5961a5a08",
   "metadata": {},
   "outputs": [
    {
     "data": {
      "text/plain": [
       "<sklearn.metrics._plot.confusion_matrix.ConfusionMatrixDisplay at 0x7a5a61f3f310>"
      ]
     },
     "execution_count": 65,
     "metadata": {},
     "output_type": "execute_result"
    },
    {
     "data": {
      "image/png": "[encoded data removed]",
      "text/plain": [
       "<Figure size 640x480 with 2 Axes>"
      ]
     },
     "metadata": {},
     "output_type": "display_data"
    }
   ],
   "source": [
    "from sklearn.metrics import confusion_matrix\n",
    "from sklearn.metrics import ConfusionMatrixDisplay\n",
    "\n",
    "\n",
    "cm = confusion_matrix(y_true=labels,\n",
    "                      y_pred=preds)\n",
    "\n",
    "\n",
    "plt.Figure()\n",
    "disp = ConfusionMatrixDisplay(cm,)\n",
    "\n",
    "disp.plot(values_format='')\n",
    "#['lv', 'epi', 'rv', 'base']"
   ]
  }
 ],
 "metadata": {
  "kernelspec": {
   "display_name": "Python 3 (ipykernel)",
   "language": "python",
   "name": "python3"
  },
  "language_info": {
   "codemirror_mode": {
    "name": "ipython",
    "version": 3
   },
   "file_extension": ".py",
   "mimetype": "text/x-python",
   "name": "python",
   "nbconvert_exporter": "python",
   "pygments_lexer": "ipython3",
   "version": "3.11.8"
  }
 },
 "nbformat": 4,
 "nbformat_minor": 5
}
