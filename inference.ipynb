{
 "cells": [
  {
   "cell_type": "code",
   "execution_count": 1,
   "id": "6e059d49-441c-4936-8952-39bc19f5a2da",
   "metadata": {},
   "outputs": [],
   "source": [
    "import os\n",
    "import trimesh\n",
    "import random\n",
    "\n",
    "from scripts.models import Segmentation_Network_full, Segmentation_Network_TL\n",
    "from scripts.utils import save_mesh_with_color_clinical, save_mesh_with_color_acdc, dir_checker\n",
    "from scripts.dataset import CustomDataset\n",
    "\n",
    "import torch\n",
    "import torch.nn as nn\n"
   ]
  },
  {
   "cell_type": "markdown",
   "id": "988ab802-59fb-4adb-a819-dacf262ee25a",
   "metadata": {},
   "source": [
    "# ACDC"
   ]
  },
  {
   "cell_type": "code",
   "execution_count": 2,
   "id": "8bedfe2b-10fb-4b87-8ac6-e310b27ce848",
   "metadata": {},
   "outputs": [
    {
     "name": "stdout",
     "output_type": "stream",
     "text": [
      "\n"
     ]
    }
   ],
   "source": [
    "model_dir = './models/ACDC'\n",
    "target = 'best' # 'last'\n",
    "model = torch.load(f'{model_dir}/{target}.pt').cpu()\n",
    "model.eval()\n",
    "print()"
   ]
  },
  {
   "cell_type": "code",
   "execution_count": 3,
   "id": "9e0e3c7a-7c1b-4cd3-8d85-1197e1935ecf",
   "metadata": {},
   "outputs": [
    {
     "name": "stdout",
     "output_type": "stream",
     "text": [
      "Infering on patient035.obj\n"
     ]
    }
   ],
   "source": [
    "dir_in = './ACDC_simplified/'\n",
    "path_out = './predictions/ACDC'\n",
    "\n",
    "test_names = ['patient001', 'patient002', 'patient004', 'patient006', 'patient009', 'patient012', 'patient016', 'patient017', 'patient018', 'patient019', 'patient024', 'patient025', 'patient026', 'patient027', 'patient028', 'patient033', 'patient035', 'patient036', 'patient037', 'patient040', 'patient041', 'patient043', 'patient045', 'patient046', 'patient048', 'patient051', 'patient053', 'patient055', 'patient057', 'patient059', 'patient061', 'patient065', 'patient067', 'patient069', 'patient070', 'patient071', 'patient072', 'patient073', 'patient078', 'patient079', 'patient081', 'patient082', 'patient083', 'patient085', 'patient086', 'patient090', 'patient091', 'patient093', 'patient097', 'patient100']\n",
    "#name = random.choice(test_names) + '.obj'\n",
    "name = 'patient035.obj'\n",
    "preprocessed_dir = 'prepared_data/sdf'\n",
    "preprocessed_dir += '/' + name[:-4]\n",
    "\n",
    "mesh = trimesh.load(dir_in+name)\n",
    "print('Infering on', name)"
   ]
  },
  {
   "cell_type": "code",
   "execution_count": 4,
   "id": "4044e581-2c46-478a-a1a5-3f6e6e76c1de",
   "metadata": {},
   "outputs": [],
   "source": [
    "if os.path.exists(preprocessed_dir):\n",
    "    sdf = torch.load(f'{preprocessed_dir}/sdf.pt')\n",
    "    colors = torch.load(f'{preprocessed_dir}/color.pt')\n",
    "else:\n",
    "    datagen = CustomDataset(name = name,\n",
    "                  device='cpu',\n",
    "                  count=20,\n",
    "                  rotate_angle=1,\n",
    "                  dataset = 'acdc',\n",
    "                  num_classes=3,\n",
    "                  inference = True,\n",
    "                  return_points = True)\n",
    "    \n",
    "    sdf, colors, points = datagen.get_data()\n",
    "    os.mkdir(preprocessed_dir)\n",
    "    torch.save(sdf, f'{preprocessed_dir}/sdf.pt')\n",
    "    torch.save(colors, f'{preprocessed_dir}/color.pt')\n",
    "    "
   ]
  },
  {
   "cell_type": "code",
   "execution_count": 5,
   "id": "4435a404-d902-4176-82c0-e8e2370c1a9e",
   "metadata": {},
   "outputs": [],
   "source": [
    "predicted = model(sdf.float())"
   ]
  },
  {
   "cell_type": "code",
   "execution_count": 6,
   "id": "2af4e2ff-a82c-46fb-bcde-300bd2c4956e",
   "metadata": {},
   "outputs": [],
   "source": [
    "colors = torch.argmax(colors, dim=1)\n",
    "predicted = torch.argmax(predicted, dim=1)"
   ]
  },
  {
   "cell_type": "code",
   "execution_count": 7,
   "id": "effc5ae4-8ab5-42d5-8bd5-29bb7f45ed3f",
   "metadata": {},
   "outputs": [
    {
     "name": "stdout",
     "output_type": "stream",
     "text": [
      "There's already a dirrectory with this name!\n",
      "Folder for predictions: ./predictions/ACDC/patient035 (1)\n"
     ]
    }
   ],
   "source": [
    "dirname = dir_checker(path_out, name)\n",
    "save_mesh_with_color_acdc(mesh, colors, path=f'{dirname}/{name[:-4]}_original.obj')\n",
    "save_mesh_with_color_acdc(mesh, predicted, path=f'{dirname}/{name[:-4]}_predicted.obj')"
   ]
  },
  {
   "cell_type": "code",
   "execution_count": null,
   "id": "b098f2cd-91d6-461f-9099-b65f2743e869",
   "metadata": {},
   "outputs": [],
   "source": []
  },
  {
   "cell_type": "markdown",
   "id": "0fce2169-3541-4bfa-86a6-0a8547358cf1",
   "metadata": {},
   "source": [
    "# Clinical"
   ]
  },
  {
   "cell_type": "code",
   "execution_count": 8,
   "id": "f39ccc33-22c8-4ce9-b54d-61d3c461366a",
   "metadata": {},
   "outputs": [
    {
     "name": "stdout",
     "output_type": "stream",
     "text": [
      "\n"
     ]
    }
   ],
   "source": [
    "model_dir = './models/clinical_no_TL'\n",
    "path_out = './predictions/Clinical'\n",
    "target = 'best' # 'last'\n",
    "model = torch.load(f'{model_dir}/{target}.pt').cpu()\n",
    "model.eval()\n",
    "print()"
   ]
  },
  {
   "cell_type": "code",
   "execution_count": 9,
   "id": "e8ac5274-8fe0-4c34-a90d-0743b55b46ca",
   "metadata": {},
   "outputs": [
    {
     "name": "stdout",
     "output_type": "stream",
     "text": [
      "Infering on 030.obj\n"
     ]
    }
   ],
   "source": [
    "dir_in = './data_for_transfer_learning/obj/'\n",
    "test_names = ['003', '009', '011', '012', '014', '016', '017', '021', '023', '026', '029', '030', '031', '032', '033', '034', '035', '037']\n",
    "\n",
    "#name = random.choice(test_names) + '.obj'\n",
    "name = '030.obj'\n",
    "\n",
    "preprocessed_dir = 'TL_prepared_data/sdf'\n",
    "preprocessed_dir += '/' + name[:-4]\n",
    "\n",
    "mesh = trimesh.load(dir_in+name)\n",
    "print('Infering on', name)"
   ]
  },
  {
   "cell_type": "code",
   "execution_count": 10,
   "id": "59e5101c-5601-4899-af29-724f9c03953a",
   "metadata": {},
   "outputs": [],
   "source": [
    "if os.path.exists(preprocessed_dir):\n",
    "    sdf = torch.load(f'{preprocessed_dir}/sdf.pt')\n",
    "    colors = torch.load(f'{preprocessed_dir}/color.pt')\n",
    "else:\n",
    "    datagen = CustomDataset(name = name,\n",
    "                      device='cpu',\n",
    "                      count=20,\n",
    "                      rotate_angle=1,\n",
    "                      dataset = 'clinical',\n",
    "                      num_classes=4,\n",
    "                      inference = True,\n",
    "                      return_points = True,\n",
    "                      data_dir = './data_for_transfer_learning/obj')\n",
    "    \n",
    "    sdf, colors, points = datagen.get_data()\n",
    "    os.mkdir(preprocessed_dir)\n",
    "    torch.save(sdf, f'{preprocessed_dir}/sdf.pt')\n",
    "    torch.save(colors, f'{preprocessed_dir}/color.pt')\n",
    "    "
   ]
  },
  {
   "cell_type": "code",
   "execution_count": 11,
   "id": "f6d624c3-1d44-42f3-9939-ff58c46c21e5",
   "metadata": {},
   "outputs": [],
   "source": [
    "predicted = model(sdf.float())"
   ]
  },
  {
   "cell_type": "code",
   "execution_count": 12,
   "id": "501f0ef4-f9b1-41ed-ac66-bbd6bf99bc58",
   "metadata": {},
   "outputs": [],
   "source": [
    "colors = torch.argmax(colors, dim=1)\n",
    "predicted = torch.argmax(predicted, dim=1)"
   ]
  },
  {
   "cell_type": "code",
   "execution_count": 13,
   "id": "2aaf5959-8965-4ac8-a44b-464c7d325001",
   "metadata": {},
   "outputs": [
    {
     "name": "stdout",
     "output_type": "stream",
     "text": [
      "There's already a dirrectory with this name!\n",
      "Folder for predictions: ./predictions/Clinical/030 (1)\n"
     ]
    }
   ],
   "source": [
    "dirname = dir_checker(path_out, name)\n",
    "save_mesh_with_color_clinical(mesh, colors, path=f'{dirname}/{name[:-4]}_original.obj')\n",
    "save_mesh_with_color_clinical(mesh, predicted, path=f'{dirname}/{name[:-4]}_predicted.obj')"
   ]
  },
  {
   "cell_type": "markdown",
   "id": "b87388fa-9229-4743-86eb-9525e3f0c9a6",
   "metadata": {},
   "source": [
    "# Clinical With TL"
   ]
  },
  {
   "cell_type": "code",
   "execution_count": 14,
   "id": "2a9d30d0-7f23-4233-bc87-84925070552b",
   "metadata": {},
   "outputs": [
    {
     "name": "stdout",
     "output_type": "stream",
     "text": [
      "\n"
     ]
    }
   ],
   "source": [
    "model_dir = './models/clinical_TL'\n",
    "path_out = './predictions/Clinical_TL'\n",
    "target = 'best' # 'last'\n",
    "model = torch.load(f'{model_dir}/{target}.pt').cpu()\n",
    "model.eval()\n",
    "print()"
   ]
  },
  {
   "cell_type": "code",
   "execution_count": 15,
   "id": "7939e0f1-8ab5-4168-b39a-59b68e098c81",
   "metadata": {},
   "outputs": [],
   "source": [
    "predicted = model(sdf.float())"
   ]
  },
  {
   "cell_type": "code",
   "execution_count": 16,
   "id": "e1a4dcbd-7cc8-4768-9033-d51a406bcf10",
   "metadata": {},
   "outputs": [],
   "source": [
    "predicted = torch.argmax(predicted, dim=1)"
   ]
  },
  {
   "cell_type": "code",
   "execution_count": 17,
   "id": "6fbc2e7b-405a-414f-a142-f6f6ebccf824",
   "metadata": {},
   "outputs": [
    {
     "name": "stdout",
     "output_type": "stream",
     "text": [
      "There's already a dirrectory with this name!\n",
      "Folder for predictions: ./predictions/Clinical_TL/030 (0)\n"
     ]
    }
   ],
   "source": [
    "dirname = dir_checker(path_out, name)\n",
    "save_mesh_with_color_clinical(mesh, colors, path=f'{dirname}/{name[:-4]}_original.obj')\n",
    "save_mesh_with_color_clinical(mesh, predicted, path=f'{dirname}/{name[:-4]}_predicted.obj')"
   ]
  },
  {
   "cell_type": "code",
   "execution_count": null,
   "id": "fa0dd9fc-f822-4cd0-8262-9845428213fb",
   "metadata": {},
   "outputs": [],
   "source": []
  }
 ],
 "metadata": {
  "kernelspec": {
   "display_name": "Python 3 (ipykernel)",
   "language": "python",
   "name": "python3"
  },
  "language_info": {
   "codemirror_mode": {
    "name": "ipython",
    "version": 3
   },
   "file_extension": ".py",
   "mimetype": "text/x-python",
   "name": "python",
   "nbconvert_exporter": "python",
   "pygments_lexer": "ipython3",
   "version": "3.11.8"
  }
 },
 "nbformat": 4,
 "nbformat_minor": 5
}
