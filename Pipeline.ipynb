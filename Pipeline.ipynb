{
 "cells": [
  {
   "cell_type": "code",
   "execution_count": 1,
   "id": "6e059d49-441c-4936-8952-39bc19f5a2da",
   "metadata": {},
   "outputs": [],
   "source": [
    "import os\n",
    "import trimesh\n",
    "import random\n",
    "\n",
    "from tqdm import tqdm\n",
    "\n",
    "from scripts.models import Segmentation_Network_full\n",
    "from scripts.utils import save_mesh_with_color_clinical, save_mesh_with_color_acdc, dir_checker\n",
    "from scripts.dataset import CustomDataset\n",
    "from scripts import postprocessing\n",
    "\n",
    "import torch\n",
    "import torch.nn as nn\n"
   ]
  },
  {
   "cell_type": "code",
   "execution_count": 2,
   "id": "5bc9a85c-ca25-4b63-a1e6-7b97143172cd",
   "metadata": {},
   "outputs": [
    {
     "name": "stdout",
     "output_type": "stream",
     "text": [
      "\n"
     ]
    }
   ],
   "source": [
    "model_dir = './models/clinical_no_TL'\n",
    "path_out = './predictions/Clinical'\n",
    "target = 'best' # 'last'\n",
    "model = torch.load(f'{model_dir}/{target}.pt').cpu()\n",
    "model.eval()\n",
    "print()"
   ]
  },
  {
   "cell_type": "code",
   "execution_count": 3,
   "id": "569bd0f2-d328-464a-8e30-6a3749a6b6b6",
   "metadata": {},
   "outputs": [
    {
     "name": "stdout",
     "output_type": "stream",
     "text": [
      "Infering on 030.obj\n"
     ]
    }
   ],
   "source": [
    "dir_in = './data_for_transfer_learning/obj/'\n",
    "test_names = ['003', '009', '011', '012', '014', '016', '017', '021', '023', '026', '029', '030', '031', '032', '033', '034', '035', '037']\n",
    "\n",
    "#name = random.choice(test_names) + '.obj'\n",
    "name = '030.obj'\n",
    "\n",
    "preprocessed_dir = 'TL_prepared_data/sdf'\n",
    "preprocessed_dir += '/' + name[:-4]\n",
    "\n",
    "mesh = trimesh.load(dir_in+name)\n",
    "print('Infering on', name)"
   ]
  },
  {
   "cell_type": "code",
   "execution_count": 4,
   "id": "15b198d2-f9fc-483f-ac2a-3d2240a764c3",
   "metadata": {},
   "outputs": [
    {
     "name": "stdout",
     "output_type": "stream",
     "text": [
      "Folder for predictions: ./predictions/Clinical/003\n",
      "Folder for predictions: ./predictions/Clinical/009\n",
      "Folder for predictions: ./predictions/Clinical/011\n",
      "Folder for predictions: ./predictions/Clinical/012\n",
      "Folder for predictions: ./predictions/Clinical/014\n",
      "Folder for predictions: ./predictions/Clinical/016\n",
      "Folder for predictions: ./predictions/Clinical/017\n",
      "Folder for predictions: ./predictions/Clinical/021\n",
      "Folder for predictions: ./predictions/Clinical/023\n",
      "Folder for predictions: ./predictions/Clinical/026\n",
      "Folder for predictions: ./predictions/Clinical/029\n",
      "Folder for predictions: ./predictions/Clinical/030\n",
      "Folder for predictions: ./predictions/Clinical/031\n",
      "Folder for predictions: ./predictions/Clinical/032\n",
      "Folder for predictions: ./predictions/Clinical/033\n",
      "Folder for predictions: ./predictions/Clinical/034\n",
      "Folder for predictions: ./predictions/Clinical/035\n",
      "Folder for predictions: ./predictions/Clinical/037\n"
     ]
    }
   ],
   "source": [
    "for name in test_names:\n",
    "    name += '.obj'\n",
    "    \n",
    "    preprocessed_dir = 'TL_prepared_data/sdf'\n",
    "    preprocessed_dir += '/' + name[:-4]\n",
    "\n",
    "    mesh = trimesh.load(dir_in+name)\n",
    "\n",
    "\n",
    "    if os.path.exists(preprocessed_dir):\n",
    "        sdf = torch.load(f'{preprocessed_dir}/sdf.pt')\n",
    "        colors = torch.load(f'{preprocessed_dir}/color.pt')\n",
    "    else:\n",
    "        datagen = CustomDataset(name = name,\n",
    "                          device='cpu',\n",
    "                          count=20,\n",
    "                          rotate_angle=1,\n",
    "                          dataset = 'clinical',\n",
    "                          num_classes=4,\n",
    "                          inference = True,\n",
    "                          return_points = True,\n",
    "                          data_dir = './data_for_transfer_learning/obj')\n",
    "        \n",
    "        sdf, colors, points = datagen.get_data()\n",
    "        os.mkdir(preprocessed_dir)\n",
    "        torch.save(sdf, f'{preprocessed_dir}/sdf.pt')\n",
    "        torch.save(colors, f'{preprocessed_dir}/color.pt')\n",
    "    \n",
    "    predicted = model(sdf.float())\n",
    "    \n",
    "    colors = torch.argmax(colors, dim=1)\n",
    "    predicted = torch.argmax(predicted, dim=1)\n",
    "    \n",
    "    dirname = dir_checker(path_out, name)\n",
    "    save_mesh_with_color_clinical(mesh, colors, path=f'{dirname}/{name[:-4]}_original.obj')\n",
    "    save_mesh_with_color_clinical(mesh, predicted, path=f'{dirname}/{name[:-4]}_predicted.obj')\n",
    "    \n",
    "    mesh = trimesh.load(f'{dirname}/{name[:-4]}_predicted.obj')\n",
    "    \n",
    "    postprocessing(mesh, f'{dirname}/{name[:-4]}_postprocessed.obj')"
   ]
  },
  {
   "cell_type": "code",
   "execution_count": null,
   "id": "92d4d31b-43a3-4e97-b9f9-173dbbf9500b",
   "metadata": {},
   "outputs": [],
   "source": []
  },
  {
   "cell_type": "code",
   "execution_count": null,
   "id": "b80f6934-a697-43e2-8083-166f7bf8cebc",
   "metadata": {},
   "outputs": [],
   "source": []
  },
  {
   "cell_type": "code",
   "execution_count": null,
   "id": "27313393-42dc-400c-bbbe-cd735d49bd81",
   "metadata": {},
   "outputs": [],
   "source": []
  },
  {
   "cell_type": "code",
   "execution_count": null,
   "id": "4cfa48fa-0fb3-4816-87c4-b05881dc6d56",
   "metadata": {},
   "outputs": [],
   "source": []
  },
  {
   "cell_type": "code",
   "execution_count": null,
   "id": "1ae0b7c2-2400-488b-a792-add0272b1f35",
   "metadata": {},
   "outputs": [],
   "source": []
  },
  {
   "cell_type": "markdown",
   "id": "1e1668be-16fe-466a-8b94-68bc36d3403a",
   "metadata": {},
   "source": [
    "# Inference on 038-057"
   ]
  },
  {
   "cell_type": "code",
   "execution_count": 5,
   "id": "dfc7a7dc-209f-4cf5-a9d9-87a5508232fd",
   "metadata": {},
   "outputs": [],
   "source": [
    "import numpy as np\n",
    "import pyvista as pv\n",
    "\n",
    "\n",
    "import os\n",
    "import trimesh\n",
    "import random\n",
    "\n",
    "from tqdm import tqdm\n",
    "\n",
    "from scripts.models import Segmentation_Network_full\n",
    "from scripts.utils import save_mesh_with_color_clinical, save_mesh_with_color_acdc, dir_checker\n",
    "from scripts.dataset import CustomDataset\n",
    "from scripts import postprocessing\n",
    "\n",
    "import torch\n",
    "import torch.nn as nn\n",
    "\n"
   ]
  },
  {
   "cell_type": "code",
   "execution_count": 6,
   "id": "b0748ae0-9ff1-4fcb-9602-0b818758e8c1",
   "metadata": {},
   "outputs": [],
   "source": [
    "folder = './data_for_inference/'"
   ]
  },
  {
   "cell_type": "code",
   "execution_count": 7,
   "id": "8b4123e6-c6c9-4318-a9f5-965e3d8a206b",
   "metadata": {},
   "outputs": [],
   "source": [
    "dir_in = folder + 'vtu/'\n",
    "dir_out = folder + 'obj/'"
   ]
  },
  {
   "cell_type": "code",
   "execution_count": 8,
   "id": "db1d71d4-6816-4d36-a3df-2f78f8d6ea48",
   "metadata": {},
   "outputs": [],
   "source": [
    "for i in os.listdir(dir_in):\n",
    "    mesh = pv.read(dir_in + i)    \n",
    "    surface = mesh.extract_surface()\n",
    "    name = i[:-4]\n",
    "\n",
    "    path = dir_out + name + '.obj'\n",
    "    pv.save_meshio(filename= path, mesh = surface, file_format='obj')"
   ]
  },
  {
   "cell_type": "code",
   "execution_count": 9,
   "id": "17c23ddf-016a-4b35-8e4b-d8f2fac90a02",
   "metadata": {},
   "outputs": [
    {
     "name": "stdout",
     "output_type": "stream",
     "text": [
      "\n"
     ]
    }
   ],
   "source": [
    "model_dir = './models/clinical_no_TL'\n",
    "path_out = './predictions/inference'\n",
    "target = 'best' # 'last'\n",
    "model = torch.load(f'{model_dir}/{target}.pt').cpu()\n",
    "model.eval()\n",
    "print()"
   ]
  },
  {
   "cell_type": "code",
   "execution_count": 10,
   "id": "e66f9e57-52c0-4b6a-b77b-d4353954e9ff",
   "metadata": {},
   "outputs": [],
   "source": [
    "dir_in = folder + 'obj/'\n",
    "names = os.listdir(dir_in)"
   ]
  },
  {
   "cell_type": "code",
   "execution_count": 11,
   "id": "eb953018-63da-49a8-b362-40d06d3e170d",
   "metadata": {},
   "outputs": [
    {
     "data": {
      "text/plain": [
       "['038.obj',\n",
       " '039.obj',\n",
       " '040.obj',\n",
       " '041.obj',\n",
       " '042.obj',\n",
       " '043.obj',\n",
       " '044.obj',\n",
       " '045.obj',\n",
       " '046.obj',\n",
       " '047.obj',\n",
       " '048.obj',\n",
       " '049.obj',\n",
       " '050.obj',\n",
       " '051.obj',\n",
       " '052.obj',\n",
       " '053.obj',\n",
       " '054.obj',\n",
       " '055.obj',\n",
       " '056.obj',\n",
       " '057.obj']"
      ]
     },
     "execution_count": 11,
     "metadata": {},
     "output_type": "execute_result"
    }
   ],
   "source": [
    "sorted(names)"
   ]
  },
  {
   "cell_type": "code",
   "execution_count": 12,
   "id": "fde5309d-6ae3-4311-91b2-86d9e966f9fe",
   "metadata": {},
   "outputs": [
    {
     "name": "stderr",
     "output_type": "stream",
     "text": [
      "  0%|                                                    | 0/20 [00:00<?, ?it/s]"
     ]
    },
    {
     "name": "stdout",
     "output_type": "stream",
     "text": [
      "Folder for predictions: ./predictions/inference/040\n"
     ]
    },
    {
     "name": "stderr",
     "output_type": "stream",
     "text": [
      "  5%|██▏                                         | 1/20 [00:00<00:15,  1.23it/s]"
     ]
    },
    {
     "name": "stdout",
     "output_type": "stream",
     "text": [
      "Folder for predictions: ./predictions/inference/042\n"
     ]
    },
    {
     "name": "stderr",
     "output_type": "stream",
     "text": [
      " 10%|████▍                                       | 2/20 [00:01<00:16,  1.12it/s]"
     ]
    },
    {
     "name": "stdout",
     "output_type": "stream",
     "text": [
      "Folder for predictions: ./predictions/inference/050\n"
     ]
    },
    {
     "name": "stderr",
     "output_type": "stream",
     "text": [
      " 15%|██████▌                                     | 3/20 [00:02<00:14,  1.17it/s]"
     ]
    },
    {
     "name": "stdout",
     "output_type": "stream",
     "text": [
      "Folder for predictions: ./predictions/inference/048\n"
     ]
    },
    {
     "name": "stderr",
     "output_type": "stream",
     "text": [
      " 20%|████████▊                                   | 4/20 [00:03<00:12,  1.25it/s]"
     ]
    },
    {
     "name": "stdout",
     "output_type": "stream",
     "text": [
      "Folder for predictions: ./predictions/inference/055\n"
     ]
    },
    {
     "name": "stderr",
     "output_type": "stream",
     "text": [
      " 25%|███████████                                 | 5/20 [00:04<00:11,  1.27it/s]"
     ]
    },
    {
     "name": "stdout",
     "output_type": "stream",
     "text": [
      "Folder for predictions: ./predictions/inference/043\n"
     ]
    },
    {
     "name": "stderr",
     "output_type": "stream",
     "text": [
      " 30%|█████████████▏                              | 6/20 [00:05<00:13,  1.03it/s]"
     ]
    },
    {
     "name": "stdout",
     "output_type": "stream",
     "text": [
      "Folder for predictions: ./predictions/inference/039\n"
     ]
    },
    {
     "name": "stderr",
     "output_type": "stream",
     "text": [
      " 35%|███████████████▍                            | 7/20 [00:06<00:13,  1.03s/it]"
     ]
    },
    {
     "name": "stdout",
     "output_type": "stream",
     "text": [
      "Folder for predictions: ./predictions/inference/038\n"
     ]
    },
    {
     "name": "stderr",
     "output_type": "stream",
     "text": [
      " 40%|█████████████████▌                          | 8/20 [00:08<00:17,  1.42s/it]"
     ]
    },
    {
     "name": "stdout",
     "output_type": "stream",
     "text": [
      "Folder for predictions: ./predictions/inference/052\n"
     ]
    },
    {
     "name": "stderr",
     "output_type": "stream",
     "text": [
      " 45%|███████████████████▊                        | 9/20 [00:09<00:13,  1.27s/it]"
     ]
    },
    {
     "name": "stdout",
     "output_type": "stream",
     "text": [
      "Folder for predictions: ./predictions/inference/044\n"
     ]
    },
    {
     "name": "stderr",
     "output_type": "stream",
     "text": [
      " 50%|█████████████████████▌                     | 10/20 [00:10<00:10,  1.07s/it]"
     ]
    },
    {
     "name": "stdout",
     "output_type": "stream",
     "text": [
      "Folder for predictions: ./predictions/inference/053\n"
     ]
    },
    {
     "name": "stderr",
     "output_type": "stream",
     "text": [
      " 55%|███████████████████████▋                   | 11/20 [00:11<00:09,  1.06s/it]"
     ]
    },
    {
     "name": "stdout",
     "output_type": "stream",
     "text": [
      "Folder for predictions: ./predictions/inference/057\n"
     ]
    },
    {
     "name": "stderr",
     "output_type": "stream",
     "text": [
      " 60%|█████████████████████████▊                 | 12/20 [00:12<00:08,  1.09s/it]"
     ]
    },
    {
     "name": "stdout",
     "output_type": "stream",
     "text": [
      "Folder for predictions: ./predictions/inference/041\n"
     ]
    },
    {
     "name": "stderr",
     "output_type": "stream",
     "text": [
      " 65%|███████████████████████████▉               | 13/20 [00:13<00:07,  1.03s/it]"
     ]
    },
    {
     "name": "stdout",
     "output_type": "stream",
     "text": [
      "Folder for predictions: ./predictions/inference/047\n"
     ]
    },
    {
     "name": "stderr",
     "output_type": "stream",
     "text": [
      " 70%|██████████████████████████████             | 14/20 [00:14<00:06,  1.02s/it]"
     ]
    },
    {
     "name": "stdout",
     "output_type": "stream",
     "text": [
      "Folder for predictions: ./predictions/inference/056\n"
     ]
    },
    {
     "name": "stderr",
     "output_type": "stream",
     "text": [
      " 75%|████████████████████████████████▎          | 15/20 [00:15<00:05,  1.08s/it]"
     ]
    },
    {
     "name": "stdout",
     "output_type": "stream",
     "text": [
      "Folder for predictions: ./predictions/inference/051\n"
     ]
    },
    {
     "name": "stderr",
     "output_type": "stream",
     "text": [
      " 80%|██████████████████████████████████▍        | 16/20 [00:16<00:04,  1.13s/it]"
     ]
    },
    {
     "name": "stdout",
     "output_type": "stream",
     "text": [
      "Folder for predictions: ./predictions/inference/054\n"
     ]
    },
    {
     "name": "stderr",
     "output_type": "stream",
     "text": [
      " 85%|████████████████████████████████████▌      | 17/20 [00:17<00:03,  1.04s/it]"
     ]
    },
    {
     "name": "stdout",
     "output_type": "stream",
     "text": [
      "Folder for predictions: ./predictions/inference/045\n"
     ]
    },
    {
     "name": "stderr",
     "output_type": "stream",
     "text": [
      " 90%|██████████████████████████████████████▋    | 18/20 [00:18<00:01,  1.09it/s]"
     ]
    },
    {
     "name": "stdout",
     "output_type": "stream",
     "text": [
      "Folder for predictions: ./predictions/inference/049\n"
     ]
    },
    {
     "name": "stderr",
     "output_type": "stream",
     "text": [
      " 95%|████████████████████████████████████████▊  | 19/20 [00:19<00:01,  1.10s/it]"
     ]
    },
    {
     "name": "stdout",
     "output_type": "stream",
     "text": [
      "Folder for predictions: ./predictions/inference/046\n"
     ]
    },
    {
     "name": "stderr",
     "output_type": "stream",
     "text": [
      "100%|███████████████████████████████████████████| 20/20 [00:20<00:00,  1.04s/it]\n"
     ]
    }
   ],
   "source": [
    "for name in tqdm(names):   \n",
    "    preprocessed_dir = 'TL_prepared_data/sdf'\n",
    "    preprocessed_dir += '/' + name[:-4]\n",
    "\n",
    "    mesh = trimesh.load(dir_in+name)\n",
    "\n",
    "\n",
    "    if os.path.exists(preprocessed_dir):\n",
    "        sdf = torch.load(f'{preprocessed_dir}/sdf.pt')\n",
    "        colors = torch.load(f'{preprocessed_dir}/color.pt')\n",
    "    else:\n",
    "        datagen = CustomDataset(name = name,\n",
    "                          device='cpu',\n",
    "                          count=20,\n",
    "                          rotate_angle=1,\n",
    "                          dataset = 'clinical',\n",
    "                          num_classes=4,\n",
    "                          inference = True,\n",
    "                          return_points = True,\n",
    "                          data_dir = dir_in)\n",
    "        \n",
    "        sdf, colors, points = datagen.get_data()\n",
    "        os.mkdir(preprocessed_dir)\n",
    "        torch.save(sdf, f'{preprocessed_dir}/sdf.pt')\n",
    "        torch.save(colors, f'{preprocessed_dir}/color.pt')\n",
    "    \n",
    "    predicted = model(sdf.float())\n",
    "    \n",
    "    colors = torch.argmax(colors, dim=1)\n",
    "    predicted = torch.argmax(predicted, dim=1)\n",
    "    \n",
    "    dirname = dir_checker(path_out, name)\n",
    "    save_mesh_with_color_clinical(mesh, colors, path=f'{dirname}/{name[:-4]}_original.obj')\n",
    "    save_mesh_with_color_clinical(mesh, predicted, path=f'{dirname}/{name[:-4]}_predicted.obj')\n",
    "    \n",
    "    mesh = trimesh.load(f'{dirname}/{name[:-4]}_predicted.obj')\n",
    "    \n",
    "    postprocessing(mesh, f'{dirname}/{name[:-4]}_postprocessed.obj')"
   ]
  },
  {
   "cell_type": "code",
   "execution_count": null,
   "id": "f7ce9a2d-1244-4a39-8faf-0b61fd440c1f",
   "metadata": {},
   "outputs": [],
   "source": []
  },
  {
   "cell_type": "code",
   "execution_count": null,
   "id": "771508c8-12fb-4328-a3a1-7ce6cbcc7c65",
   "metadata": {},
   "outputs": [],
   "source": []
  },
  {
   "cell_type": "code",
   "execution_count": null,
   "id": "100421e1-4ce7-4287-a21a-9885a954f0df",
   "metadata": {},
   "outputs": [],
   "source": []
  },
  {
   "cell_type": "code",
   "execution_count": null,
   "id": "605206cf-5f52-4231-acb5-f7e3a1daee11",
   "metadata": {},
   "outputs": [],
   "source": []
  },
  {
   "cell_type": "markdown",
   "id": "0fce2169-3541-4bfa-86a6-0a8547358cf1",
   "metadata": {
    "jp-MarkdownHeadingCollapsed": true
   },
   "source": [
    "# Clinical"
   ]
  },
  {
   "cell_type": "code",
   "execution_count": 2,
   "id": "f39ccc33-22c8-4ce9-b54d-61d3c461366a",
   "metadata": {},
   "outputs": [
    {
     "name": "stdout",
     "output_type": "stream",
     "text": [
      "\n"
     ]
    }
   ],
   "source": [
    "model_dir = './models/clinical_no_TL'\n",
    "path_out = './predictions/Clinical'\n",
    "target = 'best' # 'last'\n",
    "model = torch.load(f'{model_dir}/{target}.pt').cpu()\n",
    "model.eval()\n",
    "print()"
   ]
  },
  {
   "cell_type": "code",
   "execution_count": 3,
   "id": "e8ac5274-8fe0-4c34-a90d-0743b55b46ca",
   "metadata": {},
   "outputs": [
    {
     "name": "stdout",
     "output_type": "stream",
     "text": [
      "Infering on 026.obj\n"
     ]
    }
   ],
   "source": [
    "dir_in = './data_for_transfer_learning/obj/'\n",
    "test_names = ['003', '009', '011', '012', '014', '016', '017', '021', '023', '026', '029', '030', '031', '032', '033', '034', '035', '037']\n",
    "\n",
    "name = random.choice(test_names) + '.obj'\n",
    "\n",
    "preprocessed_dir = 'TL_prepared_data/sdf'\n",
    "preprocessed_dir += '/' + name[:-4]\n",
    "\n",
    "mesh = trimesh.load(dir_in+name)\n",
    "print('Infering on', name)"
   ]
  },
  {
   "cell_type": "code",
   "execution_count": 4,
   "id": "59e5101c-5601-4899-af29-724f9c03953a",
   "metadata": {},
   "outputs": [],
   "source": [
    "if os.path.exists(preprocessed_dir):\n",
    "    sdf = torch.load(f'{preprocessed_dir}/sdf.pt')\n",
    "    colors = torch.load(f'{preprocessed_dir}/color.pt')\n",
    "else:\n",
    "    datagen = CustomDataset(name = name,\n",
    "                      device='cpu',\n",
    "                      count=20,\n",
    "                      rotate_angle=1,\n",
    "                      dataset = 'clinical',\n",
    "                      num_classes=4,\n",
    "                      inference = True,\n",
    "                      return_points = True,\n",
    "                      data_dir = './data_for_transfer_learning/obj')\n",
    "    \n",
    "    sdf, colors, points = datagen.get_data()\n",
    "    os.mkdir(preprocessed_dir)\n",
    "    torch.save(sdf, f'{preprocessed_dir}/sdf.pt')\n",
    "    torch.save(colors, f'{preprocessed_dir}/color.pt')\n",
    "    "
   ]
  },
  {
   "cell_type": "code",
   "execution_count": 9,
   "id": "f6d624c3-1d44-42f3-9939-ff58c46c21e5",
   "metadata": {},
   "outputs": [],
   "source": [
    "predicted = model(sdf.float())"
   ]
  },
  {
   "cell_type": "code",
   "execution_count": 10,
   "id": "501f0ef4-f9b1-41ed-ac66-bbd6bf99bc58",
   "metadata": {},
   "outputs": [],
   "source": [
    "colors = torch.argmax(colors, dim=1)\n",
    "predicted = torch.argmax(predicted, dim=1)"
   ]
  },
  {
   "cell_type": "code",
   "execution_count": 11,
   "id": "2aaf5959-8965-4ac8-a44b-464c7d325001",
   "metadata": {},
   "outputs": [
    {
     "name": "stdout",
     "output_type": "stream",
     "text": [
      "Folder for predictions: ./predictions/Clinical/017\n"
     ]
    }
   ],
   "source": [
    "dirname = dir_checker(path_out, name)\n",
    "save_mesh_with_color_clinical(mesh, colors, path=f'{dirname}/{name[:-4]}_original.obj')\n",
    "save_mesh_with_color_clinical(mesh, predicted, path=f'{dirname}/{name[:-4]}_predicted.obj')"
   ]
  },
  {
   "cell_type": "code",
   "execution_count": null,
   "id": "3c1fb98d-11ce-4a5a-b958-d020c5a2e585",
   "metadata": {},
   "outputs": [],
   "source": []
  },
  {
   "cell_type": "code",
   "execution_count": 20,
   "id": "cf100d90-25da-481b-bb19-f0030c79b2c3",
   "metadata": {},
   "outputs": [],
   "source": [
    "class Pipeline:\n",
    "    def __init__(self, model):\n",
    "        \"\"\"\n",
    "        Pipeline to segment and postprocess 3d models\n",
    "        Usage:\n",
    "        pipeline = Pipeline(model)\n",
    "        mesh = pipeline.run(path_in, file_name, preprocessed_dir)\n",
    "        pipeline.save(path_out)\n",
    "        \"\"\"\n",
    "        self.model = model\n",
    "\n",
    "    def load_mesh(self, path_in, file_name, preprocessed_dir):\n",
    "        if preprocessed_dir and os.path.exists(preprocessed_dir):\n",
    "            sdf = torch.load(f'{preprocessed_dir}/sdf.pt')\n",
    "            colors = torch.load(f'{preprocessed_dir}/color.pt')\n",
    "        else:\n",
    "            datagen = CustomDataset(name = file_name,\n",
    "                              device='cpu',\n",
    "                              count=20,\n",
    "                              rotate_angle=1,\n",
    "                              dataset = 'clinical',\n",
    "                              num_classes=4,\n",
    "                              inference = True,\n",
    "                              return_points = True,\n",
    "                              data_dir = path_in)\n",
    "            \n",
    "            sdf, colors, points = datagen.get_data()\n",
    "\n",
    "            if preprocessed_dir:\n",
    "                if os.path.exists(preprocessed_dir):\n",
    "                    pass\n",
    "                else:\n",
    "                    os.mkdir(preprocessed_dir)\n",
    "                torch.save(sdf, f'{preprocessed_dir}/sdf.pt')\n",
    "                torch.save(colors, f'{preprocessed_dir}/color.pt')\n",
    "        return sdf, colors \n",
    "    \n",
    "    def run(self, path_in, file_name, preprocessed_dir=None):\n",
    "        \"\"\"\n",
    "        Main function of the Pipeline, loads 3d obj in memory and processes it\n",
    "        path_in - path to a folder with .obj file that has to be processed. Example: ./foo\n",
    "        file_name - name of an .obj to that has to be processed. Example: bar.obj\n",
    "        preprocessed_dir - path to directory with sdf files, if there're none, then they will be saved there\n",
    "        \"\"\"\n",
    "        self.mesh = trimesh.load(dir_in+name)\n",
    "        sdf, colors  = self.load_mesh(path_in, file_name, preprocessed_dir)\n",
    "        \n",
    "        predicted = self.model(sdf.float())\n",
    "\n",
    "        self.colors = torch.argmax(colors, dim=1)\n",
    "        self.predicted_colors = torch.argmax(predicted, dim=1)\n",
    "\n",
    "\n",
    "    def save(self, path_out, file_name):\n",
    "        \"\"\"\n",
    "        Saves the last processed mesh to a file\n",
    "        \"\"\"\n",
    "        dirname = dir_checker(path_out, file_name)\n",
    "        save_mesh_with_color_clinical(self.mesh, self.colors, path=f'{dirname}/{file_name[:-4]}_original.obj')\n",
    "        save_mesh_with_color_clinical(self.mesh, self.predicted_colors, path=f'{dirname}/{file_name[:-4]}_predicted.obj')"
   ]
  },
  {
   "cell_type": "code",
   "execution_count": 21,
   "id": "1e57d7f4-eb3c-4cb4-88e7-8fcdfdbdb1a4",
   "metadata": {},
   "outputs": [],
   "source": [
    "pipeline = Pipeline(model)"
   ]
  },
  {
   "cell_type": "code",
   "execution_count": 25,
   "id": "cf11efbf-fd19-4cb4-b1ac-6815752a0ca2",
   "metadata": {},
   "outputs": [
    {
     "name": "stdout",
     "output_type": "stream",
     "text": [
      "Folder for predictions: ./predictions/Clinical/003\n"
     ]
    },
    {
     "ename": "IndexError",
     "evalue": "index 6367 is out of bounds for axis 0 with size 6367",
     "output_type": "error",
     "traceback": [
      "\u001b[0;31m---------------------------------------------------------------------------\u001b[0m",
      "\u001b[0;31mIndexError\u001b[0m                                Traceback (most recent call last)",
      "Cell \u001b[0;32mIn[25], line 4\u001b[0m\n\u001b[1;32m      2\u001b[0m name \u001b[38;5;241m+\u001b[39m\u001b[38;5;241m=\u001b[39m \u001b[38;5;124m'\u001b[39m\u001b[38;5;124m.obj\u001b[39m\u001b[38;5;124m'\u001b[39m\n\u001b[1;32m      3\u001b[0m mesh \u001b[38;5;241m=\u001b[39m pipeline\u001b[38;5;241m.\u001b[39mrun(path_in\u001b[38;5;241m=\u001b[39mdir_in, file_name\u001b[38;5;241m=\u001b[39mname, preprocessed_dir\u001b[38;5;241m=\u001b[39mpreprocessed_dir)\n\u001b[0;32m----> 4\u001b[0m pipeline\u001b[38;5;241m.\u001b[39msave(path_out, name)\n",
      "Cell \u001b[0;32mIn[20], line 59\u001b[0m, in \u001b[0;36mPipeline.save\u001b[0;34m(self, path_out, file_name)\u001b[0m\n\u001b[1;32m     55\u001b[0m \u001b[38;5;250m\u001b[39m\u001b[38;5;124;03m\"\"\"\u001b[39;00m\n\u001b[1;32m     56\u001b[0m \u001b[38;5;124;03mSaves the last processed mesh to a file\u001b[39;00m\n\u001b[1;32m     57\u001b[0m \u001b[38;5;124;03m\"\"\"\u001b[39;00m\n\u001b[1;32m     58\u001b[0m dirname \u001b[38;5;241m=\u001b[39m dir_checker(path_out, file_name)\n\u001b[0;32m---> 59\u001b[0m save_mesh_with_color_clinical(\u001b[38;5;28mself\u001b[39m\u001b[38;5;241m.\u001b[39mmesh, \u001b[38;5;28mself\u001b[39m\u001b[38;5;241m.\u001b[39mcolors, path\u001b[38;5;241m=\u001b[39m\u001b[38;5;124mf\u001b[39m\u001b[38;5;124m'\u001b[39m\u001b[38;5;132;01m{\u001b[39;00mdirname\u001b[38;5;132;01m}\u001b[39;00m\u001b[38;5;124m/\u001b[39m\u001b[38;5;132;01m{\u001b[39;00mfile_name[:\u001b[38;5;241m-\u001b[39m\u001b[38;5;241m4\u001b[39m]\u001b[38;5;132;01m}\u001b[39;00m\u001b[38;5;124m_original.obj\u001b[39m\u001b[38;5;124m'\u001b[39m)\n\u001b[1;32m     60\u001b[0m save_mesh_with_color_clinical(\u001b[38;5;28mself\u001b[39m\u001b[38;5;241m.\u001b[39mmesh, \u001b[38;5;28mself\u001b[39m\u001b[38;5;241m.\u001b[39mpredicted_colors, path\u001b[38;5;241m=\u001b[39m\u001b[38;5;124mf\u001b[39m\u001b[38;5;124m'\u001b[39m\u001b[38;5;132;01m{\u001b[39;00mdirname\u001b[38;5;132;01m}\u001b[39;00m\u001b[38;5;124m/\u001b[39m\u001b[38;5;132;01m{\u001b[39;00mfile_name[:\u001b[38;5;241m-\u001b[39m\u001b[38;5;241m4\u001b[39m]\u001b[38;5;132;01m}\u001b[39;00m\u001b[38;5;124m_predicted.obj\u001b[39m\u001b[38;5;124m'\u001b[39m)\n",
      "File \u001b[0;32m~/Documents/clean/scripts/utils.py:204\u001b[0m, in \u001b[0;36msave_mesh_with_color_clinical\u001b[0;34m(mesh, new_colors, path)\u001b[0m\n\u001b[1;32m    202\u001b[0m     orig_colors[i] \u001b[38;5;241m=\u001b[39m [\u001b[38;5;241m255\u001b[39m, \u001b[38;5;241m0\u001b[39m, \u001b[38;5;241m0\u001b[39m, \u001b[38;5;241m255\u001b[39m]\n\u001b[1;32m    203\u001b[0m \u001b[38;5;28;01melif\u001b[39;00m new_colors[i] \u001b[38;5;241m==\u001b[39m \u001b[38;5;241m1\u001b[39m:\n\u001b[0;32m--> 204\u001b[0m     orig_colors[i] \u001b[38;5;241m=\u001b[39m [\u001b[38;5;241m0\u001b[39m, \u001b[38;5;241m255\u001b[39m, \u001b[38;5;241m0\u001b[39m, \u001b[38;5;241m255\u001b[39m]\n\u001b[1;32m    205\u001b[0m \u001b[38;5;28;01melif\u001b[39;00m new_colors[i] \u001b[38;5;241m==\u001b[39m \u001b[38;5;241m2\u001b[39m:\n\u001b[1;32m    206\u001b[0m     orig_colors[i] \u001b[38;5;241m=\u001b[39m [\u001b[38;5;241m0\u001b[39m, \u001b[38;5;241m0\u001b[39m, \u001b[38;5;241m255\u001b[39m, \u001b[38;5;241m255\u001b[39m]\n",
      "File \u001b[0;32m~/anaconda3/envs/torch/lib/python3.11/site-packages/trimesh/caching.py:323\u001b[0m, in \u001b[0;36mTrackedArray.__setitem__\u001b[0;34m(self, *args, **kwargs)\u001b[0m\n\u001b[1;32m    321\u001b[0m \u001b[38;5;28;01mdef\u001b[39;00m \u001b[38;5;21m__setitem__\u001b[39m(\u001b[38;5;28mself\u001b[39m, \u001b[38;5;241m*\u001b[39margs, \u001b[38;5;241m*\u001b[39m\u001b[38;5;241m*\u001b[39mkwargs):\n\u001b[1;32m    322\u001b[0m     \u001b[38;5;28mself\u001b[39m\u001b[38;5;241m.\u001b[39m_dirty_hash \u001b[38;5;241m=\u001b[39m \u001b[38;5;28;01mTrue\u001b[39;00m\n\u001b[0;32m--> 323\u001b[0m     \u001b[38;5;28;01mreturn\u001b[39;00m \u001b[38;5;28msuper\u001b[39m(\u001b[38;5;28mself\u001b[39m\u001b[38;5;241m.\u001b[39m\u001b[38;5;18m__class__\u001b[39m, \u001b[38;5;28mself\u001b[39m)\u001b[38;5;241m.\u001b[39m\u001b[38;5;21m__setitem__\u001b[39m(\u001b[38;5;241m*\u001b[39margs, \u001b[38;5;241m*\u001b[39m\u001b[38;5;241m*\u001b[39mkwargs)\n",
      "\u001b[0;31mIndexError\u001b[0m: index 6367 is out of bounds for axis 0 with size 6367"
     ]
    }
   ],
   "source": [
    "for name in test_names:\n",
    "    name += '.obj'\n",
    "    mesh = pipeline.run(path_in=dir_in, file_name=name, preprocessed_dir=preprocessed_dir)\n",
    "    pipeline.save(path_out, name)  "
   ]
  },
  {
   "cell_type": "code",
   "execution_count": 23,
   "id": "d2a52356-b001-447a-85e3-5687e0da4d54",
   "metadata": {},
   "outputs": [
    {
     "name": "stdout",
     "output_type": "stream",
     "text": [
      "There's already a dirrectory with this name!\n",
      "Folder for predictions: ./predictions/Clinical/009 (1)\n"
     ]
    }
   ],
   "source": [
    "pipeline.save(path_out, name)  "
   ]
  },
  {
   "cell_type": "code",
   "execution_count": null,
   "id": "b1588a2b-9d2f-4baa-b521-545d3e4f8801",
   "metadata": {},
   "outputs": [],
   "source": []
  },
  {
   "cell_type": "code",
   "execution_count": null,
   "id": "14f9d25a-a993-4f4d-bb9e-d1b61c680ff7",
   "metadata": {},
   "outputs": [],
   "source": []
  }
 ],
 "metadata": {
  "kernelspec": {
   "display_name": "Python 3 (ipykernel)",
   "language": "python",
   "name": "python3"
  },
  "language_info": {
   "codemirror_mode": {
    "name": "ipython",
    "version": 3
   },
   "file_extension": ".py",
   "mimetype": "text/x-python",
   "name": "python",
   "nbconvert_exporter": "python",
   "pygments_lexer": "ipython3",
   "version": "3.11.8"
  }
 },
 "nbformat": 4,
 "nbformat_minor": 5
}
