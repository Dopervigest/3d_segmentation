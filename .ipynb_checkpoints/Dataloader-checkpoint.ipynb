{
 "cells": [
  {
   "cell_type": "code",
   "execution_count": 1,
   "id": "a9eb5430",
   "metadata": {},
   "outputs": [],
   "source": [
    "import os\n",
    "import torch\n",
    "from collections import namedtuple \n",
    "\n",
    "\n",
    "\n",
    "#обязательные переменные \n",
    "\n",
    "device = 'cpu'#'cuda' if torch.cuda.is_available() else 'cpu'\n",
    "train_split = 50 # размер в % для тренировочной выборки"
   ]
  },
  {
   "cell_type": "markdown",
   "id": "8418e0fd",
   "metadata": {},
   "source": [
    "# Загрузка данных из Intra3D"
   ]
  },
  {
   "cell_type": "code",
   "execution_count": 4,
   "id": "d094c23e",
   "metadata": {},
   "outputs": [
    {
     "name": "stdout",
     "output_type": "stream",
     "text": [
      "Train split: 2 meshes\n",
      "Test split: 3 meshes\n"
     ]
    }
   ],
   "source": [
    "data = os.listdir('data_for_each_patient/') # откуда брать данные \n",
    "n_data = len(data)\n",
    "idx = int((n_data/100) * train_split) # индекс по которому будет разрезан набор данных\n",
    "train_meshes = data[:idx] \n",
    "test_meshes = data[idx:]\n",
    "\n",
    "#выводит количество моделей в каждом наборе\n",
    "print(f'Train split: {len(train_meshes)} meshes')\n",
    "print(f'Test split: {len(test_meshes)} meshes')\n",
    "\n",
    "\n",
    "\n",
    "# data loading\n",
    "\"\"\"\n",
    "Эта штука нужна чтобы уровнять набор данных\n",
    "В Intra мало аневризма и много здоровых сосудов\n",
    "От этого если запустить рандомно, то аневризмы могут не попасть в тренировочный набор вовсе\n",
    "\n",
    "Для этого я сделал скрипт equalize_data в modified_scripts/utils.py\n",
    "Он загружает набор данных так, чтобы была указанная разбивка\n",
    "ниже указана разбивка 750 здоровых на 250 аневризмов для каждого пациента\n",
    "от этого модель учится лучше\n",
    "\"\"\"\n",
    "datalen_per_patient = 750 \n",
    "datalen_for_aneurysm = 250\n",
    "\n",
    "train_data = []\n",
    "train_labels = []\n",
    "\n",
    "for dirname in train_meshes: # поднимаем в память данные\n",
    "    f_data = torch.load(f'./data_for_each_patient/{dirname}/data.pt')\n",
    "    f_labels = torch.load(f'./data_for_each_patient/{dirname}/label.pt')\n",
    "    train_data.append(f_data)\n",
    "    train_labels.append(f_labels)\n",
    "\n",
    "# выравниваем набор данных\n",
    "#train_data, train_labels = equalize_data(train_data, train_labels,datalen_per_patient = datalen_per_patient, datalen_for_aneurysm = datalen_for_aneurysm)\n",
    "\n",
    "train_data = torch.cat(train_data, dim=0).to(device)\n",
    "train_labels = torch.cat(train_labels, dim=0).to(device)\n",
    "\n",
    "\n",
    "\n",
    "test_data = []\n",
    "test_labels = []\n",
    "for dirname in test_meshes: # поднимаем в память данные\n",
    "    f_data = torch.load(f'./data_for_each_patient/{dirname}/data.pt')\n",
    "    f_labels = torch.load(f'./data_for_each_patient/{dirname}/label.pt')\n",
    "    test_data.append(f_data)\n",
    "    test_labels.append(f_labels)\n",
    "\n",
    "# выравнивам набор данных\n",
    "# test_data, test_labels = equalize_data(test_data, test_labels, datalen_per_patient = datalen_per_patient, datalen_for_aneurysm = datalen_for_aneurysm)\n",
    "\n",
    "test_data = torch.cat(test_data, dim=0).to(device)\n",
    "test_labels = torch.cat(test_labels, dim=0).to(device)"
   ]
  },
  {
   "cell_type": "markdown",
   "id": "95bd5894",
   "metadata": {},
   "source": [
    "# Создание даталоадера"
   ]
  },
  {
   "cell_type": "code",
   "execution_count": null,
   "id": "bdf4a731",
   "metadata": {},
   "outputs": [],
   "source": [
    "from torch.utils.data import TensorDataset, DataLoader\n",
    "\n",
    "# оба набора данных после загрузки в память можно поместить в даталоадеры для обучения\n",
    "# в CUSTOM_TRAIN_LOOP.ipynb есть пример как обучать с даталоадером\n",
    "\n",
    "train_dataset = TensorDataset(train_data, train_labels)\n",
    "test_dataset = TensorDataset(test_data, test_labels)\n",
    "\n",
    "\n",
    "batch_size = 128\n",
    "train_dataloader = DataLoader(train_dataset, batch_size=batch_size, shuffle=True)\n",
    "test_dataloader = DataLoader(test_dataset, batch_size=batch_size, shuffle=False)"
   ]
  },
  {
   "cell_type": "code",
   "execution_count": null,
   "id": "ea7a7849",
   "metadata": {},
   "outputs": [],
   "source": [
    "next(iter(test_dataloader))[0].shape"
   ]
  },
  {
   "cell_type": "code",
   "execution_count": null,
   "id": "fab14b48",
   "metadata": {},
   "outputs": [],
   "source": []
  }
 ],
 "metadata": {
  "kernelspec": {
   "display_name": "Python 3 (ipykernel)",
   "language": "python",
   "name": "python3"
  },
  "language_info": {
   "codemirror_mode": {
    "name": "ipython",
    "version": 3
   },
   "file_extension": ".py",
   "mimetype": "text/x-python",
   "name": "python",
   "nbconvert_exporter": "python",
   "pygments_lexer": "ipython3",
   "version": "3.11.8"
  }
 },
 "nbformat": 4,
 "nbformat_minor": 5
}
