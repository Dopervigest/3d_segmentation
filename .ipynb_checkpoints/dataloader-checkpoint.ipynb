{
 "cells": [
  {
   "cell_type": "code",
   "execution_count": 1,
   "id": "a9eb5430",
   "metadata": {},
   "outputs": [
    {
     "name": "stdout",
     "output_type": "stream",
     "text": [
      "device =  cuda:0\n"
     ]
    }
   ],
   "source": [
    "import os\n",
    "import torch\n",
    "from scripts.datagen import make_generators\n",
    "#from modified_scripts.utils import equalize_data\n",
    "from collections import namedtuple \n",
    "\n",
    "\n",
    "\n",
    "#обязательные переменные \n",
    "\n",
    "device = 'cpu'#'cuda' if torch.cuda.is_available() else 'cpu'\n",
    "train_split = 50 # размер в % для тренировочной выборки"
   ]
  },
  {
   "cell_type": "markdown",
   "id": "09dbf4ad",
   "metadata": {},
   "source": [
    "# Загрузка данных из ACDC"
   ]
  },
  {
   "cell_type": "code",
   "execution_count": null,
   "id": "af0d9fc6",
   "metadata": {},
   "outputs": [],
   "source": [
    "\"\"\"\n",
    "Наш даталоадер принимает на вход много параметров и если делать \n",
    "обучение через sweep в W&B, то надо записывать все в config\n",
    "Я изначально сделал так, чтобы с конфигом было проще работать\n",
    "\n",
    "В питоне ближайший аналог W&B конфига это namedtuple\n",
    "От этого он используется здесь\n",
    "\"\"\"\n",
    "\n",
    "config = namedtuple('config', [\"batch\", \"cube_spacing\",\n",
    "                    \"random_state\", \"cube_scale\", \"shift_sigma\",\n",
    "                    \"scale_range\", \"rotate_angle\", \"count\"])\n",
    "\n",
    "\n",
    "test_size = (100 - train_split)/100\n",
    "\n",
    "print('test_size = ', test_size)\n",
    "\n",
    "config.batch= 128\n",
    "config.cube_spacing= (16,16,16)\n",
    "config.random_state= 42\n",
    "config.cube_scale= 1\n",
    "config.shift_sigma= 0\n",
    "config.scale_range= 0.01\n",
    "config.rotate_angle= 1\n",
    "config.count=1000\n",
    "\n",
    "\n",
    "\n",
    "train_gen, test_gen = make_generators('./ACDC_simplified',\n",
    "                                    batch = 10000000,\n",
    "                                    cube_spacing = config.cube_spacing,\n",
    "                                    random_state=config.random_state, \n",
    "                                    cube_scale=config.cube_scale,\n",
    "                                    shift_sigma = config.shift_sigma,\n",
    "                                    scale_range = config.scale_range,\n",
    "                                    rotate_angle = config.rotate_angle,\n",
    "                                    count=config.count,\n",
    "                                    test_size = test_size)\n",
    "\n",
    "# Генерация тренировочных данных\n",
    "n_data = 1*train_split # Размер данных, можно увеличить, если есть доступная память\n",
    "\n",
    "train_data = []\n",
    "train_labels = []\n",
    "\n",
    "while True:\n",
    "    data, labels = train_gen.process_data()\n",
    "    train_data.append(data[0])\n",
    "    train_labels.append(labels[0])\n",
    "    break\n",
    "    if (train_data[0].shape[0] * len(train_data)) >= n_data:\n",
    "        break\n",
    "\n",
    "# Генерация тестовых данных \n",
    "n_data = 12000 # сколько тензоров хранить в тестовой выборке, добавил чтобы не падал кластер по памяти\n",
    "test_data = []\n",
    "test_labels = []\n",
    "\n",
    "while True:\n",
    "    data, labels = test_gen.process_data()\n",
    "    test_data.append(data[0])\n",
    "    test_labels.append(labels[0])\n",
    "    break\n",
    "    if (test_data[0].shape[0] * len(test_data)) >= n_data:\n",
    "            break\n",
    "\n",
    "\n",
    "\n",
    "\n",
    "\n",
    "test_data = torch.cat(test_data, dim=0).to(device)\n",
    "test_labels = torch.cat(test_labels, dim=0).to(device)\n",
    "\n",
    "train_data = torch.cat(train_data, dim=0).to(device)\n",
    "train_labels = torch.cat(train_labels, dim=0).to(device)"
   ]
  },
  {
   "cell_type": "markdown",
   "id": "95bd5894",
   "metadata": {},
   "source": [
    "# Создание даталоадера"
   ]
  },
  {
   "cell_type": "code",
   "execution_count": null,
   "id": "bdf4a731",
   "metadata": {},
   "outputs": [],
   "source": [
    "from torch.utils.data import TensorDataset, DataLoader\n",
    "\n",
    "# оба набора данных после загрузки в память можно поместить в даталоадеры для обучения\n",
    "# в CUSTOM_TRAIN_LOOP.ipynb есть пример как обучать с даталоадером\n",
    "\n",
    "train_dataset = TensorDataset(train_data, train_labels)\n",
    "test_dataset = TensorDataset(test_data, test_labels)\n",
    "\n",
    "\n",
    "batch_size = 128\n",
    "train_dataloader = DataLoader(train_dataset, batch_size=batch_size, shuffle=True)\n",
    "test_dataloader = DataLoader(test_dataset, batch_size=batch_size, shuffle=False)"
   ]
  },
  {
   "cell_type": "code",
   "execution_count": null,
   "id": "ea7a7849",
   "metadata": {},
   "outputs": [],
   "source": [
    "next(iter(test_dataloader))[0].shape"
   ]
  },
  {
   "cell_type": "code",
   "execution_count": null,
   "id": "fab14b48",
   "metadata": {},
   "outputs": [],
   "source": []
  }
 ],
 "metadata": {
  "kernelspec": {
   "display_name": "Python 3 (ipykernel)",
   "language": "python",
   "name": "python3"
  },
  "language_info": {
   "codemirror_mode": {
    "name": "ipython",
    "version": 3
   },
   "file_extension": ".py",
   "mimetype": "text/x-python",
   "name": "python",
   "nbconvert_exporter": "python",
   "pygments_lexer": "ipython3",
   "version": "3.11.8"
  }
 },
 "nbformat": 4,
 "nbformat_minor": 5
}
