{
 "cells": [
  {
   "cell_type": "code",
   "execution_count": 1,
   "id": "1b45ccfd",
   "metadata": {},
   "outputs": [],
   "source": [
    "import torch\n",
    "from modified_scripts import get_surface, get_sdf, scan\n",
    "from modified_scripts.models import Segmentation_Network_full as Segmentation_Network\n",
    "from modified_scripts.utils import scale_to_unit_sphere, load_intra\n",
    "from modified_scripts.sampling_cube import CubeSampler\n",
    "from modified_scripts.dataset import CustomDataset\n",
    "import numpy as np\n",
    "\n",
    "from collections import namedtuple \n",
    "import os\n",
    "device='cuda:0'"
   ]
  },
  {
   "cell_type": "code",
   "execution_count": 2,
   "id": "44282913",
   "metadata": {},
   "outputs": [],
   "source": [
    "names = os.listdir('./IntrA3D/obj')\n",
    "split_idx = len(names)//2"
   ]
  },
  {
   "cell_type": "code",
   "execution_count": 3,
   "id": "d3669f37",
   "metadata": {},
   "outputs": [],
   "source": [
    "train_names = names[:split_idx]\n",
    "test_names = names[split_idx:]"
   ]
  },
  {
   "cell_type": "code",
   "execution_count": 4,
   "id": "1653708c",
   "metadata": {},
   "outputs": [],
   "source": [
    "from tqdm import tqdm"
   ]
  },
  {
   "cell_type": "code",
   "execution_count": 7,
   "id": "7651216b",
   "metadata": {},
   "outputs": [],
   "source": [
    "dirrectory= 'data_for_each_patient_2'\n",
    "os.mkdir(dirrectory)"
   ]
  },
  {
   "cell_type": "code",
   "execution_count": 8,
   "id": "09a33224",
   "metadata": {},
   "outputs": [
    {
     "name": "stderr",
     "output_type": "stream",
     "text": [
      "100%|███████████████████████████████████████| 116/116 [1:01:02<00:00, 31.57s/it]\n"
     ]
    }
   ],
   "source": [
    "\n",
    "for name in tqdm(names):\n",
    "    if os.path.exists(f'./data_for_each_patient_2/{name[:-4]}'):\n",
    "        continue\n",
    "    \n",
    "    \n",
    "    train_dataset = CustomDataset(name, device='cpu', count=20, rotate_angle=1)\n",
    "    train_loader = torch.utils.data.DataLoader(train_dataset, batch_size=10, num_workers=10, shuffle=True)\n",
    "        \n",
    "    train_data = []\n",
    "    train_labels = []\n",
    "    count=0\n",
    "    for X, Y in (train_loader):\n",
    "        X = X.reshape([-1,1, 16,16,16])\n",
    "        Y = Y.reshape([-1, 2])\n",
    "\n",
    "        train_data.append(X)\n",
    "        train_labels.append(Y)\n",
    "        \n",
    "        count+=1\n",
    "        if count==10:\n",
    "            break\n",
    "        \n",
    "    new_train_data = torch.cat(train_data, dim=0)\n",
    "    new_train_labels = torch.cat(train_labels, dim=0)\n",
    "\n",
    "    os.mkdir(f'./{dirrectory}/{name[:-4]}')\n",
    "\n",
    "    torch.save(new_train_data, f'./{dirrectory}/{name[:-4]}/data.pt')\n",
    "    torch.save(new_train_labels, f'./{dirrectory}/{name[:-4]}/label.pt')\n",
    "\n",
    "       "
   ]
  },
  {
   "cell_type": "code",
   "execution_count": 46,
   "id": "2b8cf9ac",
   "metadata": {},
   "outputs": [],
   "source": []
  },
  {
   "cell_type": "code",
   "execution_count": 41,
   "id": "badc71e9",
   "metadata": {},
   "outputs": [
    {
     "data": {
      "text/plain": [
       "10"
      ]
     },
     "execution_count": 41,
     "metadata": {},
     "output_type": "execute_result"
    }
   ],
   "source": [
    "len(train_data)"
   ]
  },
  {
   "cell_type": "code",
   "execution_count": 35,
   "id": "3e48f16a",
   "metadata": {},
   "outputs": [
    {
     "data": {
      "text/plain": [
       "torch.Size([2000, 1, 16, 16, 16])"
      ]
     },
     "execution_count": 35,
     "metadata": {},
     "output_type": "execute_result"
    }
   ],
   "source": [
    "X.shape"
   ]
  },
  {
   "cell_type": "code",
   "execution_count": 4,
   "id": "b3912221",
   "metadata": {},
   "outputs": [],
   "source": [
    "train_datasets = []\n",
    "for idx, name in enumerate(train_names):\n",
    "    dataset = CustomDataset(name, device='cpu', count=200, rotate_angle=1)\n",
    "    train_datasets.append(dataset)\n",
    "    \n",
    "test_datasets = []\n",
    "for idx, name in enumerate(test_names):\n",
    "    dataset = CustomDataset(name, device='cpu', count=200, train=False)\n",
    "    test_datasets.append(dataset)"
   ]
  },
  {
   "cell_type": "code",
   "execution_count": 17,
   "id": "d6cc6591",
   "metadata": {},
   "outputs": [],
   "source": [
    "train_dataset = torch.utils.data.ConcatDataset(train_datasets)\n",
    "test_dataset = torch.utils.data.ConcatDataset(test_datasets)"
   ]
  },
  {
   "cell_type": "code",
   "execution_count": 18,
   "id": "e6f21c56",
   "metadata": {},
   "outputs": [],
   "source": [
    "train_loader = torch.utils.data.DataLoader(train_dataset, batch_size=32, num_workers=16, shuffle=True)\n",
    "test_loader = torch.utils.data.DataLoader(test_dataset, batch_size=32, num_workers=16, shuffle=False)"
   ]
  },
  {
   "cell_type": "code",
   "execution_count": 9,
   "id": "1ba40bc1",
   "metadata": {},
   "outputs": [
    {
     "data": {
      "text/plain": [
       "64000"
      ]
     },
     "execution_count": 9,
     "metadata": {},
     "output_type": "execute_result"
    }
   ],
   "source": [
    "200*32*10"
   ]
  },
  {
   "cell_type": "code",
   "execution_count": 10,
   "id": "bf44f578",
   "metadata": {},
   "outputs": [
    {
     "name": "stderr",
     "output_type": "stream",
     "text": [
      "\n",
      "KeyboardInterrupt\n",
      "\n"
     ]
    }
   ],
   "source": [
    "train_data = []\n",
    "train_labels = []\n",
    "count=0\n",
    "for X, Y in train_loader:\n",
    "    X = X.reshape([-1,1, 16,16,16])\n",
    "    Y = Y.reshape([-1, 2])\n",
    "    \n",
    "    train_data.append(X)\n",
    "    train_labels.append(Y)\n",
    "\n",
    "    if count == 10:\n",
    "        break\n",
    "\n",
    "    count+=1\n",
    "    \n"
   ]
  },
  {
   "cell_type": "code",
   "execution_count": 34,
   "id": "42da20fa",
   "metadata": {},
   "outputs": [],
   "source": [
    "new_train_data = torch.cat(train_data, dim=0)\n",
    "new_train_labels = torch.cat(train_labels, dim=0)\n",
    "\n",
    "torch.save(new_train_data, f'./data/train_data_{new_train_data.shape[0]}.pt')\n",
    "torch.save(new_train_labels, f'./data/train_labels_{new_train_data.shape[0]}.pt')"
   ]
  },
  {
   "cell_type": "code",
   "execution_count": 40,
   "id": "6ec4fe0b",
   "metadata": {},
   "outputs": [
    {
     "data": {
      "text/plain": [
       "0"
      ]
     },
     "execution_count": 40,
     "metadata": {},
     "output_type": "execute_result"
    }
   ],
   "source": [
    "new_train_data, new_train_labels, train_data, train_labels = None,None,None,None\n",
    "import gc\n",
    "gc.collect()"
   ]
  },
  {
   "cell_type": "code",
   "execution_count": 46,
   "id": "03213de2",
   "metadata": {},
   "outputs": [
    {
     "name": "stdout",
     "output_type": "stream",
     "text": [
      "0\n",
      "1\n",
      "2\n",
      "3\n",
      "4\n",
      "5\n",
      "6\n",
      "7\n",
      "8\n",
      "9\n",
      "10\n"
     ]
    }
   ],
   "source": [
    "test_data = []\n",
    "test_labels = []\n",
    "count=0\n",
    "for X, Y in test_loader:\n",
    "    X = X.reshape([-1,1, 16,16,16])\n",
    "    Y = Y.reshape([-1, 2])\n",
    "    \n",
    "    test_data.append(X)\n",
    "    test_labels.append(Y)\n",
    "\n",
    "    print(count)\n",
    "    \n",
    "    \n",
    "    if count == 10:\n",
    "        break\n",
    "\n",
    "    count+=1\n",
    "    \n"
   ]
  },
  {
   "cell_type": "code",
   "execution_count": 49,
   "id": "1aa0ae11",
   "metadata": {},
   "outputs": [
    {
     "data": {
      "text/plain": [
       "11"
      ]
     },
     "execution_count": 49,
     "metadata": {},
     "output_type": "execute_result"
    }
   ],
   "source": [
    "len(test_data)"
   ]
  },
  {
   "cell_type": "code",
   "execution_count": 50,
   "id": "1062639a",
   "metadata": {},
   "outputs": [],
   "source": [
    "new_test_data = torch.cat(test_data, dim=0)\n",
    "new_test_labels = torch.cat(test_labels, dim=0)\n",
    "torch.save(new_test_data, f'./data/test_data_{new_test_data.shape[0]}.pt')\n",
    "torch.save(new_test_labels, f'./data/test_labels_{new_test_data.shape[0]}.pt')"
   ]
  },
  {
   "cell_type": "code",
   "execution_count": null,
   "id": "812720cf",
   "metadata": {},
   "outputs": [],
   "source": []
  },
  {
   "cell_type": "code",
   "execution_count": 51,
   "id": "348f02ca",
   "metadata": {},
   "outputs": [
    {
     "data": {
      "text/plain": [
       "1877"
      ]
     },
     "execution_count": 51,
     "metadata": {},
     "output_type": "execute_result"
    }
   ],
   "source": [
    "new_test_data, new_test_labels, test_data, test_labels = None,None,None,None\n",
    "import gc\n",
    "gc.collect()"
   ]
  },
  {
   "cell_type": "code",
   "execution_count": null,
   "id": "93519479",
   "metadata": {},
   "outputs": [],
   "source": []
  }
 ],
 "metadata": {
  "kernelspec": {
   "display_name": "Python 3 (ipykernel)",
   "language": "python",
   "name": "python3"
  },
  "language_info": {
   "codemirror_mode": {
    "name": "ipython",
    "version": 3
   },
   "file_extension": ".py",
   "mimetype": "text/x-python",
   "name": "python",
   "nbconvert_exporter": "python",
   "pygments_lexer": "ipython3",
   "version": "3.11.8"
  }
 },
 "nbformat": 4,
 "nbformat_minor": 5
}
