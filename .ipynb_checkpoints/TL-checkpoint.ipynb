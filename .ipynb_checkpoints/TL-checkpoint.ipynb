{
 "cells": [
  {
   "cell_type": "code",
   "execution_count": 1,
   "id": "500a7e55-a980-4a01-a839-9aaa681a910c",
   "metadata": {},
   "outputs": [],
   "source": [
    "import os\n",
    "from scripts.models import Segmentation_Network_full, Segmentation_Network_TL\n",
    "\n",
    "import torch\n",
    "import torch.nn as nn\n",
    "\n",
    "m = torch.load('./models/best.pt').cpu()\n",
    "m.eval()\n",
    "\n",
    "model = Segmentation_Network_TL()"
   ]
  },
  {
   "cell_type": "code",
   "execution_count": 2,
   "id": "a540bcf7-762a-4d59-b2d7-c09c4c66cd3b",
   "metadata": {},
   "outputs": [
    {
     "name": "stdout",
     "output_type": "stream",
     "text": [
      "First model first layer: tensor([[[[-0.0092, -0.0092],\n",
      "          [-0.0098, -0.0097]]]], dtype=torch.float64, grad_fn=<SliceBackward0>) \n",
      "\n",
      "         Second model first layer: tensor([[[[ 0.2239, -0.1379],\n",
      "          [-0.1577, -0.0580]]]], dtype=torch.float64, grad_fn=<SliceBackward0>) \n",
      " \n",
      "         \n",
      "\n",
      "         First model last layer: tensor([[[[0.0781]]]], dtype=torch.float64, grad_fn=<SliceBackward0>) \n",
      "\n",
      "         Second model last layer: tensor([[[[-0.0499]]]], dtype=torch.float64, grad_fn=<SliceBackward0>) \n"
     ]
    }
   ],
   "source": [
    "print(f'''First model first layer: {m.network[0].weight[0,:1,:1]} \\n\n",
    "         Second model first layer: {model.network[0].weight[0,:1,:1]} \\n \n",
    "         \\n\n",
    "         First model last layer: {m.network[12].weight[0,:1,:1]} \\n\n",
    "         Second model last layer: {model.network[12].weight[0,:1,:1]} ''')"
   ]
  },
  {
   "cell_type": "code",
   "execution_count": 3,
   "id": "ac7f06ee-ad92-4ef7-aff7-a932029f0fe7",
   "metadata": {},
   "outputs": [],
   "source": [
    "for i in range(len(m.network)):\n",
    "    layer = m.network[i]\n",
    "    if type(layer) == torch.nn.modules.conv.Conv3d and layer.in_channels != 256:\n",
    "        model.network[i].load_state_dict(layer.state_dict())\n",
    "\n",
    "        for param in model.network[i].parameters():\n",
    "            param.requires_grad = False"
   ]
  },
  {
   "cell_type": "code",
   "execution_count": 4,
   "id": "43509243-3917-4df4-b018-daf007bb23d8",
   "metadata": {},
   "outputs": [
    {
     "name": "stdout",
     "output_type": "stream",
     "text": [
      "First model first layer: tensor([[[[-0.0092, -0.0092],\n",
      "          [-0.0098, -0.0097]]]], dtype=torch.float64, grad_fn=<SliceBackward0>) \n",
      "\n",
      "         Second model first layer: tensor([[[[-0.0092, -0.0092],\n",
      "          [-0.0098, -0.0097]]]], dtype=torch.float64) \n",
      " \n",
      "         \n",
      "\n",
      "         First model last layer: tensor([[[[0.0781]]]], dtype=torch.float64, grad_fn=<SliceBackward0>) \n",
      "\n",
      "         Second model last layer: tensor([[[[-0.0499]]]], dtype=torch.float64, grad_fn=<SliceBackward0>) \n"
     ]
    }
   ],
   "source": [
    "print(f'''First model first layer: {m.network[0].weight[0,:1,:1]} \\n\n",
    "         Second model first layer: {model.network[0].weight[0,:1,:1]} \\n \n",
    "         \\n\n",
    "         First model last layer: {m.network[12].weight[0,:1,:1]} \\n\n",
    "         Second model last layer: {model.network[12].weight[0,:1,:1]} ''')\n"
   ]
  },
  {
   "cell_type": "code",
   "execution_count": null,
   "id": "70b8b391-b3d3-41b2-9cb3-e823b4c76a9e",
   "metadata": {},
   "outputs": [],
   "source": []
  }
 ],
 "metadata": {
  "kernelspec": {
   "display_name": "Python 3 (ipykernel)",
   "language": "python",
   "name": "python3"
  },
  "language_info": {
   "codemirror_mode": {
    "name": "ipython",
    "version": 3
   },
   "file_extension": ".py",
   "mimetype": "text/x-python",
   "name": "python",
   "nbconvert_exporter": "python",
   "pygments_lexer": "ipython3",
   "version": "3.11.8"
  }
 },
 "nbformat": 4,
 "nbformat_minor": 5
}
