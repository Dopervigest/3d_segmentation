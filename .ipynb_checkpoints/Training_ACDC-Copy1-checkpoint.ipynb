{
 "cells": [
  {
   "cell_type": "code",
   "execution_count": 1,
   "id": "7cdc54dd-a356-4fe5-9e18-f38366e304ce",
   "metadata": {},
   "outputs": [],
   "source": [
    "import os\n",
    "import numpy as np\n",
    "from tqdm import tqdm\n",
    "\n",
    "import torch\n",
    "import torch.nn.functional as F\n",
    "from torchsummary import summary\n",
    "from torch.utils.data import TensorDataset, DataLoader\n",
    "from scripts.models import Segmentation_Network_full\n",
    "from scripts.dataset import H5Dataset\n",
    "\n",
    "out_dir = './models/ACDC'\n",
    "\n",
    "if os.path.exists(out_dir):\n",
    "    print(\"path exists\")\n",
    "else:\n",
    "    os.makedirs(out_dir)\n",
    "\n",
    "\n",
    "\n",
    "device = 'cuda' if torch.cuda.is_available() else 'cpu'\n",
    "\n",
    "datadir = './prepared_data/'\n",
    "names = sorted(os.listdir(datadir))"
   ]
  },
  {
   "cell_type": "code",
   "execution_count": 3,
   "id": "3c306d1a-450c-493c-8f8d-decfaeda7f0c",
   "metadata": {},
   "outputs": [],
   "source": []
  },
  {
   "cell_type": "code",
   "execution_count": 8,
   "id": "ab4ad929-ca45-49eb-9b11-ef536733038a",
   "metadata": {},
   "outputs": [
    {
     "name": "stdout",
     "output_type": "stream",
     "text": [
      "Models for test dataset:  ['patient009', 'patient001', 'patient002', 'patient015', 'patient016', 'patient028', 'patient024', 'patient035', 'patient025', 'patient023', 'patient052', 'patient059', 'patient054', 'patient045', 'patient056', 'patient069', 'patient062', 'patient074', 'patient073', 'patient066', 'patient091', 'patient098', 'patient095', 'patient086', 'patient092']\n"
     ]
    }
   ],
   "source": [
    "groups = []\n",
    "for i in range(1,100, 20):\n",
    "    groups.append(np.arange(i, i+20))\n",
    "\n",
    "test_names = []\n",
    "for i in groups:\n",
    "    test_names.append(np.random.choice(i, 5, replace=False))\n",
    "test_names = list(np.concatenate(test_names))\n",
    "\n",
    "for i in range(len(test_names)):\n",
    "    name = test_names[i]\n",
    "    if len(str(name)) == 1:\n",
    "        test_names[i] = f'patient00{name}'\n",
    "    elif len(str(name)) == 2:\n",
    "        test_names[i] = f'patient0{name}'\n",
    "    else:\n",
    "        test_names[i] = f'patient{name}'\n",
    "print('Models for test dataset: ', test_names)"
   ]
  },
  {
   "cell_type": "code",
   "execution_count": 9,
   "id": "893b7cf6-ec08-4f05-bfdb-a4f521fa60f6",
   "metadata": {
    "scrolled": true
   },
   "outputs": [],
   "source": [
    "idx = torch.randperm(2000)[:500]"
   ]
  },
  {
   "cell_type": "code",
   "execution_count": 10,
   "id": "2dc556b5-3300-4251-bce7-00222cdf7d59",
   "metadata": {},
   "outputs": [
    {
     "data": {
      "text/plain": [
       "(torch.Size([37500, 1, 16, 16, 16]),\n",
       " torch.Size([12500, 1, 16, 16, 16]),\n",
       " torch.Size([37500, 3]),\n",
       " torch.Size([12500, 3]))"
      ]
     },
     "execution_count": 10,
     "metadata": {},
     "output_type": "execute_result"
    }
   ],
   "source": [
    "train_data = []\n",
    "train_labels = []\n",
    "\n",
    "test_data = []\n",
    "test_labels = []\n",
    "\n",
    "for name in names:\n",
    "    if name in test_names:\n",
    "        test_data.append(torch.load(datadir+name+'/data.pt')[idx])\n",
    "        test_labels.append(torch.load(datadir+name+'/label.pt')[idx])\n",
    "    else:\n",
    "        train_data.append(torch.load(datadir+name+'/data.pt')[idx])\n",
    "        train_labels.append(torch.load(datadir+name+'/label.pt')[idx])\n",
    "\n",
    "\n",
    "X_train = torch.concat(train_data, dim=0)\n",
    "X_test = torch.concat(test_data, dim=0)\n",
    "\n",
    "y_train = torch.concat(train_labels, dim=0)\n",
    "y_test = torch.concat(test_labels, dim=0)\n",
    "\n",
    "\n",
    "\n",
    "X_train.shape, X_test.shape, y_train.shape, y_test.shape"
   ]
  },
  {
   "cell_type": "code",
   "execution_count": 11,
   "id": "499e5899-ab9f-42ea-bcfa-0e7ccfd2bca9",
   "metadata": {},
   "outputs": [],
   "source": [
    "batch = 128 # сколько данных подается в модель \n",
    "\n",
    "# собираем датасеты из памяти, если нужно считывать с диска, то надо использовать  torch.utils.data.Dataset\n",
    "train_dataset = TensorDataset(X_train.to(device), y_train.to(device))\n",
    "test_dataset = TensorDataset(X_test.to(device), y_test.to(device))\n",
    "\n",
    "# даталоадер сам делит набор данных по батчам, шафлит и параллелит подгрузку\n",
    "train_dataloader = DataLoader(train_dataset, batch_size=batch, shuffle=True)\n",
    "test_dataloader = DataLoader(test_dataset, batch_size=batch, shuffle=False)"
   ]
  },
  {
   "cell_type": "code",
   "execution_count": 12,
   "id": "12ef33dd-49fa-4109-bbbe-9cfcb494641e",
   "metadata": {},
   "outputs": [],
   "source": [
    "import torch.nn as nn\n",
    "\n",
    "\n",
    "class Segmentation_Network_full(nn.Module): # 477,155 params, used in paper\n",
    "    def __init__(self):\n",
    "        super().__init__()\n",
    "        self.network = nn.Sequential(\n",
    "            \n",
    "            nn.Conv3d(1, 32, kernel_size = (2,2,2), stride = (2,2,2)),\n",
    "            nn.ReLU(),\n",
    "            nn.Conv3d(32,64, kernel_size = (2,2,2), stride = (2,2,2)),\n",
    "            nn.ReLU(),\n",
    "            \n",
    "            nn.Conv3d(64, 128, kernel_size = (2,2,2), stride = (2,2,2)),\n",
    "            nn.ReLU(),\n",
    "            nn.Conv3d(128,256, kernel_size = (2,2,2), stride = (2,2,2)),\n",
    "            nn.ReLU(),\n",
    "            \n",
    "            nn.Conv3d(256,256, kernel_size = (1,1,1), stride = (1,1,1)),\n",
    "            nn.ReLU(),\n",
    "            nn.Conv3d(256,256, kernel_size = (1,1,1), stride = (1,1,1)),\n",
    "            nn.ReLU(),\n",
    "            \n",
    "            nn.Conv3d(256,3, kernel_size = (1,1,1), stride = (1,1,1)),\n",
    "            nn.Sigmoid(),\n",
    "            nn.Flatten()\n",
    "        ).double()\n",
    "    \n",
    "    def forward(self, data):\n",
    "        return self.network(data)"
   ]
  },
  {
   "cell_type": "code",
   "execution_count": 15,
   "id": "b6af774e-8400-426a-b222-1392947bcaad",
   "metadata": {},
   "outputs": [
    {
     "name": "stdout",
     "output_type": "stream",
     "text": [
      "----------------------------------------------------------------\n",
      "        Layer (type)               Output Shape         Param #\n",
      "================================================================\n",
      "            Conv3d-1          [-1, 32, 8, 8, 8]             288\n",
      "              ReLU-2          [-1, 32, 8, 8, 8]               0\n",
      "            Conv3d-3          [-1, 64, 4, 4, 4]          16,448\n",
      "              ReLU-4          [-1, 64, 4, 4, 4]               0\n",
      "            Conv3d-5         [-1, 128, 2, 2, 2]          65,664\n",
      "              ReLU-6         [-1, 128, 2, 2, 2]               0\n",
      "            Conv3d-7         [-1, 256, 1, 1, 1]         262,400\n",
      "              ReLU-8         [-1, 256, 1, 1, 1]               0\n",
      "            Conv3d-9         [-1, 256, 1, 1, 1]          65,792\n",
      "             ReLU-10         [-1, 256, 1, 1, 1]               0\n",
      "           Conv3d-11         [-1, 256, 1, 1, 1]          65,792\n",
      "             ReLU-12         [-1, 256, 1, 1, 1]               0\n",
      "           Conv3d-13           [-1, 3, 1, 1, 1]             771\n",
      "          Sigmoid-14           [-1, 3, 1, 1, 1]               0\n",
      "          Flatten-15                    [-1, 3]               0\n",
      "================================================================\n",
      "Total params: 477,155\n",
      "Trainable params: 477,155\n",
      "Non-trainable params: 0\n",
      "----------------------------------------------------------------\n",
      "Input size (MB): 0.02\n",
      "Forward/backward pass size (MB): 0.34\n",
      "Params size (MB): 1.82\n",
      "Estimated Total Size (MB): 2.18\n",
      "----------------------------------------------------------------\n"
     ]
    }
   ],
   "source": [
    "model = Segmentation_Network_full().float()#выводит количество параметров и размер тензоров после каждого слоя\n",
    "summary(model, input_size= (train_data[0][0].shape), device='cpu') "
   ]
  },
  {
   "cell_type": "code",
   "execution_count": 16,
   "id": "cd80264b-1420-4479-843a-2c5959c4b96c",
   "metadata": {},
   "outputs": [
    {
     "data": {
      "text/plain": [
       "Segmentation_Network_full(\n",
       "  (network): Sequential(\n",
       "    (0): Conv3d(1, 32, kernel_size=(2, 2, 2), stride=(2, 2, 2))\n",
       "    (1): ReLU()\n",
       "    (2): Conv3d(32, 64, kernel_size=(2, 2, 2), stride=(2, 2, 2))\n",
       "    (3): ReLU()\n",
       "    (4): Conv3d(64, 128, kernel_size=(2, 2, 2), stride=(2, 2, 2))\n",
       "    (5): ReLU()\n",
       "    (6): Conv3d(128, 256, kernel_size=(2, 2, 2), stride=(2, 2, 2))\n",
       "    (7): ReLU()\n",
       "    (8): Conv3d(256, 256, kernel_size=(1, 1, 1), stride=(1, 1, 1))\n",
       "    (9): ReLU()\n",
       "    (10): Conv3d(256, 256, kernel_size=(1, 1, 1), stride=(1, 1, 1))\n",
       "    (11): ReLU()\n",
       "    (12): Conv3d(256, 3, kernel_size=(1, 1, 1), stride=(1, 1, 1))\n",
       "    (13): Sigmoid()\n",
       "    (14): Flatten(start_dim=1, end_dim=-1)\n",
       "  )\n",
       ")"
      ]
     },
     "execution_count": 16,
     "metadata": {},
     "output_type": "execute_result"
    }
   ],
   "source": [
    "opt = torch.optim.Adam(model.parameters(), lr=0.001, weight_decay=1e-5) # выбираем оптимизатор и загружаем в него модель\n",
    "criterion = F.binary_cross_entropy  # выбираем лосс\n",
    "model.to(device).double() #закидываем модель на gpu и меняем точность с float на double"
   ]
  },
  {
   "cell_type": "code",
   "execution_count": 18,
   "id": "2c56269c-ae91-4c36-9b92-6d6d32f189b9",
   "metadata": {
    "scrolled": true
   },
   "outputs": [
    {
     "name": "stderr",
     "output_type": "stream",
     "text": [
      "  1%|▍                                          | 1/100 [00:08<13:38,  8.27s/it]"
     ]
    },
    {
     "name": "stdout",
     "output_type": "stream",
     "text": [
      "EPOCH 1: Loss: 0.5162354712274594, Accuracy: 0.5917622447013855, Best_accuracy: 0.5917622447013855\n",
      "Val_loss: 0.4409432136609239, Val_accuracy: 0.7035956978797913, Best_val_accuracy: 0.7035956978797913\n",
      "\n"
     ]
    },
    {
     "name": "stderr",
     "output_type": "stream",
     "text": [
      "  2%|▊                                          | 2/100 [00:16<13:09,  8.05s/it]"
     ]
    },
    {
     "name": "stdout",
     "output_type": "stream",
     "text": [
      "EPOCH 2: Loss: 0.3150217757756428, Accuracy: 0.7853063344955444, Best_accuracy: 0.7853063344955444\n",
      "Val_loss: 0.22808066992807954, Val_accuracy: 0.8537604212760925, Best_val_accuracy: 0.8537604212760925\n",
      "\n"
     ]
    },
    {
     "name": "stderr",
     "output_type": "stream",
     "text": [
      "  3%|█▎                                         | 3/100 [00:24<12:55,  8.00s/it]"
     ]
    },
    {
     "name": "stdout",
     "output_type": "stream",
     "text": [
      "EPOCH 3: Loss: 0.21933137606958805, Accuracy: 0.8544335961341858, Best_accuracy: 0.8544335961341858\n",
      "Val_loss: 0.21102876968646672, Val_accuracy: 0.8606201410293579, Best_val_accuracy: 0.8606201410293579\n",
      "\n"
     ]
    },
    {
     "name": "stderr",
     "output_type": "stream",
     "text": [
      "  4%|█▋                                         | 4/100 [00:32<12:45,  7.98s/it]"
     ]
    },
    {
     "name": "stdout",
     "output_type": "stream",
     "text": [
      "EPOCH 4: Loss: 0.1751077682109995, Accuracy: 0.886987566947937, Best_accuracy: 0.886987566947937\n",
      "Val_loss: 0.15974399026667196, Val_accuracy: 0.8985817432403564, Best_val_accuracy: 0.8985817432403564\n",
      "\n"
     ]
    },
    {
     "name": "stderr",
     "output_type": "stream",
     "text": [
      "  5%|██▏                                        | 5/100 [00:40<12:37,  7.97s/it]"
     ]
    },
    {
     "name": "stdout",
     "output_type": "stream",
     "text": [
      "EPOCH 5: Loss: 0.14953582388145165, Accuracy: 0.9052006006240845, Best_accuracy: 0.9052006006240845\n",
      "Val_loss: 0.14760373246882702, Val_accuracy: 0.9074761271476746, Best_val_accuracy: 0.9074761271476746\n",
      "\n"
     ]
    },
    {
     "name": "stderr",
     "output_type": "stream",
     "text": [
      "  6%|██▌                                        | 6/100 [00:47<12:28,  7.97s/it]"
     ]
    },
    {
     "name": "stdout",
     "output_type": "stream",
     "text": [
      "EPOCH 6: Loss: 0.12727540710526597, Accuracy: 0.9199758172035217, Best_accuracy: 0.9199758172035217\n",
      "Val_loss: 0.13522313275499248, Val_accuracy: 0.9138194918632507, Best_val_accuracy: 0.9138194918632507\n",
      "\n"
     ]
    },
    {
     "name": "stderr",
     "output_type": "stream",
     "text": [
      "  7%|███                                        | 7/100 [00:55<12:22,  7.98s/it]"
     ]
    },
    {
     "name": "stdout",
     "output_type": "stream",
     "text": [
      "EPOCH 7: Loss: 0.11245981049675485, Accuracy: 0.9305570721626282, Best_accuracy: 0.9305570721626282\n",
      "Val_loss: 0.12285578589958987, Val_accuracy: 0.9234617352485657, Best_val_accuracy: 0.9234617352485657\n",
      "\n"
     ]
    },
    {
     "name": "stderr",
     "output_type": "stream",
     "text": [
      "  8%|███▍                                       | 8/100 [01:03<12:15,  7.99s/it]"
     ]
    },
    {
     "name": "stdout",
     "output_type": "stream",
     "text": [
      "EPOCH 8: Loss: 0.1005648348730294, Accuracy: 0.9389622211456299, Best_accuracy: 0.9389622211456299\n",
      "Val_loss: 0.1250579835388278, Val_accuracy: 0.9248625636100769, Best_val_accuracy: 0.9248625636100769\n",
      "\n"
     ]
    },
    {
     "name": "stderr",
     "output_type": "stream",
     "text": [
      "  9%|███▊                                       | 9/100 [01:12<12:07,  8.00s/it]"
     ]
    },
    {
     "name": "stdout",
     "output_type": "stream",
     "text": [
      "EPOCH 9: Loss: 0.09344054469664839, Accuracy: 0.9424000978469849, Best_accuracy: 0.9424000978469849\n",
      "Val_loss: 0.12660303387739494, Val_accuracy: 0.9216700196266174, Best_val_accuracy: 0.9248625636100769\n",
      "\n"
     ]
    },
    {
     "name": "stderr",
     "output_type": "stream",
     "text": [
      " 10%|████▏                                     | 10/100 [01:20<12:00,  8.01s/it]"
     ]
    },
    {
     "name": "stdout",
     "output_type": "stream",
     "text": [
      "EPOCH 10: Loss: 0.08226021990652878, Accuracy: 0.9503699541091919, Best_accuracy: 0.9503699541091919\n",
      "Val_loss: 0.12314730235349801, Val_accuracy: 0.9297633767127991, Best_val_accuracy: 0.9297633767127991\n",
      "\n"
     ]
    },
    {
     "name": "stderr",
     "output_type": "stream",
     "text": [
      " 11%|████▌                                     | 11/100 [01:28<11:53,  8.02s/it]"
     ]
    },
    {
     "name": "stdout",
     "output_type": "stream",
     "text": [
      "EPOCH 11: Loss: 0.07446741673975935, Accuracy: 0.9559410214424133, Best_accuracy: 0.9559410214424133\n",
      "Val_loss: 0.11335860800589533, Val_accuracy: 0.9361409544944763, Best_val_accuracy: 0.9361409544944763\n",
      "\n"
     ]
    },
    {
     "name": "stderr",
     "output_type": "stream",
     "text": [
      " 12%|█████                                     | 12/100 [01:36<11:46,  8.03s/it]"
     ]
    },
    {
     "name": "stdout",
     "output_type": "stream",
     "text": [
      "EPOCH 12: Loss: 0.06598816833802348, Accuracy: 0.9606673717498779, Best_accuracy: 0.9606673717498779\n",
      "Val_loss: 0.13252453716050583, Val_accuracy: 0.9252155423164368, Best_val_accuracy: 0.9361409544944763\n",
      "\n"
     ]
    },
    {
     "name": "stderr",
     "output_type": "stream",
     "text": [
      " 13%|█████▍                                    | 13/100 [01:44<11:39,  8.04s/it]"
     ]
    },
    {
     "name": "stdout",
     "output_type": "stream",
     "text": [
      "EPOCH 13: Loss: 0.05943827935190895, Accuracy: 0.9653060436248779, Best_accuracy: 0.9653060436248779\n",
      "Val_loss: 0.11817530337288283, Val_accuracy: 0.9325156211853027, Best_val_accuracy: 0.9361409544944763\n",
      "\n"
     ]
    },
    {
     "name": "stderr",
     "output_type": "stream",
     "text": [
      " 14%|█████▉                                    | 14/100 [01:52<11:32,  8.05s/it]"
     ]
    },
    {
     "name": "stdout",
     "output_type": "stream",
     "text": [
      "EPOCH 14: Loss: 0.05519674705005122, Accuracy: 0.9682639837265015, Best_accuracy: 0.9682639837265015\n",
      "Val_loss: 0.12101924866973209, Val_accuracy: 0.9335101842880249, Best_val_accuracy: 0.9361409544944763\n",
      "\n"
     ]
    },
    {
     "name": "stderr",
     "output_type": "stream",
     "text": [
      " 15%|██████▎                                   | 15/100 [02:00<11:24,  8.05s/it]"
     ]
    },
    {
     "name": "stdout",
     "output_type": "stream",
     "text": [
      "EPOCH 15: Loss: 0.05040653255733117, Accuracy: 0.9706929922103882, Best_accuracy: 0.9706929922103882\n",
      "Val_loss: 0.12393236799976445, Val_accuracy: 0.9336658120155334, Best_val_accuracy: 0.9361409544944763\n",
      "\n"
     ]
    },
    {
     "name": "stderr",
     "output_type": "stream",
     "text": [
      " 16%|██████▋                                   | 16/100 [02:08<11:16,  8.06s/it]"
     ]
    },
    {
     "name": "stdout",
     "output_type": "stream",
     "text": [
      "EPOCH 16: Loss: 0.0469037933288325, Accuracy: 0.9716787338256836, Best_accuracy: 0.9716787338256836\n",
      "Val_loss: 0.12918431780720496, Val_accuracy: 0.9344668388366699, Best_val_accuracy: 0.9361409544944763\n",
      "\n"
     ]
    },
    {
     "name": "stderr",
     "output_type": "stream",
     "text": [
      " 17%|███████▏                                  | 17/100 [02:16<11:08,  8.06s/it]"
     ]
    },
    {
     "name": "stdout",
     "output_type": "stream",
     "text": [
      "EPOCH 17: Loss: 0.04140106281676175, Accuracy: 0.9758666157722473, Best_accuracy: 0.9758666157722473\n",
      "Val_loss: 0.1282809865353262, Val_accuracy: 0.9375341534614563, Best_val_accuracy: 0.9375341534614563\n",
      "\n"
     ]
    },
    {
     "name": "stderr",
     "output_type": "stream",
     "text": [
      " 18%|███████▌                                  | 18/100 [02:24<11:00,  8.06s/it]"
     ]
    },
    {
     "name": "stdout",
     "output_type": "stream",
     "text": [
      "EPOCH 18: Loss: 0.03658565824315268, Accuracy: 0.9788236618041992, Best_accuracy: 0.9788236618041992\n",
      "Val_loss: 0.13421429623483733, Val_accuracy: 0.9375379681587219, Best_val_accuracy: 0.9375379681587219\n",
      "\n"
     ]
    },
    {
     "name": "stderr",
     "output_type": "stream",
     "text": [
      " 19%|███████▉                                  | 19/100 [02:32<10:52,  8.05s/it]"
     ]
    },
    {
     "name": "stdout",
     "output_type": "stream",
     "text": [
      "EPOCH 19: Loss: 0.034234979205092185, Accuracy: 0.9805869460105896, Best_accuracy: 0.9805869460105896\n",
      "Val_loss: 0.1534281736104171, Val_accuracy: 0.9316310882568359, Best_val_accuracy: 0.9375379681587219\n",
      "\n"
     ]
    },
    {
     "name": "stderr",
     "output_type": "stream",
     "text": [
      " 20%|████████▍                                 | 20/100 [02:40<10:43,  8.04s/it]"
     ]
    },
    {
     "name": "stdout",
     "output_type": "stream",
     "text": [
      "EPOCH 20: Loss: 0.034087082367435774, Accuracy: 0.9802919626235962, Best_accuracy: 0.9805869460105896\n",
      "Val_loss: 0.13164795184397043, Val_accuracy: 0.9388476014137268, Best_val_accuracy: 0.9388476014137268\n",
      "\n"
     ]
    },
    {
     "name": "stderr",
     "output_type": "stream",
     "text": [
      " 21%|████████▊                                 | 21/100 [02:48<10:34,  8.03s/it]"
     ]
    },
    {
     "name": "stdout",
     "output_type": "stream",
     "text": [
      "EPOCH 21: Loss: 0.02965845729088046, Accuracy: 0.9833332896232605, Best_accuracy: 0.9833332896232605\n",
      "Val_loss: 0.13726482935980838, Val_accuracy: 0.9399257302284241, Best_val_accuracy: 0.9399257302284241\n",
      "\n"
     ]
    },
    {
     "name": "stderr",
     "output_type": "stream",
     "text": [
      " 22%|█████████▏                                | 22/100 [02:56<10:25,  8.02s/it]"
     ]
    },
    {
     "name": "stdout",
     "output_type": "stream",
     "text": [
      "EPOCH 22: Loss: 0.02885305970326629, Accuracy: 0.9835732579231262, Best_accuracy: 0.9835732579231262\n",
      "Val_loss: 0.14655438838919074, Val_accuracy: 0.938448965549469, Best_val_accuracy: 0.9399257302284241\n",
      "\n"
     ]
    },
    {
     "name": "stderr",
     "output_type": "stream",
     "text": [
      " 23%|█████████▋                                | 23/100 [03:04<10:17,  8.02s/it]"
     ]
    },
    {
     "name": "stdout",
     "output_type": "stream",
     "text": [
      "EPOCH 23: Loss: 0.025403361521327723, Accuracy: 0.9860263466835022, Best_accuracy: 0.9860263466835022\n",
      "Val_loss: 0.15112538391451114, Val_accuracy: 0.9409202933311462, Best_val_accuracy: 0.9409202933311462\n",
      "\n"
     ]
    },
    {
     "name": "stderr",
     "output_type": "stream",
     "text": [
      " 24%|██████████                                | 24/100 [03:12<10:08,  8.01s/it]"
     ]
    },
    {
     "name": "stdout",
     "output_type": "stream",
     "text": [
      "EPOCH 24: Loss: 0.02718545308955034, Accuracy: 0.984774112701416, Best_accuracy: 0.9860263466835022\n",
      "Val_loss: 0.1568336162244591, Val_accuracy: 0.9365395307540894, Best_val_accuracy: 0.9409202933311462\n",
      "\n"
     ]
    },
    {
     "name": "stderr",
     "output_type": "stream",
     "text": [
      " 25%|██████████▌                               | 25/100 [03:20<10:00,  8.01s/it]"
     ]
    },
    {
     "name": "stdout",
     "output_type": "stream",
     "text": [
      "EPOCH 25: Loss: 0.021502381097373412, Accuracy: 0.9884252548217773, Best_accuracy: 0.9884252548217773\n",
      "Val_loss: 0.16985710709198712, Val_accuracy: 0.9325041770935059, Best_val_accuracy: 0.9409202933311462\n",
      "\n"
     ]
    },
    {
     "name": "stderr",
     "output_type": "stream",
     "text": [
      " 26%|██████████▉                               | 26/100 [03:28<09:52,  8.01s/it]"
     ]
    },
    {
     "name": "stdout",
     "output_type": "stream",
     "text": [
      "EPOCH 26: Loss: 0.02297663249521031, Accuracy: 0.986721396446228, Best_accuracy: 0.9884252548217773\n",
      "Val_loss: 0.167652993132781, Val_accuracy: 0.9400851726531982, Best_val_accuracy: 0.9409202933311462\n",
      "\n"
     ]
    },
    {
     "name": "stderr",
     "output_type": "stream",
     "text": [
      " 27%|███████████▎                              | 27/100 [03:36<09:44,  8.01s/it]"
     ]
    },
    {
     "name": "stdout",
     "output_type": "stream",
     "text": [
      "EPOCH 27: Loss: 0.01821393998926239, Accuracy: 0.9901601672172546, Best_accuracy: 0.9901601672172546\n",
      "Val_loss: 0.16923566693431905, Val_accuracy: 0.9391703009605408, Best_val_accuracy: 0.9409202933311462\n",
      "\n"
     ]
    },
    {
     "name": "stderr",
     "output_type": "stream",
     "text": [
      " 28%|███████████▊                              | 28/100 [03:44<09:36,  8.00s/it]"
     ]
    },
    {
     "name": "stdout",
     "output_type": "stream",
     "text": [
      "EPOCH 28: Loss: 0.020224542373546157, Accuracy: 0.9889869689941406, Best_accuracy: 0.9901601672172546\n",
      "Val_loss: 0.16428998537205505, Val_accuracy: 0.9379327297210693, Best_val_accuracy: 0.9409202933311462\n",
      "\n"
     ]
    },
    {
     "name": "stderr",
     "output_type": "stream",
     "text": [
      " 29%|████████████▏                             | 29/100 [03:52<09:28,  8.00s/it]"
     ]
    },
    {
     "name": "stdout",
     "output_type": "stream",
     "text": [
      "EPOCH 29: Loss: 0.016760901532999282, Accuracy: 0.9907201528549194, Best_accuracy: 0.9907201528549194\n",
      "Val_loss: 0.1826595456949995, Val_accuracy: 0.9333507418632507, Best_val_accuracy: 0.9409202933311462\n",
      "\n"
     ]
    },
    {
     "name": "stderr",
     "output_type": "stream",
     "text": [
      " 30%|████████████▌                             | 30/100 [04:00<09:20,  8.00s/it]"
     ]
    },
    {
     "name": "stdout",
     "output_type": "stream",
     "text": [
      "EPOCH 30: Loss: 0.02044843924885053, Accuracy: 0.9893060326576233, Best_accuracy: 0.9907201528549194\n",
      "Val_loss: 0.16787831008878135, Val_accuracy: 0.936691403388977, Best_val_accuracy: 0.9409202933311462\n",
      "\n"
     ]
    },
    {
     "name": "stderr",
     "output_type": "stream",
     "text": [
      " 31%|█████████████                             | 31/100 [04:08<09:12,  8.00s/it]"
     ]
    },
    {
     "name": "stdout",
     "output_type": "stream",
     "text": [
      "EPOCH 31: Loss: 0.017006184687986488, Accuracy: 0.9902925491333008, Best_accuracy: 0.9907201528549194\n",
      "Val_loss: 0.169154102757789, Val_accuracy: 0.9417934417724609, Best_val_accuracy: 0.9417934417724609\n",
      "\n"
     ]
    },
    {
     "name": "stderr",
     "output_type": "stream",
     "text": [
      " 32%|█████████████▍                            | 32/100 [04:16<09:04,  8.00s/it]"
     ]
    },
    {
     "name": "stdout",
     "output_type": "stream",
     "text": [
      "EPOCH 32: Loss: 0.013944853385838576, Accuracy: 0.9922141432762146, Best_accuracy: 0.9922141432762146\n",
      "Val_loss: 0.17774196937426534, Val_accuracy: 0.9417971968650818, Best_val_accuracy: 0.9417971968650818\n",
      "\n"
     ]
    },
    {
     "name": "stderr",
     "output_type": "stream",
     "text": [
      " 33%|█████████████▊                            | 33/100 [04:24<08:56,  8.00s/it]"
     ]
    },
    {
     "name": "stdout",
     "output_type": "stream",
     "text": [
      "EPOCH 33: Loss: 0.012566064898689817, Accuracy: 0.9931989312171936, Best_accuracy: 0.9931989312171936\n",
      "Val_loss: 0.19072369970827466, Val_accuracy: 0.9372912049293518, Best_val_accuracy: 0.9417971968650818\n",
      "\n"
     ]
    },
    {
     "name": "stderr",
     "output_type": "stream",
     "text": [
      " 34%|██████████████▎                           | 34/100 [04:32<08:48,  8.00s/it]"
     ]
    },
    {
     "name": "stdout",
     "output_type": "stream",
     "text": [
      "EPOCH 34: Loss: 0.013785145331305123, Accuracy: 0.9931731820106506, Best_accuracy: 0.9931989312171936\n",
      "Val_loss: 0.20093402247742953, Val_accuracy: 0.9346604347229004, Best_val_accuracy: 0.9417971968650818\n",
      "\n"
     ]
    },
    {
     "name": "stderr",
     "output_type": "stream",
     "text": [
      " 35%|██████████████▋                           | 35/100 [04:40<08:40,  8.00s/it]"
     ]
    },
    {
     "name": "stdout",
     "output_type": "stream",
     "text": [
      "EPOCH 35: Loss: 0.015487338501691771, Accuracy: 0.9917333722114563, Best_accuracy: 0.9931989312171936\n",
      "Val_loss: 0.18948952298748276, Val_accuracy: 0.9322688579559326, Best_val_accuracy: 0.9417971968650818\n",
      "\n"
     ]
    },
    {
     "name": "stderr",
     "output_type": "stream",
     "text": [
      " 36%|███████████████                           | 36/100 [04:48<08:32,  8.00s/it]"
     ]
    },
    {
     "name": "stdout",
     "output_type": "stream",
     "text": [
      "EPOCH 36: Loss: 0.01370051924700552, Accuracy: 0.9928807020187378, Best_accuracy: 0.9931989312171936\n",
      "Val_loss: 0.1954705487295978, Val_accuracy: 0.9332293272018433, Best_val_accuracy: 0.9417971968650818\n",
      "\n"
     ]
    },
    {
     "name": "stderr",
     "output_type": "stream",
     "text": [
      " 37%|███████████████▌                          | 37/100 [04:56<08:24,  8.00s/it]"
     ]
    },
    {
     "name": "stdout",
     "output_type": "stream",
     "text": [
      "EPOCH 37: Loss: 0.013256584589725546, Accuracy: 0.9929056167602539, Best_accuracy: 0.9931989312171936\n",
      "Val_loss: 0.20327682827184698, Val_accuracy: 0.933221697807312, Best_val_accuracy: 0.9417971968650818\n",
      "\n"
     ]
    },
    {
     "name": "stderr",
     "output_type": "stream",
     "text": [
      " 38%|███████████████▉                          | 38/100 [05:04<08:16,  8.00s/it]"
     ]
    },
    {
     "name": "stdout",
     "output_type": "stream",
     "text": [
      "EPOCH 38: Loss: 0.01368259583107567, Accuracy: 0.992586612701416, Best_accuracy: 0.9931989312171936\n",
      "Val_loss: 0.22006236773657092, Val_accuracy: 0.9343832731246948, Best_val_accuracy: 0.9417971968650818\n",
      "\n"
     ]
    },
    {
     "name": "stderr",
     "output_type": "stream",
     "text": [
      " 39%|████████████████▍                         | 39/100 [05:12<08:08,  8.00s/it]"
     ]
    },
    {
     "name": "stdout",
     "output_type": "stream",
     "text": [
      "EPOCH 39: Loss: 0.010054868800376433, Accuracy: 0.9950129985809326, Best_accuracy: 0.9950129985809326\n",
      "Val_loss: 0.19739624105426987, Val_accuracy: 0.9355411529541016, Best_val_accuracy: 0.9417971968650818\n",
      "\n"
     ]
    },
    {
     "name": "stderr",
     "output_type": "stream",
     "text": [
      " 40%|████████████████▊                         | 40/100 [05:20<08:00,  8.00s/it]"
     ]
    },
    {
     "name": "stdout",
     "output_type": "stream",
     "text": [
      "EPOCH 40: Loss: 0.010867493577870166, Accuracy: 0.9941872358322144, Best_accuracy: 0.9950129985809326\n",
      "Val_loss: 0.19948307660614914, Val_accuracy: 0.9340606927871704, Best_val_accuracy: 0.9417971968650818\n",
      "\n"
     ]
    },
    {
     "name": "stderr",
     "output_type": "stream",
     "text": [
      " 41%|█████████████████▏                        | 41/100 [05:28<07:52,  8.00s/it]"
     ]
    },
    {
     "name": "stdout",
     "output_type": "stream",
     "text": [
      "EPOCH 41: Loss: 0.016197762280469184, Accuracy: 0.9917075037956238, Best_accuracy: 0.9950129985809326\n",
      "Val_loss: 0.17986713900684173, Val_accuracy: 0.9387678503990173, Best_val_accuracy: 0.9417971968650818\n",
      "\n"
     ]
    },
    {
     "name": "stderr",
     "output_type": "stream",
     "text": [
      " 42%|█████████████████▋                        | 42/100 [05:36<07:44,  8.00s/it]"
     ]
    },
    {
     "name": "stdout",
     "output_type": "stream",
     "text": [
      "EPOCH 42: Loss: 0.0054838344104764895, Accuracy: 0.9972802400588989, Best_accuracy: 0.9972802400588989\n",
      "Val_loss: 0.21487849193644026, Val_accuracy: 0.9409999847412109, Best_val_accuracy: 0.9417971968650818\n",
      "\n"
     ]
    },
    {
     "name": "stderr",
     "output_type": "stream",
     "text": [
      " 43%|██████████████████                        | 43/100 [05:44<07:36,  8.01s/it]"
     ]
    },
    {
     "name": "stdout",
     "output_type": "stream",
     "text": [
      "EPOCH 43: Loss: 0.009336982839287146, Accuracy: 0.9951996207237244, Best_accuracy: 0.9972802400588989\n",
      "Val_loss: 0.19926241419789323, Val_accuracy: 0.9362168312072754, Best_val_accuracy: 0.9417971968650818\n",
      "\n"
     ]
    },
    {
     "name": "stderr",
     "output_type": "stream",
     "text": [
      " 44%|██████████████████▍                       | 44/100 [05:52<07:29,  8.02s/it]"
     ]
    },
    {
     "name": "stdout",
     "output_type": "stream",
     "text": [
      "EPOCH 44: Loss: 0.010312761008398227, Accuracy: 0.9944272041320801, Best_accuracy: 0.9972802400588989\n",
      "Val_loss: 0.20526314100677615, Val_accuracy: 0.9398422241210938, Best_val_accuracy: 0.9417971968650818\n",
      "\n"
     ]
    },
    {
     "name": "stderr",
     "output_type": "stream",
     "text": [
      " 45%|██████████████████▉                       | 45/100 [06:00<07:21,  8.03s/it]"
     ]
    },
    {
     "name": "stdout",
     "output_type": "stream",
     "text": [
      "EPOCH 45: Loss: 0.011043274091766486, Accuracy: 0.9943472146987915, Best_accuracy: 0.9972802400588989\n",
      "Val_loss: 0.19114771766545902, Val_accuracy: 0.9396827816963196, Best_val_accuracy: 0.9417971968650818\n",
      "\n"
     ]
    },
    {
     "name": "stderr",
     "output_type": "stream",
     "text": [
      " 46%|███████████████████▎                      | 46/100 [06:08<07:14,  8.04s/it]"
     ]
    },
    {
     "name": "stdout",
     "output_type": "stream",
     "text": [
      "EPOCH 46: Loss: 0.011378770143320333, Accuracy: 0.9941038489341736, Best_accuracy: 0.9972802400588989\n",
      "Val_loss: 0.20025343059471953, Val_accuracy: 0.9341897368431091, Best_val_accuracy: 0.9417971968650818\n",
      "\n"
     ]
    },
    {
     "name": "stderr",
     "output_type": "stream",
     "text": [
      " 47%|███████████████████▋                      | 47/100 [06:16<07:06,  8.05s/it]"
     ]
    },
    {
     "name": "stdout",
     "output_type": "stream",
     "text": [
      "EPOCH 47: Loss: 0.007729547549512583, Accuracy: 0.9956271052360535, Best_accuracy: 0.9972802400588989\n",
      "Val_loss: 0.2101784710248172, Val_accuracy: 0.9400054812431335, Best_val_accuracy: 0.9417971968650818\n",
      "\n"
     ]
    },
    {
     "name": "stderr",
     "output_type": "stream",
     "text": [
      " 48%|████████████████████▏                     | 48/100 [06:24<06:58,  8.06s/it]"
     ]
    },
    {
     "name": "stdout",
     "output_type": "stream",
     "text": [
      "EPOCH 48: Loss: 0.010572172887220026, Accuracy: 0.9944272041320801, Best_accuracy: 0.9972802400588989\n",
      "Val_loss: 0.19798735545090612, Val_accuracy: 0.9421957731246948, Best_val_accuracy: 0.9421957731246948\n",
      "\n"
     ]
    },
    {
     "name": "stderr",
     "output_type": "stream",
     "text": [
      " 49%|████████████████████▌                     | 49/100 [06:33<06:50,  8.05s/it]"
     ]
    },
    {
     "name": "stdout",
     "output_type": "stream",
     "text": [
      "EPOCH 49: Loss: 0.0067174707670363135, Accuracy: 0.9965336918830872, Best_accuracy: 0.9972802400588989\n",
      "Val_loss: 0.20781558895951846, Val_accuracy: 0.9393638968467712, Best_val_accuracy: 0.9421957731246948\n",
      "\n"
     ]
    },
    {
     "name": "stderr",
     "output_type": "stream",
     "text": [
      " 50%|█████████████████████                     | 50/100 [06:41<06:42,  8.05s/it]"
     ]
    },
    {
     "name": "stdout",
     "output_type": "stream",
     "text": [
      "EPOCH 50: Loss: 0.011345485740406865, Accuracy: 0.9944539070129395, Best_accuracy: 0.9972802400588989\n",
      "Val_loss: 0.21315825697833773, Val_accuracy: 0.9332255125045776, Best_val_accuracy: 0.9421957731246948\n",
      "\n"
     ]
    },
    {
     "name": "stderr",
     "output_type": "stream",
     "text": [
      " 51%|█████████████████████▍                    | 51/100 [06:49<06:34,  8.05s/it]"
     ]
    },
    {
     "name": "stdout",
     "output_type": "stream",
     "text": [
      "EPOCH 51: Loss: 0.008394853310945664, Accuracy: 0.9955737590789795, Best_accuracy: 0.9972802400588989\n",
      "Val_loss: 0.20287701163300284, Val_accuracy: 0.9418768882751465, Best_val_accuracy: 0.9421957731246948\n",
      "\n"
     ]
    },
    {
     "name": "stderr",
     "output_type": "stream",
     "text": [
      " 52%|█████████████████████▊                    | 52/100 [06:57<06:26,  8.05s/it]"
     ]
    },
    {
     "name": "stdout",
     "output_type": "stream",
     "text": [
      "EPOCH 52: Loss: 0.0032441343258665643, Accuracy: 0.9985334873199463, Best_accuracy: 0.9985334873199463\n",
      "Val_loss: 0.2360331809854047, Val_accuracy: 0.9415163397789001, Best_val_accuracy: 0.9421957731246948\n",
      "\n"
     ]
    },
    {
     "name": "stderr",
     "output_type": "stream",
     "text": [
      " 53%|██████████████████████▎                   | 53/100 [07:05<06:18,  8.05s/it]"
     ]
    },
    {
     "name": "stdout",
     "output_type": "stream",
     "text": [
      "EPOCH 53: Loss: 0.008261052708699892, Accuracy: 0.9958404302597046, Best_accuracy: 0.9985334873199463\n",
      "Val_loss: 0.213141801271695, Val_accuracy: 0.9389653205871582, Best_val_accuracy: 0.9421957731246948\n",
      "\n"
     ]
    },
    {
     "name": "stderr",
     "output_type": "stream",
     "text": [
      " 54%|██████████████████████▋                   | 54/100 [07:13<06:10,  8.05s/it]"
     ]
    },
    {
     "name": "stdout",
     "output_type": "stream",
     "text": [
      "EPOCH 54: Loss: 0.01086275800131047, Accuracy: 0.9945063591003418, Best_accuracy: 0.9985334873199463\n",
      "Val_loss: 0.18908463578588205, Val_accuracy: 0.9427159428596497, Best_val_accuracy: 0.9427159428596497\n",
      "\n"
     ]
    },
    {
     "name": "stderr",
     "output_type": "stream",
     "text": [
      " 55%|███████████████████████                   | 55/100 [07:21<06:02,  8.05s/it]"
     ]
    },
    {
     "name": "stdout",
     "output_type": "stream",
     "text": [
      "EPOCH 55: Loss: 0.006876560374876405, Accuracy: 0.9966936707496643, Best_accuracy: 0.9985334873199463\n",
      "Val_loss: 0.22494299946749605, Val_accuracy: 0.936691403388977, Best_val_accuracy: 0.9427159428596497\n",
      "\n"
     ]
    },
    {
     "name": "stderr",
     "output_type": "stream",
     "text": [
      " 56%|███████████████████████▌                  | 56/100 [07:29<05:54,  8.05s/it]"
     ]
    },
    {
     "name": "stdout",
     "output_type": "stream",
     "text": [
      "EPOCH 56: Loss: 0.00781750600221708, Accuracy: 0.9958928823471069, Best_accuracy: 0.9985334873199463\n",
      "Val_loss: 0.21207084944312551, Val_accuracy: 0.9411594271659851, Best_val_accuracy: 0.9427159428596497\n",
      "\n"
     ]
    },
    {
     "name": "stderr",
     "output_type": "stream",
     "text": [
      " 57%|███████████████████████▉                  | 57/100 [07:37<05:45,  8.04s/it]"
     ]
    },
    {
     "name": "stdout",
     "output_type": "stream",
     "text": [
      "EPOCH 57: Loss: 0.008588922479572835, Accuracy: 0.9956271052360535, Best_accuracy: 0.9985334873199463\n",
      "Val_loss: 0.20323819258535988, Val_accuracy: 0.9364522695541382, Best_val_accuracy: 0.9427159428596497\n",
      "\n"
     ]
    },
    {
     "name": "stderr",
     "output_type": "stream",
     "text": [
      " 58%|████████████████████████▎                 | 58/100 [07:45<05:37,  8.04s/it]"
     ]
    },
    {
     "name": "stdout",
     "output_type": "stream",
     "text": [
      "EPOCH 58: Loss: 0.005672984233086044, Accuracy: 0.9970643520355225, Best_accuracy: 0.9985334873199463\n",
      "Val_loss: 0.25809855704062173, Val_accuracy: 0.9322688579559326, Best_val_accuracy: 0.9427159428596497\n",
      "\n"
     ]
    },
    {
     "name": "stderr",
     "output_type": "stream",
     "text": [
      " 59%|████████████████████████▊                 | 59/100 [07:53<05:29,  8.04s/it]"
     ]
    },
    {
     "name": "stdout",
     "output_type": "stream",
     "text": [
      "EPOCH 59: Loss: 0.008041942982670944, Accuracy: 0.9959737062454224, Best_accuracy: 0.9985334873199463\n",
      "Val_loss: 0.21803131327471442, Val_accuracy: 0.9377277493476868, Best_val_accuracy: 0.9427159428596497\n",
      "\n"
     ]
    },
    {
     "name": "stderr",
     "output_type": "stream",
     "text": [
      " 60%|█████████████████████████▏                | 60/100 [08:01<05:21,  8.04s/it]"
     ]
    },
    {
     "name": "stdout",
     "output_type": "stream",
     "text": [
      "EPOCH 60: Loss: 0.0062423312094346955, Accuracy: 0.9969061613082886, Best_accuracy: 0.9985334873199463\n",
      "Val_loss: 0.18896860927871995, Val_accuracy: 0.941755473613739, Best_val_accuracy: 0.9427159428596497\n",
      "\n"
     ]
    },
    {
     "name": "stderr",
     "output_type": "stream",
     "text": [
      " 61%|█████████████████████████▌                | 61/100 [08:09<05:13,  8.04s/it]"
     ]
    },
    {
     "name": "stdout",
     "output_type": "stream",
     "text": [
      "EPOCH 61: Loss: 0.008720105936085272, Accuracy: 0.9957844614982605, Best_accuracy: 0.9985334873199463\n",
      "Val_loss: 0.2052534273627475, Val_accuracy: 0.9307922124862671, Best_val_accuracy: 0.9427159428596497\n",
      "\n"
     ]
    },
    {
     "name": "stderr",
     "output_type": "stream",
     "text": [
      " 62%|██████████████████████████                | 62/100 [08:17<05:05,  8.04s/it]"
     ]
    },
    {
     "name": "stdout",
     "output_type": "stream",
     "text": [
      "EPOCH 62: Loss: 0.007513348065043579, Accuracy: 0.9961329102516174, Best_accuracy: 0.9985334873199463\n",
      "Val_loss: 0.2091741810727823, Val_accuracy: 0.9434751272201538, Best_val_accuracy: 0.9434751272201538\n",
      "\n"
     ]
    },
    {
     "name": "stderr",
     "output_type": "stream",
     "text": [
      " 63%|██████████████████████████▍               | 63/100 [08:25<04:57,  8.04s/it]"
     ]
    },
    {
     "name": "stdout",
     "output_type": "stream",
     "text": [
      "EPOCH 63: Loss: 0.00870072693442845, Accuracy: 0.9957870841026306, Best_accuracy: 0.9985334873199463\n",
      "Val_loss: 0.19296812043318937, Val_accuracy: 0.9396410584449768, Best_val_accuracy: 0.9434751272201538\n",
      "\n"
     ]
    },
    {
     "name": "stderr",
     "output_type": "stream",
     "text": [
      " 64%|██████████████████████████▉               | 64/100 [08:33<04:49,  8.04s/it]"
     ]
    },
    {
     "name": "stdout",
     "output_type": "stream",
     "text": [
      "EPOCH 64: Loss: 0.004783324053566154, Accuracy: 0.9975727200508118, Best_accuracy: 0.9985334873199463\n",
      "Val_loss: 0.22827020523281102, Val_accuracy: 0.9409999847412109, Best_val_accuracy: 0.9434751272201538\n",
      "\n"
     ]
    },
    {
     "name": "stderr",
     "output_type": "stream",
     "text": [
      " 65%|███████████████████████████▎              | 65/100 [08:41<04:41,  8.04s/it]"
     ]
    },
    {
     "name": "stdout",
     "output_type": "stream",
     "text": [
      "EPOCH 65: Loss: 0.007284188503838431, Accuracy: 0.9960270524024963, Best_accuracy: 0.9985334873199463\n",
      "Val_loss: 0.19686242377888205, Val_accuracy: 0.9406014084815979, Best_val_accuracy: 0.9434751272201538\n",
      "\n"
     ]
    },
    {
     "name": "stderr",
     "output_type": "stream",
     "text": [
      " 66%|███████████████████████████▋              | 66/100 [08:49<04:33,  8.04s/it]"
     ]
    },
    {
     "name": "stdout",
     "output_type": "stream",
     "text": [
      "EPOCH 66: Loss: 0.006172469260059175, Accuracy: 0.99693363904953, Best_accuracy: 0.9985334873199463\n",
      "Val_loss: 0.20294732907858629, Val_accuracy: 0.9405596852302551, Best_val_accuracy: 0.9434751272201538\n",
      "\n"
     ]
    },
    {
     "name": "stderr",
     "output_type": "stream",
     "text": [
      " 67%|████████████████████████████▏             | 67/100 [08:57<04:25,  8.04s/it]"
     ]
    },
    {
     "name": "stdout",
     "output_type": "stream",
     "text": [
      "EPOCH 67: Loss: 0.005247919399319895, Accuracy: 0.9976260662078857, Best_accuracy: 0.9985334873199463\n",
      "Val_loss: 0.22128470829387858, Val_accuracy: 0.9406810998916626, Best_val_accuracy: 0.9434751272201538\n",
      "\n"
     ]
    },
    {
     "name": "stderr",
     "output_type": "stream",
     "text": [
      " 68%|████████████████████████████▌             | 68/100 [09:05<04:17,  8.04s/it]"
     ]
    },
    {
     "name": "stdout",
     "output_type": "stream",
     "text": [
      "EPOCH 68: Loss: 0.006934923504891141, Accuracy: 0.996320366859436, Best_accuracy: 0.9985334873199463\n",
      "Val_loss: 0.2060083069790022, Val_accuracy: 0.941956639289856, Best_val_accuracy: 0.9434751272201538\n",
      "\n"
     ]
    },
    {
     "name": "stderr",
     "output_type": "stream",
     "text": [
      " 69%|████████████████████████████▉             | 69/100 [09:13<04:09,  8.04s/it]"
     ]
    },
    {
     "name": "stdout",
     "output_type": "stream",
     "text": [
      "EPOCH 69: Loss: 0.007835930231367578, Accuracy: 0.9964269995689392, Best_accuracy: 0.9985334873199463\n",
      "Val_loss: 0.19927145945151792, Val_accuracy: 0.9406014084815979, Best_val_accuracy: 0.9434751272201538\n",
      "\n"
     ]
    },
    {
     "name": "stderr",
     "output_type": "stream",
     "text": [
      " 70%|█████████████████████████████▍            | 70/100 [09:21<04:01,  8.04s/it]"
     ]
    },
    {
     "name": "stdout",
     "output_type": "stream",
     "text": [
      "EPOCH 70: Loss: 0.007824699526085305, Accuracy: 0.9960803985595703, Best_accuracy: 0.9985334873199463\n",
      "Val_loss: 0.20583349956207597, Val_accuracy: 0.9427538514137268, Best_val_accuracy: 0.9434751272201538\n",
      "\n"
     ]
    },
    {
     "name": "stderr",
     "output_type": "stream",
     "text": [
      " 71%|█████████████████████████████▊            | 71/100 [09:29<03:53,  8.04s/it]"
     ]
    },
    {
     "name": "stdout",
     "output_type": "stream",
     "text": [
      "EPOCH 71: Loss: 0.005133425912639566, Accuracy: 0.9976801872253418, Best_accuracy: 0.9985334873199463\n",
      "Val_loss: 0.20866434294171446, Val_accuracy: 0.941956639289856, Best_val_accuracy: 0.9434751272201538\n",
      "\n"
     ]
    },
    {
     "name": "stderr",
     "output_type": "stream",
     "text": [
      " 72%|██████████████████████████████▏           | 72/100 [09:38<03:45,  8.04s/it]"
     ]
    },
    {
     "name": "stdout",
     "output_type": "stream",
     "text": [
      "EPOCH 72: Loss: 0.004119164966136256, Accuracy: 0.9980268478393555, Best_accuracy: 0.9985334873199463\n",
      "Val_loss: 0.22242935000672692, Val_accuracy: 0.9406774044036865, Best_val_accuracy: 0.9434751272201538\n",
      "\n"
     ]
    },
    {
     "name": "stderr",
     "output_type": "stream",
     "text": [
      " 73%|██████████████████████████████▋           | 73/100 [09:46<03:37,  8.04s/it]"
     ]
    },
    {
     "name": "stdout",
     "output_type": "stream",
     "text": [
      "EPOCH 73: Loss: 0.0073659832531028395, Accuracy: 0.9960803985595703, Best_accuracy: 0.9985334873199463\n",
      "Val_loss: 0.20678740258719805, Val_accuracy: 0.942476749420166, Best_val_accuracy: 0.9434751272201538\n",
      "\n"
     ]
    },
    {
     "name": "stderr",
     "output_type": "stream",
     "text": [
      " 74%|███████████████████████████████           | 74/100 [09:54<03:29,  8.04s/it]"
     ]
    },
    {
     "name": "stdout",
     "output_type": "stream",
     "text": [
      "EPOCH 74: Loss: 0.00721904180926043, Accuracy: 0.9962137341499329, Best_accuracy: 0.9985334873199463\n",
      "Val_loss: 0.1926701352149803, Val_accuracy: 0.9393258690834045, Best_val_accuracy: 0.9434751272201538\n",
      "\n"
     ]
    },
    {
     "name": "stderr",
     "output_type": "stream",
     "text": [
      " 75%|███████████████████████████████▌          | 75/100 [10:02<03:21,  8.04s/it]"
     ]
    },
    {
     "name": "stdout",
     "output_type": "stream",
     "text": [
      "EPOCH 75: Loss: 0.0072312867475194985, Accuracy: 0.9962395429611206, Best_accuracy: 0.9985334873199463\n",
      "Val_loss: 0.21770495936458098, Val_accuracy: 0.9396904110908508, Best_val_accuracy: 0.9434751272201538\n",
      "\n"
     ]
    },
    {
     "name": "stderr",
     "output_type": "stream",
     "text": [
      " 76%|███████████████████████████████▉          | 76/100 [10:10<03:12,  8.04s/it]"
     ]
    },
    {
     "name": "stdout",
     "output_type": "stream",
     "text": [
      "EPOCH 76: Loss: 0.007771924688319614, Accuracy: 0.9961329102516174, Best_accuracy: 0.9985334873199463\n",
      "Val_loss: 0.21722409792226668, Val_accuracy: 0.9400433897972107, Best_val_accuracy: 0.9434751272201538\n",
      "\n"
     ]
    },
    {
     "name": "stderr",
     "output_type": "stream",
     "text": [
      " 77%|████████████████████████████████▎         | 77/100 [10:18<03:05,  8.04s/it]"
     ]
    },
    {
     "name": "stdout",
     "output_type": "stream",
     "text": [
      "EPOCH 77: Loss: 0.003418676322260686, Accuracy: 0.9984801411628723, Best_accuracy: 0.9985334873199463\n",
      "Val_loss: 0.21651144383852436, Val_accuracy: 0.944268524646759, Best_val_accuracy: 0.944268524646759\n",
      "\n"
     ]
    },
    {
     "name": "stderr",
     "output_type": "stream",
     "text": [
      " 78%|████████████████████████████████▊         | 78/100 [10:26<02:56,  8.04s/it]"
     ]
    },
    {
     "name": "stdout",
     "output_type": "stream",
     "text": [
      "EPOCH 78: Loss: 0.004194962014677286, Accuracy: 0.9982126355171204, Best_accuracy: 0.9985334873199463\n",
      "Val_loss: 0.21674661443375723, Val_accuracy: 0.9426323771476746, Best_val_accuracy: 0.944268524646759\n",
      "\n"
     ]
    },
    {
     "name": "stderr",
     "output_type": "stream",
     "text": [
      " 79%|█████████████████████████████████▏        | 79/100 [10:34<02:48,  8.04s/it]"
     ]
    },
    {
     "name": "stdout",
     "output_type": "stream",
     "text": [
      "EPOCH 79: Loss: 0.006256357423204915, Accuracy: 0.9971461296081543, Best_accuracy: 0.9985334873199463\n",
      "Val_loss: 0.20744903542682822, Val_accuracy: 0.9405596852302551, Best_val_accuracy: 0.944268524646759\n",
      "\n"
     ]
    },
    {
     "name": "stderr",
     "output_type": "stream",
     "text": [
      " 80%|█████████████████████████████████▌        | 80/100 [10:42<02:40,  8.04s/it]"
     ]
    },
    {
     "name": "stdout",
     "output_type": "stream",
     "text": [
      "EPOCH 80: Loss: 0.006512135060280232, Accuracy: 0.9968794584274292, Best_accuracy: 0.9985334873199463\n",
      "Val_loss: 0.18984225101753913, Val_accuracy: 0.9425071477890015, Best_val_accuracy: 0.944268524646759\n",
      "\n"
     ]
    },
    {
     "name": "stderr",
     "output_type": "stream",
     "text": [
      " 81%|██████████████████████████████████        | 81/100 [10:50<02:32,  8.04s/it]"
     ]
    },
    {
     "name": "stdout",
     "output_type": "stream",
     "text": [
      "EPOCH 81: Loss: 0.005224174703315926, Accuracy: 0.9976269006729126, Best_accuracy: 0.9985334873199463\n",
      "Val_loss: 0.21985511112352424, Val_accuracy: 0.9373367428779602, Best_val_accuracy: 0.944268524646759\n",
      "\n"
     ]
    },
    {
     "name": "stderr",
     "output_type": "stream",
     "text": [
      " 82%|██████████████████████████████████▍       | 82/100 [10:58<02:24,  8.04s/it]"
     ]
    },
    {
     "name": "stdout",
     "output_type": "stream",
     "text": [
      "EPOCH 82: Loss: 0.005197390807491507, Accuracy: 0.9975735545158386, Best_accuracy: 0.9985334873199463\n",
      "Val_loss: 0.21742766985374895, Val_accuracy: 0.9401649236679077, Best_val_accuracy: 0.944268524646759\n",
      "\n"
     ]
    },
    {
     "name": "stderr",
     "output_type": "stream",
     "text": [
      " 83%|██████████████████████████████████▊       | 83/100 [11:06<02:16,  8.04s/it]"
     ]
    },
    {
     "name": "stdout",
     "output_type": "stream",
     "text": [
      "EPOCH 83: Loss: 0.00597007576094659, Accuracy: 0.9968536496162415, Best_accuracy: 0.9985334873199463\n",
      "Val_loss: 0.20467000029773064, Val_accuracy: 0.9434713125228882, Best_val_accuracy: 0.944268524646759\n",
      "\n"
     ]
    },
    {
     "name": "stderr",
     "output_type": "stream",
     "text": [
      " 84%|███████████████████████████████████▎      | 84/100 [11:14<02:08,  8.04s/it]"
     ]
    },
    {
     "name": "stdout",
     "output_type": "stream",
     "text": [
      "EPOCH 84: Loss: 0.005753156130314375, Accuracy: 0.9972802400588989, Best_accuracy: 0.9985334873199463\n",
      "Val_loss: 0.22235093558076138, Val_accuracy: 0.9409999847412109, Best_val_accuracy: 0.944268524646759\n",
      "\n"
     ]
    },
    {
     "name": "stderr",
     "output_type": "stream",
     "text": [
      " 85%|███████████████████████████████████▋      | 85/100 [11:22<02:00,  8.04s/it]"
     ]
    },
    {
     "name": "stdout",
     "output_type": "stream",
     "text": [
      "EPOCH 85: Loss: 0.007809472722880981, Accuracy: 0.9960004091262817, Best_accuracy: 0.9985334873199463\n",
      "Val_loss: 0.19486325860285086, Val_accuracy: 0.9441508650779724, Best_val_accuracy: 0.944268524646759\n",
      "\n"
     ]
    },
    {
     "name": "stderr",
     "output_type": "stream",
     "text": [
      " 86%|████████████████████████████████████      | 86/100 [11:30<01:52,  8.04s/it]"
     ]
    },
    {
     "name": "stdout",
     "output_type": "stream",
     "text": [
      "EPOCH 86: Loss: 0.0029840819613471898, Accuracy: 0.9985867738723755, Best_accuracy: 0.9985867738723755\n",
      "Val_loss: 0.22004014964921675, Val_accuracy: 0.9435928463935852, Best_val_accuracy: 0.944268524646759\n",
      "\n"
     ]
    },
    {
     "name": "stderr",
     "output_type": "stream",
     "text": [
      " 87%|████████████████████████████████████▌     | 87/100 [11:38<01:44,  8.04s/it]"
     ]
    },
    {
     "name": "stdout",
     "output_type": "stream",
     "text": [
      "EPOCH 87: Loss: 0.006409472313597416, Accuracy: 0.9970136284828186, Best_accuracy: 0.9985867738723755\n",
      "Val_loss: 0.2162640102006527, Val_accuracy: 0.9379744529724121, Best_val_accuracy: 0.944268524646759\n",
      "\n"
     ]
    },
    {
     "name": "stderr",
     "output_type": "stream",
     "text": [
      " 88%|████████████████████████████████████▉     | 88/100 [11:46<01:36,  8.04s/it]"
     ]
    },
    {
     "name": "stdout",
     "output_type": "stream",
     "text": [
      "EPOCH 88: Loss: 0.004718515913348798, Accuracy: 0.9977068901062012, Best_accuracy: 0.9985867738723755\n",
      "Val_loss: 0.23587222760846113, Val_accuracy: 0.9411177039146423, Best_val_accuracy: 0.944268524646759\n",
      "\n"
     ]
    },
    {
     "name": "stderr",
     "output_type": "stream",
     "text": [
      " 89%|█████████████████████████████████████▍    | 89/100 [11:54<01:28,  8.04s/it]"
     ]
    },
    {
     "name": "stdout",
     "output_type": "stream",
     "text": [
      "EPOCH 89: Loss: 0.0045772988891696455, Accuracy: 0.9978402256965637, Best_accuracy: 0.9985867738723755\n",
      "Val_loss: 0.23191710364868998, Val_accuracy: 0.9407608509063721, Best_val_accuracy: 0.944268524646759\n",
      "\n"
     ]
    },
    {
     "name": "stderr",
     "output_type": "stream",
     "text": [
      " 90%|█████████████████████████████████████▊    | 90/100 [12:02<01:20,  8.04s/it]"
     ]
    },
    {
     "name": "stdout",
     "output_type": "stream",
     "text": [
      "EPOCH 90: Loss: 0.006025801074672992, Accuracy: 0.996986985206604, Best_accuracy: 0.9985867738723755\n",
      "Val_loss: 0.23313330630435472, Val_accuracy: 0.9373747110366821, Best_val_accuracy: 0.944268524646759\n",
      "\n"
     ]
    },
    {
     "name": "stderr",
     "output_type": "stream",
     "text": [
      " 91%|██████████████████████████████████████▏   | 91/100 [12:10<01:12,  8.04s/it]"
     ]
    },
    {
     "name": "stdout",
     "output_type": "stream",
     "text": [
      "EPOCH 91: Loss: 0.006237368563094741, Accuracy: 0.9967994689941406, Best_accuracy: 0.9985867738723755\n",
      "Val_loss: 0.22264276584488268, Val_accuracy: 0.9428335428237915, Best_val_accuracy: 0.944268524646759\n",
      "\n"
     ]
    },
    {
     "name": "stderr",
     "output_type": "stream",
     "text": [
      " 92%|██████████████████████████████████████▋   | 92/100 [12:18<01:04,  8.04s/it]"
     ]
    },
    {
     "name": "stdout",
     "output_type": "stream",
     "text": [
      "EPOCH 92: Loss: 0.001783342136867808, Accuracy: 0.9991734027862549, Best_accuracy: 0.9991734027862549\n",
      "Val_loss: 0.23135243128675576, Val_accuracy: 0.9445873498916626, Best_val_accuracy: 0.9445873498916626\n",
      "\n"
     ]
    },
    {
     "name": "stderr",
     "output_type": "stream",
     "text": [
      " 93%|███████████████████████████████████████   | 93/100 [12:26<00:56,  8.04s/it]"
     ]
    },
    {
     "name": "stdout",
     "output_type": "stream",
     "text": [
      "EPOCH 93: Loss: 0.0063632031282035584, Accuracy: 0.9965861439704895, Best_accuracy: 0.9991734027862549\n",
      "Val_loss: 0.2480391955174605, Val_accuracy: 0.9364142417907715, Best_val_accuracy: 0.9445873498916626\n",
      "\n"
     ]
    },
    {
     "name": "stderr",
     "output_type": "stream",
     "text": [
      " 94%|███████████████████████████████████████▍  | 94/100 [12:34<00:48,  8.04s/it]"
     ]
    },
    {
     "name": "stdout",
     "output_type": "stream",
     "text": [
      "EPOCH 94: Loss: 0.009003232440521756, Accuracy: 0.994986355304718, Best_accuracy: 0.9991734027862549\n",
      "Val_loss: 0.2048951317174033, Val_accuracy: 0.9406393766403198, Best_val_accuracy: 0.9445873498916626\n",
      "\n"
     ]
    },
    {
     "name": "stderr",
     "output_type": "stream",
     "text": [
      " 95%|███████████████████████████████████████▉  | 95/100 [12:42<00:40,  8.04s/it]"
     ]
    },
    {
     "name": "stdout",
     "output_type": "stream",
     "text": [
      "EPOCH 95: Loss: 0.003204367175407717, Accuracy: 0.998612642288208, Best_accuracy: 0.9991734027862549\n",
      "Val_loss: 0.2195332486205918, Val_accuracy: 0.9404040575027466, Best_val_accuracy: 0.9445873498916626\n",
      "\n"
     ]
    },
    {
     "name": "stderr",
     "output_type": "stream",
     "text": [
      " 96%|████████████████████████████████████████▎ | 96/100 [12:51<00:32,  8.04s/it]"
     ]
    },
    {
     "name": "stdout",
     "output_type": "stream",
     "text": [
      "EPOCH 96: Loss: 0.002926448257006768, Accuracy: 0.9985059499740601, Best_accuracy: 0.9991734027862549\n",
      "Val_loss: 0.24111709903140818, Val_accuracy: 0.9423932433128357, Best_val_accuracy: 0.9445873498916626\n",
      "\n"
     ]
    },
    {
     "name": "stderr",
     "output_type": "stream",
     "text": [
      " 97%|████████████████████████████████████████▋ | 97/100 [12:59<00:24,  8.05s/it]"
     ]
    },
    {
     "name": "stdout",
     "output_type": "stream",
     "text": [
      "EPOCH 97: Loss: 0.006546073683153793, Accuracy: 0.9966118931770325, Best_accuracy: 0.9991734027862549\n",
      "Val_loss: 0.20522134413307155, Val_accuracy: 0.9431562423706055, Best_val_accuracy: 0.9445873498916626\n",
      "\n"
     ]
    },
    {
     "name": "stderr",
     "output_type": "stream",
     "text": [
      " 98%|█████████████████████████████████████████▏| 98/100 [13:07<00:16,  8.05s/it]"
     ]
    },
    {
     "name": "stdout",
     "output_type": "stream",
     "text": [
      "EPOCH 98: Loss: 0.005638875326946068, Accuracy: 0.9969602823257446, Best_accuracy: 0.9991734027862549\n",
      "Val_loss: 0.21134831885779287, Val_accuracy: 0.9422376155853271, Best_val_accuracy: 0.9445873498916626\n",
      "\n"
     ]
    },
    {
     "name": "stderr",
     "output_type": "stream",
     "text": [
      " 99%|█████████████████████████████████████████▌| 99/100 [13:15<00:08,  8.05s/it]"
     ]
    },
    {
     "name": "stdout",
     "output_type": "stream",
     "text": [
      "EPOCH 99: Loss: 0.0036627248767087746, Accuracy: 0.9983459711074829, Best_accuracy: 0.9991734027862549\n",
      "Val_loss: 0.22367942926359863, Val_accuracy: 0.9372114539146423, Best_val_accuracy: 0.9445873498916626\n",
      "\n"
     ]
    },
    {
     "name": "stderr",
     "output_type": "stream",
     "text": [
      "100%|█████████████████████████████████████████| 100/100 [13:23<00:00,  8.03s/it]"
     ]
    },
    {
     "name": "stdout",
     "output_type": "stream",
     "text": [
      "EPOCH 100: Loss: 0.004290130868441745, Accuracy: 0.9980002045631409, Best_accuracy: 0.9991734027862549\n",
      "Val_loss: 0.2175821021705474, Val_accuracy: 0.9426741003990173, Best_val_accuracy: 0.9445873498916626\n",
      "\n"
     ]
    },
    {
     "name": "stderr",
     "output_type": "stream",
     "text": [
      "\n"
     ]
    }
   ],
   "source": [
    "# файл для записи логов\n",
    "with open('./logs.csv', 'w') as file:\n",
    "    file.write('epoch,loss,accuracy,best_accuracy,val_loss,val_accuracy,best_val_accuracy\\n')\n",
    "\n",
    "\n",
    "# начало train loop\n",
    "epochs = 100\n",
    "\n",
    "best_accuracy = 0.0 # содержит максимальные значения точности\n",
    "best_eval_accuracy = 0.0\n",
    "\n",
    "for epoch in tqdm(range(epochs)): # начало цикла обучения\n",
    "    model.train() # для изменения весов модель должна быть в train mode\n",
    "    \n",
    "    running_loss = 0.0  # running переменные позволяют посчитать среднее значение не по батчу, а по эпохе\n",
    "    running_acc = 0.0\n",
    "    \n",
    "    running_eval_loss = 0.0 \n",
    "    running_eval_acc = 0.0\n",
    "\n",
    "    for x,y in iter(train_dataloader): # запуск модели на тренировочном наборе данных. x-данные у-лейблы\n",
    "        opt.zero_grad() # обнуляет градиенты \n",
    "        \n",
    "        \n",
    "        pred = model(x) # запускаем модель на данных и получаем предсказания\n",
    "        loss = criterion(pred,y) # считает лосс для батча\n",
    "        loss.backward() # прокидывание лосса, считает градиент \n",
    "        opt.step() # запуск оптимизатора, изменяет веса модели\n",
    "        \n",
    "        running_loss += loss # записываем running чтобы рассчитать средний лосс по всей эпохе\n",
    "        \n",
    "        accuracy = torch.div(torch.sum(torch.argmax(pred, dim=1) == torch.argmax(y, dim=1)),\n",
    "                             y.size(dim=0)) # рассчитать точность для батча\n",
    "        \n",
    "        running_acc += accuracy # собираем точность чтобы рассчитать среднюю по эпохе\n",
    "            \n",
    "    running_loss = running_loss/len(train_dataloader) # рассчитываем средние значения для эпохи\n",
    "    running_acc = running_acc/len(train_dataloader)\n",
    "\n",
    "    if running_acc > best_accuracy: # выбираем лучшую точность\n",
    "            best_accuracy = running_acc\n",
    "    \n",
    "    \n",
    "    for x,y in iter(test_dataloader): # запуск модели на тестовом наборе данных\n",
    "        model.eval() # запускает inference mode модели, он не дает изменить веса\n",
    "        pred = model(x) \n",
    "        loss = criterion(pred,y) # лосс для тестового батча\n",
    "        \n",
    "        running_eval_loss += loss\n",
    "        \n",
    "        accuracy = torch.div(torch.sum(torch.argmax(pred, dim=1) == torch.argmax(y, dim=1)),\n",
    "                             y.size(dim=0)) # точность для тестового батча\n",
    "        running_eval_acc += accuracy\n",
    "    \n",
    "    running_eval_loss = running_eval_loss/len(test_dataloader)\n",
    "    running_eval_acc = running_eval_acc/len(test_dataloader)\n",
    "\n",
    "    if running_eval_acc>= best_eval_accuracy:\n",
    "            best_eval_accuracy = running_eval_acc\n",
    "            torch.save(model, './models/best.pt') #сохраняем лучшую модель\n",
    "\n",
    "    \n",
    "    # вывод данных в консоль\n",
    "    print(f'EPOCH {epoch+1}: Loss: {running_loss}, Accuracy: {running_acc}, Best_accuracy: {best_accuracy}')\n",
    "    print(f'Val_loss: {running_eval_loss}, Val_accuracy: {running_eval_acc}, Best_val_accuracy: {best_eval_accuracy}')\n",
    "    print()\n",
    "        \n",
    "    # логирование (вывод данных в файл)\n",
    "    with open('./logs.csv', 'a') as file:\n",
    "        file.write(f'{epoch+1},{running_loss},{running_acc},{best_accuracy},{running_eval_loss},{running_eval_acc},{best_eval_accuracy}\\n')\n",
    "          \n",
    "            \n",
    "torch.save(model, 'last.pt') # сохраняем модель с последней эпохи обучения"
   ]
  },
  {
   "cell_type": "code",
   "execution_count": 19,
   "id": "4981bf2d-0596-405d-9893-7419c7db7f51",
   "metadata": {},
   "outputs": [
    {
     "data": {
      "text/html": [
       "<div>\n",
       "<style scoped>\n",
       "    .dataframe tbody tr th:only-of-type {\n",
       "        vertical-align: middle;\n",
       "    }\n",
       "\n",
       "    .dataframe tbody tr th {\n",
       "        vertical-align: top;\n",
       "    }\n",
       "\n",
       "    .dataframe thead th {\n",
       "        text-align: right;\n",
       "    }\n",
       "</style>\n",
       "<table border=\"1\" class=\"dataframe\">\n",
       "  <thead>\n",
       "    <tr style=\"text-align: right;\">\n",
       "      <th></th>\n",
       "      <th>epoch</th>\n",
       "      <th>loss</th>\n",
       "      <th>accuracy</th>\n",
       "      <th>best_accuracy</th>\n",
       "      <th>val_loss</th>\n",
       "      <th>val_accuracy</th>\n",
       "      <th>best_val_accuracy</th>\n",
       "    </tr>\n",
       "  </thead>\n",
       "  <tbody>\n",
       "    <tr>\n",
       "      <th>0</th>\n",
       "      <td>1</td>\n",
       "      <td>0.516235</td>\n",
       "      <td>0.591762</td>\n",
       "      <td>0.591762</td>\n",
       "      <td>0.440943</td>\n",
       "      <td>0.703596</td>\n",
       "      <td>0.703596</td>\n",
       "    </tr>\n",
       "    <tr>\n",
       "      <th>1</th>\n",
       "      <td>2</td>\n",
       "      <td>0.315022</td>\n",
       "      <td>0.785306</td>\n",
       "      <td>0.785306</td>\n",
       "      <td>0.228081</td>\n",
       "      <td>0.853760</td>\n",
       "      <td>0.853760</td>\n",
       "    </tr>\n",
       "    <tr>\n",
       "      <th>2</th>\n",
       "      <td>3</td>\n",
       "      <td>0.219331</td>\n",
       "      <td>0.854434</td>\n",
       "      <td>0.854434</td>\n",
       "      <td>0.211029</td>\n",
       "      <td>0.860620</td>\n",
       "      <td>0.860620</td>\n",
       "    </tr>\n",
       "    <tr>\n",
       "      <th>3</th>\n",
       "      <td>4</td>\n",
       "      <td>0.175108</td>\n",
       "      <td>0.886988</td>\n",
       "      <td>0.886988</td>\n",
       "      <td>0.159744</td>\n",
       "      <td>0.898582</td>\n",
       "      <td>0.898582</td>\n",
       "    </tr>\n",
       "    <tr>\n",
       "      <th>4</th>\n",
       "      <td>5</td>\n",
       "      <td>0.149536</td>\n",
       "      <td>0.905201</td>\n",
       "      <td>0.905201</td>\n",
       "      <td>0.147604</td>\n",
       "      <td>0.907476</td>\n",
       "      <td>0.907476</td>\n",
       "    </tr>\n",
       "    <tr>\n",
       "      <th>...</th>\n",
       "      <td>...</td>\n",
       "      <td>...</td>\n",
       "      <td>...</td>\n",
       "      <td>...</td>\n",
       "      <td>...</td>\n",
       "      <td>...</td>\n",
       "      <td>...</td>\n",
       "    </tr>\n",
       "    <tr>\n",
       "      <th>95</th>\n",
       "      <td>96</td>\n",
       "      <td>0.002926</td>\n",
       "      <td>0.998506</td>\n",
       "      <td>0.999173</td>\n",
       "      <td>0.241117</td>\n",
       "      <td>0.942393</td>\n",
       "      <td>0.944587</td>\n",
       "    </tr>\n",
       "    <tr>\n",
       "      <th>96</th>\n",
       "      <td>97</td>\n",
       "      <td>0.006546</td>\n",
       "      <td>0.996612</td>\n",
       "      <td>0.999173</td>\n",
       "      <td>0.205221</td>\n",
       "      <td>0.943156</td>\n",
       "      <td>0.944587</td>\n",
       "    </tr>\n",
       "    <tr>\n",
       "      <th>97</th>\n",
       "      <td>98</td>\n",
       "      <td>0.005639</td>\n",
       "      <td>0.996960</td>\n",
       "      <td>0.999173</td>\n",
       "      <td>0.211348</td>\n",
       "      <td>0.942238</td>\n",
       "      <td>0.944587</td>\n",
       "    </tr>\n",
       "    <tr>\n",
       "      <th>98</th>\n",
       "      <td>99</td>\n",
       "      <td>0.003663</td>\n",
       "      <td>0.998346</td>\n",
       "      <td>0.999173</td>\n",
       "      <td>0.223679</td>\n",
       "      <td>0.937211</td>\n",
       "      <td>0.944587</td>\n",
       "    </tr>\n",
       "    <tr>\n",
       "      <th>99</th>\n",
       "      <td>100</td>\n",
       "      <td>0.004290</td>\n",
       "      <td>0.998000</td>\n",
       "      <td>0.999173</td>\n",
       "      <td>0.217582</td>\n",
       "      <td>0.942674</td>\n",
       "      <td>0.944587</td>\n",
       "    </tr>\n",
       "  </tbody>\n",
       "</table>\n",
       "<p>100 rows × 7 columns</p>\n",
       "</div>"
      ],
      "text/plain": [
       "    epoch      loss  accuracy  best_accuracy  val_loss  val_accuracy  \\\n",
       "0       1  0.516235  0.591762       0.591762  0.440943      0.703596   \n",
       "1       2  0.315022  0.785306       0.785306  0.228081      0.853760   \n",
       "2       3  0.219331  0.854434       0.854434  0.211029      0.860620   \n",
       "3       4  0.175108  0.886988       0.886988  0.159744      0.898582   \n",
       "4       5  0.149536  0.905201       0.905201  0.147604      0.907476   \n",
       "..    ...       ...       ...            ...       ...           ...   \n",
       "95     96  0.002926  0.998506       0.999173  0.241117      0.942393   \n",
       "96     97  0.006546  0.996612       0.999173  0.205221      0.943156   \n",
       "97     98  0.005639  0.996960       0.999173  0.211348      0.942238   \n",
       "98     99  0.003663  0.998346       0.999173  0.223679      0.937211   \n",
       "99    100  0.004290  0.998000       0.999173  0.217582      0.942674   \n",
       "\n",
       "    best_val_accuracy  \n",
       "0            0.703596  \n",
       "1            0.853760  \n",
       "2            0.860620  \n",
       "3            0.898582  \n",
       "4            0.907476  \n",
       "..                ...  \n",
       "95           0.944587  \n",
       "96           0.944587  \n",
       "97           0.944587  \n",
       "98           0.944587  \n",
       "99           0.944587  \n",
       "\n",
       "[100 rows x 7 columns]"
      ]
     },
     "execution_count": 19,
     "metadata": {},
     "output_type": "execute_result"
    }
   ],
   "source": [
    "# все логи сохранились\n",
    "\n",
    "import pandas as pd\n",
    "\n",
    "df = pd.read_csv('./logs.csv')\n",
    "df"
   ]
  },
  {
   "cell_type": "code",
   "execution_count": 20,
   "id": "ece332cf-aec5-4b77-ab88-97b5b35eb6b5",
   "metadata": {},
   "outputs": [
    {
     "data": {
      "text/plain": [
       "<matplotlib.legend.Legend at 0x75eb9d7ac4d0>"
      ]
     },
     "execution_count": 20,
     "metadata": {},
     "output_type": "execute_result"
    },
    {
     "data": {
      "image/png": "[encoded data removed]",
      "text/plain": [
       "<Figure size 640x480 with 1 Axes>"
      ]
     },
     "metadata": {},
     "output_type": "display_data"
    }
   ],
   "source": [
    "import matplotlib.pyplot as plt\n",
    "\n",
    "# рисуем графики\n",
    "plt.plot(df.epoch, df.loss, label='Training Loss')\n",
    "plt.plot(df.epoch, df.val_loss, label='Validation Loss')\n",
    " \n",
    "# добавляем подписи\n",
    "plt.title('Training and Validation Loss')\n",
    "plt.xlabel('Epochs')\n",
    "plt.ylabel('Loss')\n",
    "plt.legend()"
   ]
  },
  {
   "cell_type": "code",
   "execution_count": 21,
   "id": "3cb35e93-fa6b-4ac9-9182-73a320b40e54",
   "metadata": {},
   "outputs": [
    {
     "data": {
      "text/plain": [
       "<matplotlib.legend.Legend at 0x75eb9d7badd0>"
      ]
     },
     "execution_count": 21,
     "metadata": {},
     "output_type": "execute_result"
    },
    {
     "data": {
      "image/png": "[encoded data removed]",
      "text/plain": [
       "<Figure size 640x480 with 1 Axes>"
      ]
     },
     "metadata": {},
     "output_type": "display_data"
    }
   ],
   "source": [
    "# рисуем графики\n",
    "plt.plot(df.epoch, df.accuracy, label='Training accuracy')\n",
    "plt.plot(df.epoch, df.val_accuracy, label='Validation accuracy')\n",
    " \n",
    "# добавляем подписи\n",
    "plt.title('Training and Validation Accuracy')\n",
    "plt.xlabel('Epochs')\n",
    "plt.ylabel('Accuracy')\n",
    "plt.legend()"
   ]
  },
  {
   "cell_type": "code",
   "execution_count": 22,
   "id": "5e4a109e-4bd5-4d37-a9db-31ed8dee0463",
   "metadata": {},
   "outputs": [],
   "source": [
    "model = torch.load('./models/best.pt') # загружаем модель с лучшими весами\n",
    "model.to('cpu')\n",
    "\n",
    "preds = model(X_test) # предсказания для всего тестового набора данных\n",
    "\n",
    "# чтобы предсказания модели перевести в номера классов, надо вызвать argmax\n",
    "# sklearn работает с numpy, для этого надо перевести тензоры с gpu на cpu (.cpu) и убрать градиенты (.detach)\n",
    "preds = torch.argmax(preds, dim=1).cpu().detach().numpy() \n",
    "labels = torch.argmax(y_test, dim=1).cpu().detach().numpy() "
   ]
  },
  {
   "cell_type": "code",
   "execution_count": 23,
   "id": "84aeecae-9533-4929-b20d-bac3ca7e6958",
   "metadata": {},
   "outputs": [
    {
     "name": "stdout",
     "output_type": "stream",
     "text": [
      "              precision    recall  f1-score   support\n",
      "\n",
      "           0       0.96      0.95      0.95      5773\n",
      "           1       0.95      0.95      0.95      3565\n",
      "           2       0.91      0.94      0.92      3162\n",
      "\n",
      "    accuracy                           0.94     12500\n",
      "   macro avg       0.94      0.94      0.94     12500\n",
      "weighted avg       0.94      0.94      0.94     12500\n",
      "\n"
     ]
    }
   ],
   "source": [
    "from sklearn.metrics import classification_report\n",
    "\n",
    "report = classification_report(y_true=labels, y_pred=preds)\n",
    "print(report)\n",
    "\n",
    "# первая колонка (0-9) - классы, которые мы предсказываем\n",
    "# support - количество элементов этого класса в тестовом датасете\n",
    "# macro avg - среднее значение по всем классам\n",
    "# weighted avg - взвешенное, оценивает в соответствии с количеством эелементов классов в наборе данныхfrom sklearn.metrics import confusion_matrix\n"
   ]
  },
  {
   "cell_type": "code",
   "execution_count": 24,
   "id": "8d0427b0-71f7-47ab-b0ed-89e5961a5a08",
   "metadata": {},
   "outputs": [
    {
     "data": {
      "text/plain": [
       "<sklearn.metrics._plot.confusion_matrix.ConfusionMatrixDisplay at 0x75eb70803f50>"
      ]
     },
     "execution_count": 24,
     "metadata": {},
     "output_type": "execute_result"
    },
    {
     "data": {
      "image/png": "[encoded data removed]",
      "text/plain": [
       "<Figure size 640x480 with 2 Axes>"
      ]
     },
     "metadata": {},
     "output_type": "display_data"
    }
   ],
   "source": [
    "from sklearn.metrics import confusion_matrix\n",
    "from sklearn.metrics import ConfusionMatrixDisplay\n",
    "\n",
    "# рассчитывает confusion matrix\n",
    "cm = confusion_matrix(y_true=preds,y_pred=labels)\n",
    "\n",
    "\n",
    "# рисуем её\n",
    "plt.Figure()\n",
    "disp = ConfusionMatrixDisplay(cm)\n",
    "disp.plot()"
   ]
  },
  {
   "cell_type": "code",
   "execution_count": null,
   "id": "9c7d8d43-a189-42bb-b2f6-fbd9736f3606",
   "metadata": {},
   "outputs": [],
   "source": []
  }
 ],
 "metadata": {
  "kernelspec": {
   "display_name": "Python 3 (ipykernel)",
   "language": "python",
   "name": "python3"
  },
  "language_info": {
   "codemirror_mode": {
    "name": "ipython",
    "version": 3
   },
   "file_extension": ".py",
   "mimetype": "text/x-python",
   "name": "python",
   "nbconvert_exporter": "python",
   "pygments_lexer": "ipython3",
   "version": "3.11.8"
  }
 },
 "nbformat": 4,
 "nbformat_minor": 5
}
