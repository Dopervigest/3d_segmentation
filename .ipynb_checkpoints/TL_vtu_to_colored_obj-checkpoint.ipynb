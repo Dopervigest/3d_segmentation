{
 "cells": [
  {
   "cell_type": "code",
   "execution_count": 55,
   "id": "18a959ad-5e03-49e0-96e5-6bba757102f4",
   "metadata": {},
   "outputs": [],
   "source": [
    "import os\n",
    "import trimesh\n",
    "import numpy as np\n",
    "import pyvista as pv"
   ]
  },
  {
   "cell_type": "code",
   "execution_count": 56,
   "id": "51d6d825-daff-4f4a-a905-1e81dfb03b40",
   "metadata": {},
   "outputs": [],
   "source": [
    "dir_in = './data_for_transfer_learning/vtu/'\n",
    "dir_out = './data_for_transfer_learning/obj/'"
   ]
  },
  {
   "cell_type": "code",
   "execution_count": 70,
   "id": "b90bbfc6-6dab-4a12-b1ef-030d31072a9b",
   "metadata": {},
   "outputs": [],
   "source": [
    "for i in os.listdir(dir_in):\n",
    "    mesh = pv.read(dir_in + i)    \n",
    "    surface = mesh.extract_surface()\n",
    "    name = i[:-4]\n",
    "\n",
    "    path = dir_out + name + '.obj'\n",
    "    pv.save_meshio(filename= path, mesh = surface, file_format='obj')\n",
    "\n",
    "    classes = surface['For Separating']\n",
    "\n",
    "    mesh = trimesh.load(path)\n",
    "    orig_colors = mesh.visual.vertex_colors\n",
    "    \n",
    "    for i in range(len(classes)):\n",
    "        if classes[i] == 3:\n",
    "            orig_colors[i] = [255, 0, 0, 255]\n",
    "        elif classes[i] == 4 or classes[i] == 7:\n",
    "            orig_colors[i] = [0, 255, 0, 255]\n",
    "        elif classes[i] == 6:\n",
    "            orig_colors[i] = [0, 0, 255, 255]\n",
    "        elif classes[i] == 5:\n",
    "            orig_colors[i] = [150, 150, 150, 255]\n",
    "    \n",
    "    mesh.visual.vertex_colors = orig_colors\n",
    "    file = trimesh.exchange.export.export_mesh(mesh, 'obj', None)\n",
    "    with open(path, mode='w') as f:\n",
    "        f.write(file)\n"
   ]
  }
 ],
 "metadata": {
  "kernelspec": {
   "display_name": "Python 3 (ipykernel)",
   "language": "python",
   "name": "python3"
  },
  "language_info": {
   "codemirror_mode": {
    "name": "ipython",
    "version": 3
   },
   "file_extension": ".py",
   "mimetype": "text/x-python",
   "name": "python",
   "nbconvert_exporter": "python",
   "pygments_lexer": "ipython3",
   "version": "3.11.8"
  }
 },
 "nbformat": 4,
 "nbformat_minor": 5
}
