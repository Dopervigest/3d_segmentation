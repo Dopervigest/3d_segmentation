{
 "cells": [
  {
   "cell_type": "markdown",
   "id": "2bcab633-c43a-44e6-a540-1b7541c3232a",
   "metadata": {},
   "source": [
    "# Converting .vtu to .obj"
   ]
  },
  {
   "cell_type": "code",
   "execution_count": 1,
   "id": "1b8d7a2e-7f45-4bf9-83be-e06342e8e72e",
   "metadata": {},
   "outputs": [],
   "source": [
    "import os\n",
    "import pyvista as pv\n",
    "\n",
    "import trimesh\n",
    "from scripts.dataset import CustomDataset\n",
    "from scripts.models import Segmentation_Network_full\n",
    "\n",
    "import torch\n",
    "import torch.nn as nn\n",
    "\n",
    "model = torch.load('./models/best.pt').cpu()\n",
    "model.eval()\n",
    "\n",
    "\n",
    "dir_in = './data_for_inference/vtu/'\n",
    "dir_out = './data_for_inference/obj/'"
   ]
  },
  {
   "cell_type": "code",
   "execution_count": 2,
   "id": "45e98b6b-f102-404e-8361-77bb6e3ad91e",
   "metadata": {},
   "outputs": [],
   "source": [
    "for i in os.listdir(dir_in):\n",
    "    mesh = pv.read(dir_in + i)    \n",
    "    surface = mesh.extract_surface()\n",
    "    name = i[:-4]\n",
    "    pv.save_meshio(filename=dir_out + name + '.obj', mesh = surface, file_format='obj')"
   ]
  },
  {
   "cell_type": "markdown",
   "id": "a8584975-e4d6-4ff3-b3ef-eb635df3b8a4",
   "metadata": {},
   "source": [
    "# Infering on .obj"
   ]
  },
  {
   "cell_type": "code",
   "execution_count": 3,
   "id": "09f046b4-19dd-416b-8f16-c840c23c9e85",
   "metadata": {},
   "outputs": [
    {
     "data": {
      "text/plain": [
       "['1.obj', '2.obj']"
      ]
     },
     "execution_count": 3,
     "metadata": {},
     "output_type": "execute_result"
    }
   ],
   "source": [
    "# Choose .obj to infer on\n",
    "os.listdir(dir_out)"
   ]
  },
  {
   "cell_type": "code",
   "execution_count": 4,
   "id": "f30916c5-1c7b-4678-94a6-5629351d69dc",
   "metadata": {},
   "outputs": [],
   "source": [
    "name = '2.obj'"
   ]
  },
  {
   "cell_type": "code",
   "execution_count": 5,
   "id": "0aa5bb90-69ec-40d7-bd8a-bfcc9819b69a",
   "metadata": {},
   "outputs": [],
   "source": [
    "datagen = CustomDataset(name = name,\n",
    "                        data_dir = dir_out,\n",
    "                  device='cpu',\n",
    "                  count=20,\n",
    "                  rotate_angle=1,\n",
    "                  dataset = 'custom',\n",
    "                  num_classes=3,\n",
    "                  inference = True,\n",
    "                  return_points = True)"
   ]
  },
  {
   "cell_type": "code",
   "execution_count": 6,
   "id": "bc3417d3-169d-4546-8be8-3caa5c97e719",
   "metadata": {},
   "outputs": [],
   "source": [
    "sdf, colors, points = datagen.get_data()\n",
    "predicted = model(sdf)"
   ]
  },
  {
   "cell_type": "code",
   "execution_count": 7,
   "id": "a9767ede-4779-41bc-ad9c-7a47fb4a2c73",
   "metadata": {},
   "outputs": [],
   "source": [
    "mesh = trimesh.load(dir_out+name)"
   ]
  },
  {
   "cell_type": "code",
   "execution_count": 8,
   "id": "0666d423-7de6-43c9-8546-677327a3b862",
   "metadata": {},
   "outputs": [],
   "source": [
    "def save_mesh_with_color(mesh, new_colors, path):\n",
    "    orig_colors = mesh.visual.vertex_colors\n",
    "    new_colors = torch.argmax(new_colors, dim=1)\n",
    "    for i in range(len(new_colors)):\n",
    "        if new_colors[i] == 0:\n",
    "            orig_colors[i] = [224, 0, 0, 255]\n",
    "        elif new_colors[i] == 1:\n",
    "            orig_colors[i] = [0, 224, 0, 255]\n",
    "        else:\n",
    "    \t    orig_colors[i] = [0, 0, 224, 255]\n",
    "        \n",
    "    mesh.visual.vertex_colors = orig_colors\n",
    "    file = trimesh.exchange.export.export_mesh(mesh, 'obj', None)\n",
    "    with open(path, mode='w') as f:\n",
    "        f.write(file)"
   ]
  },
  {
   "cell_type": "code",
   "execution_count": 9,
   "id": "59210368-b297-4004-a1ef-0574f10c418b",
   "metadata": {},
   "outputs": [],
   "source": [
    "save_mesh_with_color(mesh, predicted, path=f'./predictions/{name[:-4]}_predicted.obj')"
   ]
  },
  {
   "cell_type": "code",
   "execution_count": null,
   "id": "93cf753d-354f-442c-816a-4eca7eee554c",
   "metadata": {},
   "outputs": [],
   "source": []
  }
 ],
 "metadata": {
  "kernelspec": {
   "display_name": "Python 3 (ipykernel)",
   "language": "python",
   "name": "python3"
  },
  "language_info": {
   "codemirror_mode": {
    "name": "ipython",
    "version": 3
   },
   "file_extension": ".py",
   "mimetype": "text/x-python",
   "name": "python",
   "nbconvert_exporter": "python",
   "pygments_lexer": "ipython3",
   "version": "3.11.8"
  }
 },
 "nbformat": 4,
 "nbformat_minor": 5
}
