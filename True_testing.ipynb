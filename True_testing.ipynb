{
 "cells": [
  {
   "cell_type": "code",
   "execution_count": 2,
   "id": "2cdaab24-c74d-4cbf-838b-9e2e64fbd5dc",
   "metadata": {},
   "outputs": [
    {
     "data": {
      "text/plain": [
       "Segmentation_Network_full(\n",
       "  (network): Sequential(\n",
       "    (0): Conv3d(1, 32, kernel_size=(2, 2, 2), stride=(2, 2, 2))\n",
       "    (1): ReLU()\n",
       "    (2): Conv3d(32, 64, kernel_size=(2, 2, 2), stride=(2, 2, 2))\n",
       "    (3): ReLU()\n",
       "    (4): Conv3d(64, 128, kernel_size=(2, 2, 2), stride=(2, 2, 2))\n",
       "    (5): ReLU()\n",
       "    (6): Conv3d(128, 256, kernel_size=(2, 2, 2), stride=(2, 2, 2))\n",
       "    (7): ReLU()\n",
       "    (8): Conv3d(256, 256, kernel_size=(1, 1, 1), stride=(1, 1, 1))\n",
       "    (9): ReLU()\n",
       "    (10): Conv3d(256, 256, kernel_size=(1, 1, 1), stride=(1, 1, 1))\n",
       "    (11): ReLU()\n",
       "    (12): Conv3d(256, 4, kernel_size=(1, 1, 1), stride=(1, 1, 1))\n",
       "    (13): Sigmoid()\n",
       "    (14): Flatten(start_dim=1, end_dim=-1)\n",
       "  )\n",
       ")"
      ]
     },
     "execution_count": 2,
     "metadata": {},
     "output_type": "execute_result"
    }
   ],
   "source": [
    "import os\n",
    "import trimesh\n",
    "import random\n",
    "import torch\n",
    "from tqdm import tqdm\n",
    "import pickle\n",
    "\n",
    "from scripts.utils import save_mesh_with_color_clinical, save_mesh_with_color_acdc, dir_checker\n",
    "from scripts import postprocessing\n",
    "\n",
    "import numpy as np\n",
    "from sklearn.utils import shuffle\n",
    "from sklearn import svm\n",
    "import gc\n",
    "\n",
    "# machine learning\n",
    "from sklearn.linear_model import LogisticRegression\n",
    "from sklearn.svm import SVC, LinearSVC\n",
    "from sklearn.ensemble import RandomForestClassifier\n",
    "from sklearn.neighbors import KNeighborsClassifier\n",
    "from sklearn.naive_bayes import GaussianNB\n",
    "from sklearn.linear_model import Perceptron\n",
    "from sklearn.linear_model import SGDClassifier\n",
    "from sklearn.tree import DecisionTreeClassifier\n",
    "\n",
    "from scripts.models import Segmentation_Network_full\n",
    "\n",
    "model_dir = './models/clinical_no_TL_1'\n",
    "target = 'best' # 'last'\n",
    "model = torch.load(f'{model_dir}/{target}.pt').cpu()\n",
    "model.eval()\n"
   ]
  },
  {
   "cell_type": "code",
   "execution_count": 6,
   "id": "275bb7ec-76f6-4009-b1fd-76a261e8080e",
   "metadata": {
    "scrolled": true
   },
   "outputs": [],
   "source": [
    "sdfs = []\n",
    "colors = []\n",
    "preprocessed_dir = 'TL_prepared_data/sdf'\n",
    "\n",
    "for name in os.listdir(preprocessed_dir):\n",
    "    sdf = torch.load(f'{preprocessed_dir}/{name}/sdf.pt')\n",
    "    sdf = sdf.view(len(sdf), -1)\n",
    "    \n",
    "    color = torch.load(f'{preprocessed_dir}/{name}/color.pt')\n",
    "    color= torch.argmax(color, dim=1)\n",
    "\n",
    "    sdfs.append(sdf)\n",
    "    colors.append(color)\n",
    "    "
   ]
  },
  {
   "cell_type": "code",
   "execution_count": null,
   "id": "4d7cd65a-3426-4686-a5db-923095744c79",
   "metadata": {},
   "outputs": [],
   "source": [
    "model_dir = './models/no_nn/'\n",
    "for m in tqdm(os.listdir(model_dir)):\n",
    "    path_out = './predictions/inference'\n",
    "    dir_in = './data_for_inference/obj/'\n",
    "    name = '045.obj'\n",
    "    \n",
    "    with open(model_dir + m, 'rb') as f:\n",
    "        model = pickle.load(f)\n",
    "\n",
    "    preprocessed_dir = 'TL_prepared_data/sdf'\n",
    "    preprocessed_dir += '/' + name[:-4]\n",
    "    \n",
    "    mesh = trimesh.load(dir_in+name)\n",
    "\n",
    "    sdf = torch.load(f'{preprocessed_dir}/sdf.pt')\n",
    "    sdf = sdf.view(len(sdf), -1)\n",
    "    \n",
    "    colors = torch.load(f'{preprocessed_dir}/color.pt')\n",
    "    colors= torch.argmax(colors, dim=1)\n",
    "\n",
    "    predicted = model.predict(sdf.float())\n",
    "    \n",
    "    name = name[:-4] + '_' + m\n",
    "    \n",
    "    dirname = dir_checker(path_out, name)\n",
    "    save_mesh_with_color_clinical(mesh, colors, path=f'{dirname}/{name[:-4]}_original.obj')\n",
    "    save_mesh_with_color_clinical(mesh, predicted, path=f'{dirname}/{name[:-4]}_predicted.obj')\n",
    "    \n",
    "    mesh = trimesh.load(f'{dirname}/{name[:-4]}_predicted.obj')\n",
    "    \n",
    "    postprocessing(mesh, f'{dirname}/{name[:-4]}_postprocessed.obj')\n",
    "\n"
   ]
  }
 ],
 "metadata": {
  "kernelspec": {
   "display_name": "Python 3 (ipykernel)",
   "language": "python",
   "name": "python3"
  },
  "language_info": {
   "codemirror_mode": {
    "name": "ipython",
    "version": 3
   },
   "file_extension": ".py",
   "mimetype": "text/x-python",
   "name": "python",
   "nbconvert_exporter": "python",
   "pygments_lexer": "ipython3",
   "version": "3.11.8"
  }
 },
 "nbformat": 4,
 "nbformat_minor": 5
}
