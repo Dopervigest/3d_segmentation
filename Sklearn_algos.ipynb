{
 "cells": [
  {
   "cell_type": "code",
   "execution_count": 1,
   "id": "788dbb1a-cb27-4468-9321-f5db93fffb2a",
   "metadata": {},
   "outputs": [
    {
     "data": {
      "text/plain": [
       "((46028, 4096), (46028,), (43632, 4096), (43632,))"
      ]
     },
     "execution_count": 1,
     "metadata": {},
     "output_type": "execute_result"
    }
   ],
   "source": [
    "import h5py\n",
    "import numpy as np\n",
    "\n",
    "import gc\n",
    "import pandas as pd\n",
    "\n",
    "# machine learning\n",
    "from sklearn.utils import shuffle\n",
    "\n",
    "from sklearn.linear_model import LogisticRegression\n",
    "from sklearn.svm import SVC, LinearSVC\n",
    "from sklearn.ensemble import RandomForestClassifier\n",
    "from sklearn.neighbors import KNeighborsClassifier\n",
    "from sklearn.naive_bayes import GaussianNB\n",
    "from sklearn.linear_model import Perceptron\n",
    "from sklearn.linear_model import SGDClassifier\n",
    "from sklearn.tree import DecisionTreeClassifier\n",
    "from sklearn.discriminant_analysis import LinearDiscriminantAnalysis\n",
    "\n",
    "\n",
    "from sklearn.metrics import classification_report, accuracy_score\n",
    "\n",
    "import pickle\n",
    "\n",
    "\n",
    "\n",
    "file_path = './TL_prepared_data/train/data.hdf5'\n",
    "h5_file = h5py.File(file_path)\n",
    "data = h5_file.get('points')\n",
    "target = h5_file.get('labels')\n",
    "\n",
    "tensors = data[:]\n",
    "labels = target[:]\n",
    "\n",
    "tensors = tensors.reshape([len(tensors), -1])\n",
    "labels = np.argmax(labels, axis=1)\n",
    "\n",
    "X_train, Y_train = shuffle(tensors, labels, random_state=0)\n",
    "\n",
    "\n",
    "file_path = './TL_prepared_data/test/data.hdf5'\n",
    "h5_file_1 = h5py.File(file_path)\n",
    "data = h5_file_1.get('points')\n",
    "target = h5_file_1.get('labels')\n",
    "\n",
    "tensors = data[:]\n",
    "labels = target[:]\n",
    "\n",
    "tensors = tensors.reshape([len(tensors), -1])\n",
    "labels = np.argmax(labels, axis=1)\n",
    "\n",
    "tensors, labels = shuffle(tensors, labels, random_state=0)\n",
    "\n",
    "X_test, Y_test = shuffle(tensors, labels, random_state=0)\n",
    "\n",
    "h5_file.close()\n",
    "h5_file_1.close()\n",
    "\n",
    "data, target, tensors, labels = None, None, None, None\n",
    "gc.collect()\n",
    "\n",
    "X_train.shape, Y_train.shape, X_test.shape, Y_test.shape"
   ]
  },
  {
   "cell_type": "code",
   "execution_count": 2,
   "id": "43f7376c-aecc-4f21-ac69-43afab71c339",
   "metadata": {},
   "outputs": [
    {
     "name": "stdout",
     "output_type": "stream",
     "text": [
      "acuracy: 0.7696644664466447\n",
      "              precision    recall  f1-score   support\n",
      "\n",
      "           0       0.73      0.76      0.75     10908\n",
      "           1       0.77      0.79      0.78     10908\n",
      "           2       0.78      0.68      0.73     10908\n",
      "           3       0.80      0.85      0.82     10908\n",
      "\n",
      "    accuracy                           0.77     43632\n",
      "   macro avg       0.77      0.77      0.77     43632\n",
      "weighted avg       0.77      0.77      0.77     43632\n",
      "\n"
     ]
    }
   ],
   "source": [
    "# LDA\n",
    "\n",
    "lda = LinearDiscriminantAnalysis()\n",
    "lda.fit(X_train, Y_train)\n",
    "\n",
    "acc_lda = round(lda.score(X_train, Y_train) * 100, 2)\n",
    "\n",
    "# save\n",
    "with open('./models/no_nn/lda.pkl','wb') as f:\n",
    "    pickle.dump(lda,f)\n",
    "\n",
    "Y_pred = lda.predict(X_test)\n",
    "test_acc_lda = accuracy_score(Y_test,y_pred=Y_pred)\n",
    "print(\"acuracy:\", test_acc_lda)\n",
    "print(classification_report(Y_test, y_pred=Y_pred))"
   ]
  },
  {
   "cell_type": "code",
   "execution_count": 3,
   "id": "5c14a5b9-122c-4be7-8bc2-6f4c3b92a985",
   "metadata": {
    "scrolled": true
   },
   "outputs": [
    {
     "name": "stderr",
     "output_type": "stream",
     "text": [
      "/home/vlad/anaconda3/envs/torch/lib/python3.11/site-packages/sklearn/linear_model/_logistic.py:469: ConvergenceWarning: lbfgs failed to converge (status=1):\n",
      "STOP: TOTAL NO. of ITERATIONS REACHED LIMIT.\n",
      "\n",
      "Increase the number of iterations (max_iter) or scale the data as shown in:\n",
      "    https://scikit-learn.org/stable/modules/preprocessing.html\n",
      "Please also refer to the documentation for alternative solver options:\n",
      "    https://scikit-learn.org/stable/modules/linear_model.html#logistic-regression\n",
      "  n_iter_i = _check_optimize_result(\n"
     ]
    },
    {
     "name": "stdout",
     "output_type": "stream",
     "text": [
      "acuracy: 0.7911853685368537\n",
      "              precision    recall  f1-score   support\n",
      "\n",
      "           0       0.80      0.77      0.78     10908\n",
      "           1       0.76      0.78      0.77     10908\n",
      "           2       0.81      0.74      0.78     10908\n",
      "           3       0.80      0.87      0.83     10908\n",
      "\n",
      "    accuracy                           0.79     43632\n",
      "   macro avg       0.79      0.79      0.79     43632\n",
      "weighted avg       0.79      0.79      0.79     43632\n",
      "\n"
     ]
    }
   ],
   "source": [
    "# Logistic Regression\n",
    "\n",
    "logreg = LogisticRegression()\n",
    "logreg.fit(X_train, Y_train)\n",
    "acc_log = round(logreg.score(X_train, Y_train) * 100, 2)\n",
    "\n",
    "# save\n",
    "with open('./models/no_nn/log_reg.pkl','wb') as f:\n",
    "    pickle.dump(logreg,f)\n",
    "\n",
    "Y_pred = logreg.predict(X_test)\n",
    "test_acc_log = accuracy_score(Y_test,y_pred=Y_pred)\n",
    "print(\"acuracy:\", test_acc_log)\n",
    "print(classification_report(Y_test, y_pred=Y_pred))"
   ]
  },
  {
   "cell_type": "code",
   "execution_count": 4,
   "id": "39e9bafe-1b68-4405-b29f-97b2510b1acf",
   "metadata": {},
   "outputs": [
    {
     "name": "stdout",
     "output_type": "stream",
     "text": [
      "acuracy: 0.9337871287128713\n",
      "              precision    recall  f1-score   support\n",
      "\n",
      "           0       0.97      0.94      0.96     10908\n",
      "           1       0.99      0.91      0.95     10908\n",
      "           2       0.96      0.92      0.94     10908\n",
      "           3       0.84      0.96      0.90     10908\n",
      "\n",
      "    accuracy                           0.93     43632\n",
      "   macro avg       0.94      0.93      0.93     43632\n",
      "weighted avg       0.94      0.93      0.93     43632\n",
      "\n"
     ]
    }
   ],
   "source": [
    "# Support Vector Machines\n",
    "\n",
    "svc = SVC()\n",
    "svc.fit(X_train, Y_train)\n",
    "Y_pred = svc.predict(X_test)\n",
    "acc_svc = round(svc.score(X_train, Y_train) * 100, 2)\n",
    "acc_svc\n",
    "\n",
    "# save\n",
    "with open('./models/no_nn/svc.pkl','wb') as f:\n",
    "    pickle.dump(svc,f)\n",
    "\n",
    "Y_pred = svc.predict(X_test)\n",
    "test_acc_svc = accuracy_score(Y_test,y_pred=Y_pred)\n",
    "print(\"acuracy:\", test_acc_svc)\n",
    "print(classification_report(Y_test, y_pred=Y_pred))"
   ]
  },
  {
   "cell_type": "code",
   "execution_count": 5,
   "id": "e79b96db-0949-4100-8e25-2e5f7177a8e2",
   "metadata": {},
   "outputs": [
    {
     "name": "stdout",
     "output_type": "stream",
     "text": [
      "acuracy: 0.9023881554822148\n",
      "              precision    recall  f1-score   support\n",
      "\n",
      "           0       0.95      0.92      0.94     10908\n",
      "           1       0.94      0.90      0.92     10908\n",
      "           2       0.93      0.88      0.90     10908\n",
      "           3       0.81      0.91      0.86     10908\n",
      "\n",
      "    accuracy                           0.90     43632\n",
      "   macro avg       0.91      0.90      0.90     43632\n",
      "weighted avg       0.91      0.90      0.90     43632\n",
      "\n"
     ]
    }
   ],
   "source": [
    "# KNeighbors\n",
    "\n",
    "knn = KNeighborsClassifier(n_neighbors = 3)\n",
    "knn.fit(X_train, Y_train)\n",
    "Y_pred = knn.predict(X_test)\n",
    "acc_knn = round(knn.score(X_train, Y_train) * 100, 2)\n",
    "\n",
    "\n",
    "# save\n",
    "with open('./models/no_nn/knn.pkl','wb') as f:\n",
    "    pickle.dump(knn,f)\n",
    "\n",
    "Y_pred = knn.predict(X_test)\n",
    "test_acc_knn = accuracy_score(Y_test,y_pred=Y_pred)\n",
    "print(\"acuracy:\", test_acc_knn)\n",
    "print(classification_report(Y_test, y_pred=Y_pred))"
   ]
  },
  {
   "cell_type": "code",
   "execution_count": 6,
   "id": "86a82eb2-f7bb-4ce4-8d18-461155fddbc7",
   "metadata": {},
   "outputs": [
    {
     "name": "stdout",
     "output_type": "stream",
     "text": [
      "acuracy: 0.688027136046938\n",
      "              precision    recall  f1-score   support\n",
      "\n",
      "           0       0.69      0.70      0.70     10908\n",
      "           1       0.72      0.63      0.67     10908\n",
      "           2       0.70      0.61      0.65     10908\n",
      "           3       0.65      0.81      0.72     10908\n",
      "\n",
      "    accuracy                           0.69     43632\n",
      "   macro avg       0.69      0.69      0.69     43632\n",
      "weighted avg       0.69      0.69      0.69     43632\n",
      "\n"
     ]
    }
   ],
   "source": [
    "# Gaussian Naive Bayes\n",
    "\n",
    "gaussian = GaussianNB()\n",
    "gaussian.fit(X_train, Y_train)\n",
    "Y_pred = gaussian.predict(X_test)\n",
    "acc_gaussian = round(gaussian.score(X_train, Y_train) * 100, 2)\n",
    "acc_gaussian\n",
    "\n",
    "\n",
    "# save\n",
    "with open('./models/no_nn/gaussian.pkl','wb') as f:\n",
    "    pickle.dump(gaussian,f)\n",
    "\n",
    "Y_pred = gaussian.predict(X_test)\n",
    "test_acc_gaussian = accuracy_score(Y_test,y_pred=Y_pred)\n",
    "print(\"acuracy:\", test_acc_gaussian)\n",
    "print(classification_report(Y_test, y_pred=Y_pred))"
   ]
  },
  {
   "cell_type": "code",
   "execution_count": 7,
   "id": "b26dc856-cecf-48ab-9d00-c1f5425fcc4b",
   "metadata": {},
   "outputs": [
    {
     "name": "stdout",
     "output_type": "stream",
     "text": [
      "acuracy: 0.7131004767143381\n",
      "              precision    recall  f1-score   support\n",
      "\n",
      "           0       0.84      0.58      0.68     10908\n",
      "           1       0.58      0.88      0.70     10908\n",
      "           2       0.75      0.69      0.72     10908\n",
      "           3       0.81      0.70      0.75     10908\n",
      "\n",
      "    accuracy                           0.71     43632\n",
      "   macro avg       0.74      0.71      0.71     43632\n",
      "weighted avg       0.74      0.71      0.71     43632\n",
      "\n"
     ]
    }
   ],
   "source": [
    "# Perceptron\n",
    "\n",
    "perceptron = Perceptron()\n",
    "perceptron.fit(X_train, Y_train)\n",
    "Y_pred = perceptron.predict(X_test)\n",
    "acc_perceptron = round(perceptron.score(X_train, Y_train) * 100, 2)\n",
    "acc_perceptron\n",
    "\n",
    "# save\n",
    "with open('./models/no_nn/perceptron.pkl','wb') as f:\n",
    "    pickle.dump(perceptron,f)\n",
    "\n",
    "Y_pred = perceptron.predict(X_test)\n",
    "test_acc_perceptron = accuracy_score(Y_test,y_pred=Y_pred)\n",
    "print(\"acuracy:\", test_acc_perceptron)\n",
    "print(classification_report(Y_test, y_pred=Y_pred))"
   ]
  },
  {
   "cell_type": "code",
   "execution_count": 8,
   "id": "21612d44-8091-4529-9d0f-c7338256bc20",
   "metadata": {},
   "outputs": [
    {
     "name": "stderr",
     "output_type": "stream",
     "text": [
      "/home/vlad/anaconda3/envs/torch/lib/python3.11/site-packages/sklearn/svm/_classes.py:31: FutureWarning: The default value of `dual` will change from `True` to `'auto'` in 1.5. Set the value of `dual` explicitly to suppress the warning.\n",
      "  warnings.warn(\n",
      "/home/vlad/anaconda3/envs/torch/lib/python3.11/site-packages/sklearn/svm/_base.py:1237: ConvergenceWarning: Liblinear failed to converge, increase the number of iterations.\n",
      "  warnings.warn(\n"
     ]
    },
    {
     "name": "stdout",
     "output_type": "stream",
     "text": [
      "acuracy: 0.7981298129812981\n",
      "              precision    recall  f1-score   support\n",
      "\n",
      "           0       0.79      0.78      0.79     10908\n",
      "           1       0.81      0.79      0.80     10908\n",
      "           2       0.79      0.74      0.77     10908\n",
      "           3       0.80      0.88      0.83     10908\n",
      "\n",
      "    accuracy                           0.80     43632\n",
      "   macro avg       0.80      0.80      0.80     43632\n",
      "weighted avg       0.80      0.80      0.80     43632\n",
      "\n"
     ]
    }
   ],
   "source": [
    "# Linear SVC\n",
    "\n",
    "linear_svc = LinearSVC()\n",
    "linear_svc.fit(X_train, Y_train)\n",
    "Y_pred = linear_svc.predict(X_test)\n",
    "acc_linear_svc = round(linear_svc.score(X_train, Y_train) * 100, 2)\n",
    "acc_linear_svc\n",
    "\n",
    "\n",
    "# save\n",
    "with open('./models/no_nn/linear_svc.pkl','wb') as f:\n",
    "    pickle.dump(linear_svc,f)\n",
    "\n",
    "Y_pred = linear_svc.predict(X_test)\n",
    "test_acc_linear_svc = accuracy_score(Y_test,y_pred=Y_pred)\n",
    "print(\"acuracy:\", test_acc_linear_svc)\n",
    "print(classification_report(Y_test, y_pred=Y_pred))"
   ]
  },
  {
   "cell_type": "code",
   "execution_count": 9,
   "id": "4aafa077-8f8a-4539-9769-db83d12daada",
   "metadata": {},
   "outputs": [
    {
     "name": "stdout",
     "output_type": "stream",
     "text": [
      "acuracy: 0.7842638430509717\n",
      "              precision    recall  f1-score   support\n",
      "\n",
      "           0       0.73      0.81      0.77     10908\n",
      "           1       0.86      0.67      0.76     10908\n",
      "           2       0.75      0.77      0.76     10908\n",
      "           3       0.81      0.88      0.85     10908\n",
      "\n",
      "    accuracy                           0.78     43632\n",
      "   macro avg       0.79      0.78      0.78     43632\n",
      "weighted avg       0.79      0.78      0.78     43632\n",
      "\n"
     ]
    }
   ],
   "source": [
    "# Stochastic Gradient Descent\n",
    "\n",
    "sgd = SGDClassifier()\n",
    "sgd.fit(X_train, Y_train)\n",
    "Y_pred = sgd.predict(X_test)\n",
    "acc_sgd = round(sgd.score(X_train, Y_train) * 100, 2)\n",
    "acc_sgd\n",
    "\n",
    "# save\n",
    "with open('./models/no_nn/sgd.pkl','wb') as f:\n",
    "    pickle.dump(sgd,f)\n",
    "\n",
    "Y_pred = sgd.predict(X_test)\n",
    "test_acc_sgd = accuracy_score(Y_test,y_pred=Y_pred)\n",
    "print(\"acuracy:\", test_acc_sgd)\n",
    "print(classification_report(Y_test, y_pred=Y_pred))"
   ]
  },
  {
   "cell_type": "code",
   "execution_count": 10,
   "id": "d4d8d723-8413-47f5-8a17-665bcf0e8036",
   "metadata": {},
   "outputs": [
    {
     "name": "stdout",
     "output_type": "stream",
     "text": [
      "acuracy: 0.8519206087275394\n",
      "              precision    recall  f1-score   support\n",
      "\n",
      "           0       0.85      0.87      0.86     10908\n",
      "           1       0.91      0.89      0.90     10908\n",
      "           2       0.85      0.82      0.84     10908\n",
      "           3       0.80      0.82      0.81     10908\n",
      "\n",
      "    accuracy                           0.85     43632\n",
      "   macro avg       0.85      0.85      0.85     43632\n",
      "weighted avg       0.85      0.85      0.85     43632\n",
      "\n"
     ]
    }
   ],
   "source": [
    "# Decision Tree\n",
    "\n",
    "decision_tree = DecisionTreeClassifier()\n",
    "decision_tree.fit(X_train, Y_train)\n",
    "Y_pred = decision_tree.predict(X_test)\n",
    "acc_decision_tree = round(decision_tree.score(X_train, Y_train) * 100, 2)\n",
    "acc_decision_tree\n",
    "\n",
    "\n",
    "# save\n",
    "with open('./models/no_nn/decision_tree.pkl','wb') as f:\n",
    "    pickle.dump(decision_tree,f)\n",
    "\n",
    "Y_pred = decision_tree.predict(X_test)\n",
    "test_acc_decision_tree = accuracy_score(Y_test,y_pred=Y_pred)\n",
    "print(\"acuracy:\", test_acc_decision_tree)\n",
    "print(classification_report(Y_test, y_pred=Y_pred))"
   ]
  },
  {
   "cell_type": "code",
   "execution_count": 11,
   "id": "76d841f2-d330-4322-be9c-16e37974d59a",
   "metadata": {},
   "outputs": [
    {
     "name": "stdout",
     "output_type": "stream",
     "text": [
      "acuracy: 0.9329620462046204\n",
      "              precision    recall  f1-score   support\n",
      "\n",
      "           0       0.95      0.94      0.95     10908\n",
      "           1       0.99      0.92      0.96     10908\n",
      "           2       0.96      0.91      0.93     10908\n",
      "           3       0.85      0.95      0.90     10908\n",
      "\n",
      "    accuracy                           0.93     43632\n",
      "   macro avg       0.94      0.93      0.93     43632\n",
      "weighted avg       0.94      0.93      0.93     43632\n",
      "\n"
     ]
    }
   ],
   "source": [
    "# Random Forest\n",
    "\n",
    "random_forest = RandomForestClassifier(n_estimators=100)\n",
    "random_forest.fit(X_train, Y_train)\n",
    "Y_pred = random_forest.predict(X_test)\n",
    "random_forest.score(X_train, Y_train)\n",
    "acc_random_forest = round(random_forest.score(X_train, Y_train) * 100, 2)\n",
    "acc_random_forest\n",
    "\n",
    "\n",
    "# save\n",
    "with open('./models/no_nn/random_forest.pkl','wb') as f:\n",
    "    pickle.dump(random_forest,f)\n",
    "\n",
    "Y_pred = random_forest.predict(X_test)\n",
    "test_acc_random_forest = accuracy_score(Y_test,y_pred=Y_pred)\n",
    "print(\"acuracy:\", test_acc_random_forest)\n",
    "print(classification_report(Y_test, y_pred=Y_pred))"
   ]
  },
  {
   "cell_type": "code",
   "execution_count": 12,
   "id": "ff4a5dcb-0cf2-49eb-a5fc-2de707cbd310",
   "metadata": {},
   "outputs": [
    {
     "data": {
      "text/html": [
       "<div>\n",
       "<style scoped>\n",
       "    .dataframe tbody tr th:only-of-type {\n",
       "        vertical-align: middle;\n",
       "    }\n",
       "\n",
       "    .dataframe tbody tr th {\n",
       "        vertical-align: top;\n",
       "    }\n",
       "\n",
       "    .dataframe thead th {\n",
       "        text-align: right;\n",
       "    }\n",
       "</style>\n",
       "<table border=\"1\" class=\"dataframe\">\n",
       "  <thead>\n",
       "    <tr style=\"text-align: right;\">\n",
       "      <th></th>\n",
       "      <th>Model</th>\n",
       "      <th>Score</th>\n",
       "    </tr>\n",
       "  </thead>\n",
       "  <tbody>\n",
       "    <tr>\n",
       "      <th>3</th>\n",
       "      <td>Random Forest</td>\n",
       "      <td>100.00</td>\n",
       "    </tr>\n",
       "    <tr>\n",
       "      <th>8</th>\n",
       "      <td>Decision Tree</td>\n",
       "      <td>100.00</td>\n",
       "    </tr>\n",
       "    <tr>\n",
       "      <th>1</th>\n",
       "      <td>KNN</td>\n",
       "      <td>95.21</td>\n",
       "    </tr>\n",
       "    <tr>\n",
       "      <th>0</th>\n",
       "      <td>Support Vector Machines</td>\n",
       "      <td>94.50</td>\n",
       "    </tr>\n",
       "    <tr>\n",
       "      <th>7</th>\n",
       "      <td>Linear SVC</td>\n",
       "      <td>85.37</td>\n",
       "    </tr>\n",
       "    <tr>\n",
       "      <th>9</th>\n",
       "      <td>Linear Discriminant Analysis</td>\n",
       "      <td>84.63</td>\n",
       "    </tr>\n",
       "    <tr>\n",
       "      <th>6</th>\n",
       "      <td>Stochastic Gradient Decent</td>\n",
       "      <td>80.20</td>\n",
       "    </tr>\n",
       "    <tr>\n",
       "      <th>2</th>\n",
       "      <td>Logistic Regression</td>\n",
       "      <td>80.14</td>\n",
       "    </tr>\n",
       "    <tr>\n",
       "      <th>5</th>\n",
       "      <td>Perceptron</td>\n",
       "      <td>73.04</td>\n",
       "    </tr>\n",
       "    <tr>\n",
       "      <th>4</th>\n",
       "      <td>Naive Bayes</td>\n",
       "      <td>69.14</td>\n",
       "    </tr>\n",
       "  </tbody>\n",
       "</table>\n",
       "</div>"
      ],
      "text/plain": [
       "                          Model   Score\n",
       "3                 Random Forest  100.00\n",
       "8                 Decision Tree  100.00\n",
       "1                           KNN   95.21\n",
       "0       Support Vector Machines   94.50\n",
       "7                    Linear SVC   85.37\n",
       "9  Linear Discriminant Analysis   84.63\n",
       "6    Stochastic Gradient Decent   80.20\n",
       "2           Logistic Regression   80.14\n",
       "5                    Perceptron   73.04\n",
       "4                   Naive Bayes   69.14"
      ]
     },
     "execution_count": 12,
     "metadata": {},
     "output_type": "execute_result"
    }
   ],
   "source": [
    "# Convergence\n",
    "\n",
    "models = pd.DataFrame({\n",
    "    'Model': ['Support Vector Machines', 'KNN', 'Logistic Regression', \n",
    "              'Random Forest', 'Naive Bayes', 'Perceptron', \n",
    "              'Stochastic Gradient Decent', 'Linear SVC', \n",
    "              'Decision Tree', 'Linear Discriminant Analysis'],\n",
    "    'Score': [acc_svc, acc_knn, acc_log, \n",
    "              acc_random_forest, acc_gaussian, acc_perceptron, \n",
    "              acc_sgd, acc_linear_svc, acc_decision_tree, acc_lda]})\n",
    "models.sort_values(by='Score', ascending=False)"
   ]
  },
  {
   "cell_type": "code",
   "execution_count": 13,
   "id": "de53f211-87b5-4c44-ab18-c857e0d15bb3",
   "metadata": {},
   "outputs": [
    {
     "data": {
      "text/html": [
       "<div>\n",
       "<style scoped>\n",
       "    .dataframe tbody tr th:only-of-type {\n",
       "        vertical-align: middle;\n",
       "    }\n",
       "\n",
       "    .dataframe tbody tr th {\n",
       "        vertical-align: top;\n",
       "    }\n",
       "\n",
       "    .dataframe thead th {\n",
       "        text-align: right;\n",
       "    }\n",
       "</style>\n",
       "<table border=\"1\" class=\"dataframe\">\n",
       "  <thead>\n",
       "    <tr style=\"text-align: right;\">\n",
       "      <th></th>\n",
       "      <th>Model</th>\n",
       "      <th>Score</th>\n",
       "    </tr>\n",
       "  </thead>\n",
       "  <tbody>\n",
       "    <tr>\n",
       "      <th>0</th>\n",
       "      <td>Support Vector Machines</td>\n",
       "      <td>0.933787</td>\n",
       "    </tr>\n",
       "    <tr>\n",
       "      <th>3</th>\n",
       "      <td>Random Forest</td>\n",
       "      <td>0.932962</td>\n",
       "    </tr>\n",
       "    <tr>\n",
       "      <th>1</th>\n",
       "      <td>KNN</td>\n",
       "      <td>0.902388</td>\n",
       "    </tr>\n",
       "    <tr>\n",
       "      <th>8</th>\n",
       "      <td>Decision Tree</td>\n",
       "      <td>0.851921</td>\n",
       "    </tr>\n",
       "    <tr>\n",
       "      <th>7</th>\n",
       "      <td>Linear SVC</td>\n",
       "      <td>0.798130</td>\n",
       "    </tr>\n",
       "    <tr>\n",
       "      <th>2</th>\n",
       "      <td>Logistic Regression</td>\n",
       "      <td>0.791185</td>\n",
       "    </tr>\n",
       "    <tr>\n",
       "      <th>6</th>\n",
       "      <td>Stochastic Gradient Decent</td>\n",
       "      <td>0.784264</td>\n",
       "    </tr>\n",
       "    <tr>\n",
       "      <th>9</th>\n",
       "      <td>Linear Discriminant Analysis</td>\n",
       "      <td>0.769664</td>\n",
       "    </tr>\n",
       "    <tr>\n",
       "      <th>5</th>\n",
       "      <td>Perceptron</td>\n",
       "      <td>0.713100</td>\n",
       "    </tr>\n",
       "    <tr>\n",
       "      <th>4</th>\n",
       "      <td>Naive Bayes</td>\n",
       "      <td>0.688027</td>\n",
       "    </tr>\n",
       "  </tbody>\n",
       "</table>\n",
       "</div>"
      ],
      "text/plain": [
       "                          Model     Score\n",
       "0       Support Vector Machines  0.933787\n",
       "3                 Random Forest  0.932962\n",
       "1                           KNN  0.902388\n",
       "8                 Decision Tree  0.851921\n",
       "7                    Linear SVC  0.798130\n",
       "2           Logistic Regression  0.791185\n",
       "6    Stochastic Gradient Decent  0.784264\n",
       "9  Linear Discriminant Analysis  0.769664\n",
       "5                    Perceptron  0.713100\n",
       "4                   Naive Bayes  0.688027"
      ]
     },
     "execution_count": 13,
     "metadata": {},
     "output_type": "execute_result"
    }
   ],
   "source": [
    "# Test results\n",
    "\n",
    "models = pd.DataFrame({\n",
    "    'Model': ['Support Vector Machines', 'KNN', 'Logistic Regression', \n",
    "              'Random Forest', 'Naive Bayes', 'Perceptron', \n",
    "              'Stochastic Gradient Decent', 'Linear SVC', \n",
    "              'Decision Tree', 'Linear Discriminant Analysis'],\n",
    "    'Score': [test_acc_svc, test_acc_knn, test_acc_log, \n",
    "              test_acc_random_forest, test_acc_gaussian, test_acc_perceptron, \n",
    "              test_acc_sgd, test_acc_linear_svc, test_acc_decision_tree, test_acc_lda]})\n",
    "models.sort_values(by='Score', ascending=False)"
   ]
  },
  {
   "cell_type": "code",
   "execution_count": null,
   "id": "ab895d04-dd29-45c3-81ca-15d34c254d03",
   "metadata": {},
   "outputs": [],
   "source": []
  },
  {
   "cell_type": "code",
   "execution_count": null,
   "id": "00d9f2ac-a1f2-4b83-8a67-8b5953976992",
   "metadata": {},
   "outputs": [],
   "source": []
  },
  {
   "cell_type": "code",
   "execution_count": null,
   "id": "f0ef1d16-827c-4b50-82a5-5c25934226ff",
   "metadata": {},
   "outputs": [],
   "source": []
  },
  {
   "cell_type": "code",
   "execution_count": 1,
   "id": "741040f5-e458-4cb8-bb7a-9ebc67f226bf",
   "metadata": {},
   "outputs": [],
   "source": [
    "lda = 0.7696644664466447\n",
    "logistic = 0.7911853685368537\n",
    "svm = 0.9337871287128713\n",
    "kn = 0.9023881554822148\n",
    "gaus = 0.688027136046938\n",
    "perc = 0.7131004767143381\n",
    "linear = 0.7981298129812981\n",
    "sgd = 0.7842638430509717\n",
    "dtree = 0.8519206087275394\n",
    "rf = 0.9329620462046204\n",
    "\n",
    "cnn = 0.9375916758342501"
   ]
  },
  {
   "cell_type": "code",
   "execution_count": 2,
   "id": "5d26023c-2438-479b-8dfc-a0f40378f2ba",
   "metadata": {},
   "outputs": [
    {
     "data": {
      "text/html": [
       "<div>\n",
       "<style scoped>\n",
       "    .dataframe tbody tr th:only-of-type {\n",
       "        vertical-align: middle;\n",
       "    }\n",
       "\n",
       "    .dataframe tbody tr th {\n",
       "        vertical-align: top;\n",
       "    }\n",
       "\n",
       "    .dataframe thead th {\n",
       "        text-align: right;\n",
       "    }\n",
       "</style>\n",
       "<table border=\"1\" class=\"dataframe\">\n",
       "  <thead>\n",
       "    <tr style=\"text-align: right;\">\n",
       "      <th></th>\n",
       "      <th>Model</th>\n",
       "      <th>Score</th>\n",
       "    </tr>\n",
       "  </thead>\n",
       "  <tbody>\n",
       "    <tr>\n",
       "      <th>10</th>\n",
       "      <td>Convolutional Neural Network</td>\n",
       "      <td>0.937592</td>\n",
       "    </tr>\n",
       "    <tr>\n",
       "      <th>0</th>\n",
       "      <td>Support Vector Machines</td>\n",
       "      <td>0.933787</td>\n",
       "    </tr>\n",
       "    <tr>\n",
       "      <th>3</th>\n",
       "      <td>Random Forest</td>\n",
       "      <td>0.932962</td>\n",
       "    </tr>\n",
       "    <tr>\n",
       "      <th>1</th>\n",
       "      <td>KNN</td>\n",
       "      <td>0.902388</td>\n",
       "    </tr>\n",
       "    <tr>\n",
       "      <th>8</th>\n",
       "      <td>Decision Tree</td>\n",
       "      <td>0.851921</td>\n",
       "    </tr>\n",
       "    <tr>\n",
       "      <th>7</th>\n",
       "      <td>Linear SVC</td>\n",
       "      <td>0.798130</td>\n",
       "    </tr>\n",
       "    <tr>\n",
       "      <th>2</th>\n",
       "      <td>Logistic Regression</td>\n",
       "      <td>0.791185</td>\n",
       "    </tr>\n",
       "    <tr>\n",
       "      <th>6</th>\n",
       "      <td>Stochastic Gradient Decent</td>\n",
       "      <td>0.784264</td>\n",
       "    </tr>\n",
       "    <tr>\n",
       "      <th>9</th>\n",
       "      <td>Linear Discriminant Analysis</td>\n",
       "      <td>0.769664</td>\n",
       "    </tr>\n",
       "    <tr>\n",
       "      <th>5</th>\n",
       "      <td>Perceptron</td>\n",
       "      <td>0.713100</td>\n",
       "    </tr>\n",
       "    <tr>\n",
       "      <th>4</th>\n",
       "      <td>Gaussian Naive Bayes</td>\n",
       "      <td>0.688027</td>\n",
       "    </tr>\n",
       "  </tbody>\n",
       "</table>\n",
       "</div>"
      ],
      "text/plain": [
       "                           Model     Score\n",
       "10  Convolutional Neural Network  0.937592\n",
       "0        Support Vector Machines  0.933787\n",
       "3                  Random Forest  0.932962\n",
       "1                            KNN  0.902388\n",
       "8                  Decision Tree  0.851921\n",
       "7                     Linear SVC  0.798130\n",
       "2            Logistic Regression  0.791185\n",
       "6     Stochastic Gradient Decent  0.784264\n",
       "9   Linear Discriminant Analysis  0.769664\n",
       "5                     Perceptron  0.713100\n",
       "4           Gaussian Naive Bayes  0.688027"
      ]
     },
     "execution_count": 2,
     "metadata": {},
     "output_type": "execute_result"
    }
   ],
   "source": [
    "# Test results\n",
    "import pandas as pd\n",
    "\n",
    "models = pd.DataFrame({\n",
    "    'Model': ['Support Vector Machines', 'KNN', 'Logistic Regression', \n",
    "              'Random Forest', 'Gaussian Naive Bayes', 'Perceptron', \n",
    "              'Stochastic Gradient Decent', 'Linear SVC', \n",
    "              'Decision Tree', 'Linear Discriminant Analysis', 'Convolutional Neural Network'],\n",
    "    'Score': [svm, kn, logistic, \n",
    "              rf, gaus, perc, \n",
    "              sgd, linear, dtree, lda, cnn]})\n",
    "models.sort_values(by='Score', ascending=False)"
   ]
  },
  {
   "cell_type": "code",
   "execution_count": 19,
   "id": "a83c7375-e6c2-4bc1-a2b1-2ab3dd17e5f5",
   "metadata": {},
   "outputs": [],
   "source": [
    "import json\n",
    "\n",
    "# Opening JSON file\n",
    "with open('./models/result.json') as f:\n",
    "    data = json.load(f)\n"
   ]
  },
  {
   "cell_type": "code",
   "execution_count": 20,
   "id": "8835afd3-219a-4c9c-a038-fb497f6b80fe",
   "metadata": {},
   "outputs": [
    {
     "data": {
      "text/plain": [
       "dict_keys(['ACDC', 'clinical_no_TL_resnet152', 'clinical_TL', 'ACDC_resnet18', 'ACDC_Unet', 'clinical_no_TL_resnet16', 'clinical_TL_resnet1', 'clinical_TL_resnet34', 'ACDC_resnet50', 'clinical_no_TL_Unet', 'ACDC_resnet34', 'clinical_TL_resnet50', 'clinical_no_TL', 'clinical_no_TL_resnet18', 'clinical_TL_resnet18', 'clinical_no_TL_resnet101', 'ACDC_resnet1', 'ACDC_resnet101', 'clinical_TL_resnet101', 'clinical_no_TL_resnet34', 'clinical_no_TL_resnet50', 'clinical_TL_Unet'])"
      ]
     },
     "execution_count": 20,
     "metadata": {},
     "output_type": "execute_result"
    }
   ],
   "source": [
    "data.keys()"
   ]
  },
  {
   "cell_type": "code",
   "execution_count": 21,
   "id": "e01f0bac-dfca-4a36-b759-79dd3a2b1085",
   "metadata": {},
   "outputs": [],
   "source": [
    "dict_ = {}\n",
    "for key in data.keys():\n",
    "    if 'clinical_no_TL_' in key:\n",
    "        dict_[key[15:]] = data[key]"
   ]
  },
  {
   "cell_type": "code",
   "execution_count": 22,
   "id": "91c54078-e241-4cdf-affb-b2f0c655d7a2",
   "metadata": {},
   "outputs": [
    {
     "data": {
      "text/plain": [
       "{'resnet152': 0.9432526585991932,\n",
       " 'resnet16': 0.9441464979831315,\n",
       " 'Unet': 0.9408920058672534,\n",
       " 'resnet18': 0.943458929226256,\n",
       " 'resnet101': 0.9435276861019436,\n",
       " 'resnet34': 0.9421525485881922,\n",
       " 'resnet50': 0.941487898789879}"
      ]
     },
     "execution_count": 22,
     "metadata": {},
     "output_type": "execute_result"
    }
   ],
   "source": [
    "dict_"
   ]
  },
  {
   "cell_type": "code",
   "execution_count": null,
   "id": "754b12a4-f4df-4cde-8b4c-fd98ed417157",
   "metadata": {},
   "outputs": [],
   "source": []
  },
  {
   "cell_type": "code",
   "execution_count": 23,
   "id": "dc055878-24ec-465b-baa0-f36b2f19b751",
   "metadata": {},
   "outputs": [
    {
     "data": {
      "text/html": [
       "<div>\n",
       "<style scoped>\n",
       "    .dataframe tbody tr th:only-of-type {\n",
       "        vertical-align: middle;\n",
       "    }\n",
       "\n",
       "    .dataframe tbody tr th {\n",
       "        vertical-align: top;\n",
       "    }\n",
       "\n",
       "    .dataframe thead th {\n",
       "        text-align: right;\n",
       "    }\n",
       "</style>\n",
       "<table border=\"1\" class=\"dataframe\">\n",
       "  <thead>\n",
       "    <tr style=\"text-align: right;\">\n",
       "      <th></th>\n",
       "      <th>Model</th>\n",
       "      <th>Score</th>\n",
       "    </tr>\n",
       "  </thead>\n",
       "  <tbody>\n",
       "    <tr>\n",
       "      <th>1</th>\n",
       "      <td>resnet16</td>\n",
       "      <td>0.944146</td>\n",
       "    </tr>\n",
       "    <tr>\n",
       "      <th>4</th>\n",
       "      <td>resnet101</td>\n",
       "      <td>0.943528</td>\n",
       "    </tr>\n",
       "    <tr>\n",
       "      <th>3</th>\n",
       "      <td>resnet18</td>\n",
       "      <td>0.943459</td>\n",
       "    </tr>\n",
       "    <tr>\n",
       "      <th>0</th>\n",
       "      <td>resnet152</td>\n",
       "      <td>0.943253</td>\n",
       "    </tr>\n",
       "    <tr>\n",
       "      <th>5</th>\n",
       "      <td>resnet34</td>\n",
       "      <td>0.942153</td>\n",
       "    </tr>\n",
       "    <tr>\n",
       "      <th>6</th>\n",
       "      <td>resnet50</td>\n",
       "      <td>0.941488</td>\n",
       "    </tr>\n",
       "    <tr>\n",
       "      <th>2</th>\n",
       "      <td>Unet</td>\n",
       "      <td>0.940892</td>\n",
       "    </tr>\n",
       "  </tbody>\n",
       "</table>\n",
       "</div>"
      ],
      "text/plain": [
       "       Model     Score\n",
       "1   resnet16  0.944146\n",
       "4  resnet101  0.943528\n",
       "3   resnet18  0.943459\n",
       "0  resnet152  0.943253\n",
       "5   resnet34  0.942153\n",
       "6   resnet50  0.941488\n",
       "2       Unet  0.940892"
      ]
     },
     "execution_count": 23,
     "metadata": {},
     "output_type": "execute_result"
    }
   ],
   "source": [
    "import pandas as pd\n",
    "\n",
    "models = pd.DataFrame({\n",
    "    'Model': dict_.keys(),\n",
    "    'Score': dict_.values()})\n",
    "models.sort_values(by='Score', ascending=False)"
   ]
  },
  {
   "cell_type": "code",
   "execution_count": null,
   "id": "7eb7a191-7d32-48fb-89a8-146aa16fd278",
   "metadata": {},
   "outputs": [],
   "source": []
  }
 ],
 "metadata": {
  "kernelspec": {
   "display_name": "Python 3 (ipykernel)",
   "language": "python",
   "name": "python3"
  },
  "language_info": {
   "codemirror_mode": {
    "name": "ipython",
    "version": 3
   },
   "file_extension": ".py",
   "mimetype": "text/x-python",
   "name": "python",
   "nbconvert_exporter": "python",
   "pygments_lexer": "ipython3",
   "version": "3.11.8"
  }
 },
 "nbformat": 4,
 "nbformat_minor": 5
}
